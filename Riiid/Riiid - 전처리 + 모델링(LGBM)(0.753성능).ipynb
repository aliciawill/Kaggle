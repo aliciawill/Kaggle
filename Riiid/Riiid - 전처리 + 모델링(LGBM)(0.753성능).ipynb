{
 "cells": [
  {
   "cell_type": "code",
   "execution_count": 3,
   "metadata": {
    "ExecuteTime": {
     "end_time": "2020-10-26T08:37:56.602895Z",
     "start_time": "2020-10-26T08:37:56.268708Z"
    }
   },
   "outputs": [],
   "source": [
    "# import riiideducation\n",
    "# import dask.dataframe as dd\n",
    "import pandas as pd\n",
    "import numpy as np\n",
    "import lightgbm as lgb\n",
    "import xgboost as xgb\n",
    "from sklearn.preprocessing import LabelEncoder\n",
    "from sklearn.metrics import auc, accuracy_score, confusion_matrix, mean_squared_error, f1_score, roc_auc_score\n",
    "from sklearn.model_selection import cross_val_score, GridSearchCV, KFold, RandomizedSearchCV, train_test_split\n",
    "import matplotlib.pyplot as plt\n",
    "import seaborn as sns\n",
    "\n",
    "plt.style.use('ggplot') #ggplot스타일 사용\n",
    "plt.rc('axes', unicode_minus=False)\n",
    "\n",
    "data_file_path = './Riiid_dataset/riiid-test-answer-prediction/'"
   ]
  },
  {
   "cell_type": "code",
   "execution_count": 7,
   "metadata": {
    "ExecuteTime": {
     "end_time": "2020-10-26T08:44:13.820003Z",
     "start_time": "2020-10-26T08:42:21.823338Z"
    }
   },
   "outputs": [],
   "source": [
    "train = pd.read_csv(data_file_path + 'train.csv',\n",
    "                   usecols=[1, 2, 3, 4, 5, 7, 8, 9],\n",
    "                   dtype={'timestamp': 'int64',\n",
    "                          'user_id': 'int32',\n",
    "                          'content_id': 'int16',\n",
    "                          'content_type_id': 'int8',\n",
    "                          'task_container_id' : 'int16',\n",
    "                          'answered_correctly':'int8',\n",
    "                          'prior_question_elapsed_time': 'float32',\n",
    "                          'prior_question_had_explanation': 'boolean'}\n",
    "                   )\n",
    "sub = pd.read_csv(f'{data_file_path}/example_sample_submission.csv')\n",
    "lec = pd.read_csv(f'{data_file_path}/lectures.csv')\n",
    "questions_df = pd.read_csv(f'{data_file_path}/questions.csv')\n",
    "test = pd.read_csv(f'{data_file_path}/example_test.csv')"
   ]
  },
  {
   "cell_type": "code",
   "execution_count": 217,
   "metadata": {
    "ExecuteTime": {
     "end_time": "2020-10-17T15:01:38.807368Z",
     "start_time": "2020-10-17T15:01:38.788047Z"
    }
   },
   "outputs": [
    {
     "data": {
      "text/html": [
       "<div>\n",
       "<style scoped>\n",
       "    .dataframe tbody tr th:only-of-type {\n",
       "        vertical-align: middle;\n",
       "    }\n",
       "\n",
       "    .dataframe tbody tr th {\n",
       "        vertical-align: top;\n",
       "    }\n",
       "\n",
       "    .dataframe thead th {\n",
       "        text-align: right;\n",
       "    }\n",
       "</style>\n",
       "<table border=\"1\" class=\"dataframe\">\n",
       "  <thead>\n",
       "    <tr style=\"text-align: right;\">\n",
       "      <th></th>\n",
       "      <th>timestamp</th>\n",
       "      <th>user_id</th>\n",
       "      <th>content_id</th>\n",
       "      <th>content_type_id</th>\n",
       "      <th>answered_correctly</th>\n",
       "      <th>prior_question_elapsed_time</th>\n",
       "      <th>prior_question_had_explanation</th>\n",
       "      <th>user_pprior_question_elasped_time</th>\n",
       "      <th>U_C_pprior_question_elasped_time</th>\n",
       "      <th>user_next_question_elasped_time</th>\n",
       "      <th>U_C_next_question_elasped_time</th>\n",
       "      <th>user_prior_question_elapsed_time_mean</th>\n",
       "      <th>U_C_prior_question_elapsed_time_mean</th>\n",
       "    </tr>\n",
       "  </thead>\n",
       "  <tbody>\n",
       "    <tr>\n",
       "      <th>0</th>\n",
       "      <td>0</td>\n",
       "      <td>115</td>\n",
       "      <td>5692</td>\n",
       "      <td>0</td>\n",
       "      <td>1</td>\n",
       "      <td>NaN</td>\n",
       "      <td>&lt;NA&gt;</td>\n",
       "      <td>21000.000000</td>\n",
       "      <td>NaN</td>\n",
       "      <td>21000.000000</td>\n",
       "      <td>NaN</td>\n",
       "      <td>20961.539062</td>\n",
       "      <td>NaN</td>\n",
       "    </tr>\n",
       "    <tr>\n",
       "      <th>2</th>\n",
       "      <td>0</td>\n",
       "      <td>2015251289</td>\n",
       "      <td>4024</td>\n",
       "      <td>0</td>\n",
       "      <td>1</td>\n",
       "      <td>NaN</td>\n",
       "      <td>&lt;NA&gt;</td>\n",
       "      <td>29133.984375</td>\n",
       "      <td>NaN</td>\n",
       "      <td>29379.941406</td>\n",
       "      <td>NaN</td>\n",
       "      <td>29223.222656</td>\n",
       "      <td>NaN</td>\n",
       "    </tr>\n",
       "    <tr>\n",
       "      <th>3</th>\n",
       "      <td>0</td>\n",
       "      <td>867941388</td>\n",
       "      <td>6659</td>\n",
       "      <td>0</td>\n",
       "      <td>1</td>\n",
       "      <td>NaN</td>\n",
       "      <td>&lt;NA&gt;</td>\n",
       "      <td>30242.341797</td>\n",
       "      <td>NaN</td>\n",
       "      <td>30236.212891</td>\n",
       "      <td>NaN</td>\n",
       "      <td>30240.392578</td>\n",
       "      <td>NaN</td>\n",
       "    </tr>\n",
       "    <tr>\n",
       "      <th>5</th>\n",
       "      <td>0</td>\n",
       "      <td>867947333</td>\n",
       "      <td>7900</td>\n",
       "      <td>0</td>\n",
       "      <td>1</td>\n",
       "      <td>NaN</td>\n",
       "      <td>&lt;NA&gt;</td>\n",
       "      <td>19347.652344</td>\n",
       "      <td>NaN</td>\n",
       "      <td>20089.839844</td>\n",
       "      <td>NaN</td>\n",
       "      <td>19624.833984</td>\n",
       "      <td>NaN</td>\n",
       "    </tr>\n",
       "    <tr>\n",
       "      <th>7</th>\n",
       "      <td>0</td>\n",
       "      <td>579725075</td>\n",
       "      <td>7900</td>\n",
       "      <td>0</td>\n",
       "      <td>1</td>\n",
       "      <td>NaN</td>\n",
       "      <td>&lt;NA&gt;</td>\n",
       "      <td>21554.408203</td>\n",
       "      <td>NaN</td>\n",
       "      <td>21563.892578</td>\n",
       "      <td>24000.0</td>\n",
       "      <td>21562.845703</td>\n",
       "      <td>24000.0</td>\n",
       "    </tr>\n",
       "  </tbody>\n",
       "</table>\n",
       "</div>"
      ],
      "text/plain": [
       "   timestamp     user_id  content_id  content_type_id  answered_correctly  \\\n",
       "0          0         115        5692                0                   1   \n",
       "2          0  2015251289        4024                0                   1   \n",
       "3          0   867941388        6659                0                   1   \n",
       "5          0   867947333        7900                0                   1   \n",
       "7          0   579725075        7900                0                   1   \n",
       "\n",
       "   prior_question_elapsed_time  prior_question_had_explanation  \\\n",
       "0                          NaN                            <NA>   \n",
       "2                          NaN                            <NA>   \n",
       "3                          NaN                            <NA>   \n",
       "5                          NaN                            <NA>   \n",
       "7                          NaN                            <NA>   \n",
       "\n",
       "   user_pprior_question_elasped_time  U_C_pprior_question_elasped_time  \\\n",
       "0                       21000.000000                               NaN   \n",
       "2                       29133.984375                               NaN   \n",
       "3                       30242.341797                               NaN   \n",
       "5                       19347.652344                               NaN   \n",
       "7                       21554.408203                               NaN   \n",
       "\n",
       "   user_next_question_elasped_time  U_C_next_question_elasped_time  \\\n",
       "0                     21000.000000                             NaN   \n",
       "2                     29379.941406                             NaN   \n",
       "3                     30236.212891                             NaN   \n",
       "5                     20089.839844                             NaN   \n",
       "7                     21563.892578                         24000.0   \n",
       "\n",
       "   user_prior_question_elapsed_time_mean  U_C_prior_question_elapsed_time_mean  \n",
       "0                           20961.539062                                   NaN  \n",
       "2                           29223.222656                                   NaN  \n",
       "3                           30240.392578                                   NaN  \n",
       "5                           19624.833984                                   NaN  \n",
       "7                           21562.845703                               24000.0  "
      ]
     },
     "execution_count": 217,
     "metadata": {},
     "output_type": "execute_result"
    }
   ],
   "source": [
    "train.head()"
   ]
  },
  {
   "cell_type": "code",
   "execution_count": 220,
   "metadata": {
    "ExecuteTime": {
     "end_time": "2020-10-17T15:01:52.699939Z",
     "start_time": "2020-10-17T15:01:52.687011Z"
    }
   },
   "outputs": [
    {
     "data": {
      "text/html": [
       "<div>\n",
       "<style scoped>\n",
       "    .dataframe tbody tr th:only-of-type {\n",
       "        vertical-align: middle;\n",
       "    }\n",
       "\n",
       "    .dataframe tbody tr th {\n",
       "        vertical-align: top;\n",
       "    }\n",
       "\n",
       "    .dataframe thead th {\n",
       "        text-align: right;\n",
       "    }\n",
       "</style>\n",
       "<table border=\"1\" class=\"dataframe\">\n",
       "  <thead>\n",
       "    <tr style=\"text-align: right;\">\n",
       "      <th></th>\n",
       "      <th>row_id</th>\n",
       "      <th>group_num</th>\n",
       "      <th>timestamp</th>\n",
       "      <th>user_id</th>\n",
       "      <th>content_id</th>\n",
       "      <th>content_type_id</th>\n",
       "      <th>task_container_id</th>\n",
       "      <th>prior_question_elapsed_time</th>\n",
       "      <th>prior_question_had_explanation</th>\n",
       "      <th>prior_group_answers_correct</th>\n",
       "      <th>prior_group_responses</th>\n",
       "    </tr>\n",
       "  </thead>\n",
       "  <tbody>\n",
       "    <tr>\n",
       "      <th>0</th>\n",
       "      <td>0</td>\n",
       "      <td>0</td>\n",
       "      <td>0</td>\n",
       "      <td>275030867</td>\n",
       "      <td>5729</td>\n",
       "      <td>0</td>\n",
       "      <td>0</td>\n",
       "      <td>NaN</td>\n",
       "      <td>NaN</td>\n",
       "      <td>[]</td>\n",
       "      <td>[]</td>\n",
       "    </tr>\n",
       "    <tr>\n",
       "      <th>1</th>\n",
       "      <td>1</td>\n",
       "      <td>0</td>\n",
       "      <td>13309898705</td>\n",
       "      <td>554169193</td>\n",
       "      <td>12010</td>\n",
       "      <td>0</td>\n",
       "      <td>4427</td>\n",
       "      <td>19000.0</td>\n",
       "      <td>True</td>\n",
       "      <td>NaN</td>\n",
       "      <td>NaN</td>\n",
       "    </tr>\n",
       "    <tr>\n",
       "      <th>2</th>\n",
       "      <td>2</td>\n",
       "      <td>0</td>\n",
       "      <td>4213672059</td>\n",
       "      <td>1720860329</td>\n",
       "      <td>457</td>\n",
       "      <td>0</td>\n",
       "      <td>240</td>\n",
       "      <td>17000.0</td>\n",
       "      <td>True</td>\n",
       "      <td>NaN</td>\n",
       "      <td>NaN</td>\n",
       "    </tr>\n",
       "    <tr>\n",
       "      <th>3</th>\n",
       "      <td>3</td>\n",
       "      <td>0</td>\n",
       "      <td>62798072960</td>\n",
       "      <td>288641214</td>\n",
       "      <td>13262</td>\n",
       "      <td>0</td>\n",
       "      <td>266</td>\n",
       "      <td>23000.0</td>\n",
       "      <td>True</td>\n",
       "      <td>NaN</td>\n",
       "      <td>NaN</td>\n",
       "    </tr>\n",
       "    <tr>\n",
       "      <th>4</th>\n",
       "      <td>4</td>\n",
       "      <td>0</td>\n",
       "      <td>10585422061</td>\n",
       "      <td>1728340777</td>\n",
       "      <td>6119</td>\n",
       "      <td>0</td>\n",
       "      <td>162</td>\n",
       "      <td>72400.0</td>\n",
       "      <td>True</td>\n",
       "      <td>NaN</td>\n",
       "      <td>NaN</td>\n",
       "    </tr>\n",
       "  </tbody>\n",
       "</table>\n",
       "</div>"
      ],
      "text/plain": [
       "   row_id  group_num    timestamp     user_id  content_id  content_type_id  \\\n",
       "0       0          0            0   275030867        5729                0   \n",
       "1       1          0  13309898705   554169193       12010                0   \n",
       "2       2          0   4213672059  1720860329         457                0   \n",
       "3       3          0  62798072960   288641214       13262                0   \n",
       "4       4          0  10585422061  1728340777        6119                0   \n",
       "\n",
       "   task_container_id  prior_question_elapsed_time  \\\n",
       "0                  0                          NaN   \n",
       "1               4427                      19000.0   \n",
       "2                240                      17000.0   \n",
       "3                266                      23000.0   \n",
       "4                162                      72400.0   \n",
       "\n",
       "  prior_question_had_explanation prior_group_answers_correct  \\\n",
       "0                            NaN                          []   \n",
       "1                           True                         NaN   \n",
       "2                           True                         NaN   \n",
       "3                           True                         NaN   \n",
       "4                           True                         NaN   \n",
       "\n",
       "  prior_group_responses  \n",
       "0                    []  \n",
       "1                   NaN  \n",
       "2                   NaN  \n",
       "3                   NaN  \n",
       "4                   NaN  "
      ]
     },
     "execution_count": 220,
     "metadata": {},
     "output_type": "execute_result"
    }
   ],
   "source": [
    "test.head()"
   ]
  },
  {
   "cell_type": "markdown",
   "metadata": {},
   "source": [
    "# Preprocessing"
   ]
  },
  {
   "cell_type": "code",
   "execution_count": 154,
   "metadata": {
    "ExecuteTime": {
     "end_time": "2020-10-17T13:44:50.109054Z",
     "start_time": "2020-10-17T13:44:20.597025Z"
    }
   },
   "outputs": [
    {
     "data": {
      "text/html": [
       "<div>\n",
       "<style scoped>\n",
       "    .dataframe tbody tr th:only-of-type {\n",
       "        vertical-align: middle;\n",
       "    }\n",
       "\n",
       "    .dataframe tbody tr th {\n",
       "        vertical-align: top;\n",
       "    }\n",
       "\n",
       "    .dataframe thead th {\n",
       "        text-align: right;\n",
       "    }\n",
       "</style>\n",
       "<table border=\"1\" class=\"dataframe\">\n",
       "  <thead>\n",
       "    <tr style=\"text-align: right;\">\n",
       "      <th></th>\n",
       "      <th>timestamp</th>\n",
       "      <th>user_id</th>\n",
       "      <th>content_id</th>\n",
       "      <th>content_type_id</th>\n",
       "      <th>answered_correctly</th>\n",
       "      <th>prior_question_elapsed_time</th>\n",
       "      <th>prior_question_had_explanation</th>\n",
       "    </tr>\n",
       "  </thead>\n",
       "  <tbody>\n",
       "    <tr>\n",
       "      <th>0</th>\n",
       "      <td>0</td>\n",
       "      <td>115</td>\n",
       "      <td>5692</td>\n",
       "      <td>0</td>\n",
       "      <td>1</td>\n",
       "      <td>NaN</td>\n",
       "      <td>&lt;NA&gt;</td>\n",
       "    </tr>\n",
       "    <tr>\n",
       "      <th>1</th>\n",
       "      <td>0</td>\n",
       "      <td>1805962620</td>\n",
       "      <td>5547</td>\n",
       "      <td>0</td>\n",
       "      <td>0</td>\n",
       "      <td>NaN</td>\n",
       "      <td>&lt;NA&gt;</td>\n",
       "    </tr>\n",
       "    <tr>\n",
       "      <th>2</th>\n",
       "      <td>0</td>\n",
       "      <td>2015251289</td>\n",
       "      <td>4024</td>\n",
       "      <td>0</td>\n",
       "      <td>1</td>\n",
       "      <td>NaN</td>\n",
       "      <td>&lt;NA&gt;</td>\n",
       "    </tr>\n",
       "    <tr>\n",
       "      <th>3</th>\n",
       "      <td>0</td>\n",
       "      <td>867941388</td>\n",
       "      <td>6659</td>\n",
       "      <td>0</td>\n",
       "      <td>1</td>\n",
       "      <td>NaN</td>\n",
       "      <td>&lt;NA&gt;</td>\n",
       "    </tr>\n",
       "    <tr>\n",
       "      <th>4</th>\n",
       "      <td>0</td>\n",
       "      <td>867946278</td>\n",
       "      <td>3977</td>\n",
       "      <td>0</td>\n",
       "      <td>1</td>\n",
       "      <td>NaN</td>\n",
       "      <td>&lt;NA&gt;</td>\n",
       "    </tr>\n",
       "    <tr>\n",
       "      <th>5</th>\n",
       "      <td>0</td>\n",
       "      <td>867947333</td>\n",
       "      <td>7900</td>\n",
       "      <td>0</td>\n",
       "      <td>1</td>\n",
       "      <td>NaN</td>\n",
       "      <td>&lt;NA&gt;</td>\n",
       "    </tr>\n",
       "    <tr>\n",
       "      <th>6</th>\n",
       "      <td>0</td>\n",
       "      <td>1440786713</td>\n",
       "      <td>3889</td>\n",
       "      <td>0</td>\n",
       "      <td>1</td>\n",
       "      <td>NaN</td>\n",
       "      <td>&lt;NA&gt;</td>\n",
       "    </tr>\n",
       "    <tr>\n",
       "      <th>7</th>\n",
       "      <td>0</td>\n",
       "      <td>1805972720</td>\n",
       "      <td>5796</td>\n",
       "      <td>0</td>\n",
       "      <td>0</td>\n",
       "      <td>NaN</td>\n",
       "      <td>&lt;NA&gt;</td>\n",
       "    </tr>\n",
       "    <tr>\n",
       "      <th>8</th>\n",
       "      <td>0</td>\n",
       "      <td>579725075</td>\n",
       "      <td>7900</td>\n",
       "      <td>0</td>\n",
       "      <td>1</td>\n",
       "      <td>NaN</td>\n",
       "      <td>&lt;NA&gt;</td>\n",
       "    </tr>\n",
       "    <tr>\n",
       "      <th>9</th>\n",
       "      <td>0</td>\n",
       "      <td>390617956</td>\n",
       "      <td>4867</td>\n",
       "      <td>0</td>\n",
       "      <td>1</td>\n",
       "      <td>NaN</td>\n",
       "      <td>&lt;NA&gt;</td>\n",
       "    </tr>\n",
       "  </tbody>\n",
       "</table>\n",
       "</div>"
      ],
      "text/plain": [
       "   timestamp     user_id  content_id  content_type_id  answered_correctly  \\\n",
       "0          0         115        5692                0                   1   \n",
       "1          0  1805962620        5547                0                   0   \n",
       "2          0  2015251289        4024                0                   1   \n",
       "3          0   867941388        6659                0                   1   \n",
       "4          0   867946278        3977                0                   1   \n",
       "5          0   867947333        7900                0                   1   \n",
       "6          0  1440786713        3889                0                   1   \n",
       "7          0  1805972720        5796                0                   0   \n",
       "8          0   579725075        7900                0                   1   \n",
       "9          0   390617956        4867                0                   1   \n",
       "\n",
       "   prior_question_elapsed_time  prior_question_had_explanation  \n",
       "0                          NaN                            <NA>  \n",
       "1                          NaN                            <NA>  \n",
       "2                          NaN                            <NA>  \n",
       "3                          NaN                            <NA>  \n",
       "4                          NaN                            <NA>  \n",
       "5                          NaN                            <NA>  \n",
       "6                          NaN                            <NA>  \n",
       "7                          NaN                            <NA>  \n",
       "8                          NaN                            <NA>  \n",
       "9                          NaN                            <NA>  "
      ]
     },
     "execution_count": 154,
     "metadata": {},
     "output_type": "execute_result"
    }
   ],
   "source": [
    "# removing True or 1 for content_type_id -> not real questions\n",
    "\n",
    "train = train[train.content_type_id == False]\n",
    "\n",
    "#timestamp정렬\n",
    "\n",
    "train = train.sort_values(['timestamp'], ascending=True).reset_index(drop = True)\n",
    "\n",
    "train.head(10)"
   ]
  },
  {
   "cell_type": "code",
   "execution_count": 155,
   "metadata": {
    "ExecuteTime": {
     "end_time": "2020-10-17T13:45:03.488907Z",
     "start_time": "2020-10-17T13:44:50.112397Z"
    }
   },
   "outputs": [],
   "source": [
    "# 메모리를 줄이기 위해서 최종 결과셋으로 데이터를 만들어준다\n",
    "#getting final results ready for later, so we can clear memory\n",
    "results_c_final = train[['content_id','answered_correctly']].groupby(['content_id']).agg(['mean','sum','count'])\n",
    "results_c_final.columns = [\"answered_correctly_content\",'content_sum','content_count']\n",
    "\n",
    "results_u_final = train[['user_id','answered_correctly']].groupby(['user_id']).agg(['mean', 'sum', 'count'])\n",
    "results_u_final.columns = ['answered_correctly_user', 'sum', 'count']\n"
   ]
  },
  {
   "cell_type": "code",
   "execution_count": 156,
   "metadata": {
    "ExecuteTime": {
     "end_time": "2020-10-17T13:45:03.644806Z",
     "start_time": "2020-10-17T13:45:03.491550Z"
    }
   },
   "outputs": [],
   "source": [
    "# 결측치를 평균값으로 대체하기 위해서 값 저장\n",
    "time_mean = train.prior_question_elapsed_time.mean()"
   ]
  },
  {
   "cell_type": "code",
   "execution_count": 157,
   "metadata": {
    "ExecuteTime": {
     "end_time": "2020-10-17T13:48:16.143790Z",
     "start_time": "2020-10-17T13:45:03.646420Z"
    }
   },
   "outputs": [],
   "source": [
    "# 1 전전 문제 푼시간, 다음문제 푸는 시간\n",
    "\n",
    "# 1-1 : user 그룹 / 1-2 : user, content 그룹\n",
    "\n",
    "# 1-1\n",
    "train['user_pprior_question_elasped_time'] = train.groupby('user_id')['prior_question_elapsed_time'].shift(1)\n",
    "train['U_C_pprior_question_elasped_time'] = train.groupby(['user_id','content_id'])['prior_question_elapsed_time'].shift(1)\n",
    "\n",
    "# 1-2\n",
    "train['user_next_question_elasped_time'] = train.sort_values('timestamp',ascending = False).groupby('user_id')['prior_question_elapsed_time'].shift(1)\n",
    "train['U_C_next_question_elasped_time'] = train.sort_values('timestamp',ascending = False).groupby(['user_id','content_id'])['prior_question_elapsed_time'].shift(1)"
   ]
  },
  {
   "cell_type": "code",
   "execution_count": 186,
   "metadata": {
    "ExecuteTime": {
     "end_time": "2020-10-17T14:22:09.160377Z",
     "start_time": "2020-10-17T14:19:55.175616Z"
    }
   },
   "outputs": [],
   "source": [
    "temp_user_pp = train.groupby('user_id')['user_pprior_question_elasped_time'].mean().reset_index(name = '')\n",
    "temp_U_C_pp = train.groupby(['user_id','content_id'])['U_C_pprior_question_elasped_time'].mean().reset_index()\n",
    "\n",
    "temp_user_next = train.groupby('user_id')['user_next_question_elasped_time'].mean().reset_index()\n",
    "temp_U_C_next = train.groupby(['user_id','content_id'])['U_C_next_question_elasped_time'].mean().reset_index()"
   ]
  },
  {
   "cell_type": "code",
   "execution_count": null,
   "metadata": {},
   "outputs": [],
   "source": [
    "'U_C_pprior_question_elasped_time','U_C_next_question_elasped_time','U_C_prior_question_elapsed_time_mean'"
   ]
  },
  {
   "cell_type": "code",
   "execution_count": 191,
   "metadata": {
    "ExecuteTime": {
     "end_time": "2020-10-17T14:41:31.621897Z",
     "start_time": "2020-10-17T14:40:22.025265Z"
    }
   },
   "outputs": [],
   "source": [
    "# 유저당 문제 풀이 평균 소요 시간\n",
    "temp_user_p = train.groupby('user_id')['prior_question_elapsed_time'].mean().reset_index(name = 'user_prior_question_elapsed_time_mean')\n",
    "\n",
    "# 유저당 컨텐츠당 문제풀이 평균 소요시간\n",
    "temp_U_C_p = train.groupby(['user_id','content_id'])['prior_question_elapsed_time'].mean().reset_index(name = 'U_C_prior_question_elapsed_time_mean')"
   ]
  },
  {
   "cell_type": "code",
   "execution_count": 193,
   "metadata": {
    "ExecuteTime": {
     "end_time": "2020-10-17T14:42:33.119058Z",
     "start_time": "2020-10-17T14:42:28.542962Z"
    }
   },
   "outputs": [],
   "source": [
    "train.drop(columns = ['user_pprior_question_elasped_time','U_C_pprior_question_elasped_time',\n",
    "                     'user_next_question_elasped_time','U_C_next_question_elasped_time'],inplace = True)"
   ]
  },
  {
   "cell_type": "code",
   "execution_count": 194,
   "metadata": {
    "ExecuteTime": {
     "end_time": "2020-10-17T14:47:30.707916Z",
     "start_time": "2020-10-17T14:42:33.121433Z"
    }
   },
   "outputs": [],
   "source": [
    "train = pd.merge(train, temp_user_pp, on = 'user_id', how = 'left')\n",
    "train = pd.merge(train, temp_U_C_pp, on = ['user_id','content_id'], how = 'left')\n",
    "train = pd.merge(train, temp_user_next, on = 'user_id', how = 'left')\n",
    "train = pd.merge(train, temp_U_C_next, on = ['user_id','content_id'], how = 'left')\n",
    "train = pd.merge(train, temp_user_p, on = 'user_id', how = 'left')\n",
    "train = pd.merge(train, temp_U_C_p, on = ['user_id','content_id'], how = 'left')"
   ]
  },
  {
   "cell_type": "code",
   "execution_count": 271,
   "metadata": {
    "ExecuteTime": {
     "end_time": "2020-10-23T11:40:48.752185Z",
     "start_time": "2020-10-23T11:40:48.735060Z"
    }
   },
   "outputs": [
    {
     "data": {
      "text/plain": [
       "24180.58984375"
      ]
     },
     "execution_count": 271,
     "metadata": {},
     "output_type": "execute_result"
    }
   ],
   "source": [
    "temp_user_p['user_prior_question_elapsed_time_mean'].mean()"
   ]
  },
  {
   "cell_type": "code",
   "execution_count": 289,
   "metadata": {
    "ExecuteTime": {
     "end_time": "2020-10-24T03:38:54.321187Z",
     "start_time": "2020-10-24T03:38:54.286930Z"
    }
   },
   "outputs": [
    {
     "data": {
      "text/html": [
       "<div>\n",
       "<style scoped>\n",
       "    .dataframe tbody tr th:only-of-type {\n",
       "        vertical-align: middle;\n",
       "    }\n",
       "\n",
       "    .dataframe tbody tr th {\n",
       "        vertical-align: top;\n",
       "    }\n",
       "\n",
       "    .dataframe thead th {\n",
       "        text-align: right;\n",
       "    }\n",
       "</style>\n",
       "<table border=\"1\" class=\"dataframe\">\n",
       "  <thead>\n",
       "    <tr style=\"text-align: right;\">\n",
       "      <th></th>\n",
       "      <th>timestamp</th>\n",
       "      <th>user_id</th>\n",
       "      <th>content_id</th>\n",
       "      <th>content_type_id</th>\n",
       "      <th>answered_correctly</th>\n",
       "      <th>prior_question_elapsed_time</th>\n",
       "      <th>prior_question_had_explanation</th>\n",
       "      <th>user_pprior_question_elasped_time</th>\n",
       "      <th>U_C_pprior_question_elasped_time</th>\n",
       "      <th>user_next_question_elasped_time</th>\n",
       "      <th>U_C_next_question_elasped_time</th>\n",
       "      <th>user_prior_question_elapsed_time_mean</th>\n",
       "      <th>U_C_prior_question_elapsed_time_mean</th>\n",
       "    </tr>\n",
       "  </thead>\n",
       "  <tbody>\n",
       "    <tr>\n",
       "      <th>0</th>\n",
       "      <td>0</td>\n",
       "      <td>115</td>\n",
       "      <td>5692</td>\n",
       "      <td>0</td>\n",
       "      <td>1</td>\n",
       "      <td>NaN</td>\n",
       "      <td>&lt;NA&gt;</td>\n",
       "      <td>21000.000000</td>\n",
       "      <td>NaN</td>\n",
       "      <td>21000.000000</td>\n",
       "      <td>NaN</td>\n",
       "      <td>20961.539062</td>\n",
       "      <td>NaN</td>\n",
       "    </tr>\n",
       "    <tr>\n",
       "      <th>2</th>\n",
       "      <td>0</td>\n",
       "      <td>2015251289</td>\n",
       "      <td>4024</td>\n",
       "      <td>0</td>\n",
       "      <td>1</td>\n",
       "      <td>NaN</td>\n",
       "      <td>&lt;NA&gt;</td>\n",
       "      <td>29133.984375</td>\n",
       "      <td>NaN</td>\n",
       "      <td>29379.941406</td>\n",
       "      <td>NaN</td>\n",
       "      <td>29223.222656</td>\n",
       "      <td>NaN</td>\n",
       "    </tr>\n",
       "    <tr>\n",
       "      <th>3</th>\n",
       "      <td>0</td>\n",
       "      <td>867941388</td>\n",
       "      <td>6659</td>\n",
       "      <td>0</td>\n",
       "      <td>1</td>\n",
       "      <td>NaN</td>\n",
       "      <td>&lt;NA&gt;</td>\n",
       "      <td>30242.341797</td>\n",
       "      <td>NaN</td>\n",
       "      <td>30236.212891</td>\n",
       "      <td>NaN</td>\n",
       "      <td>30240.392578</td>\n",
       "      <td>NaN</td>\n",
       "    </tr>\n",
       "    <tr>\n",
       "      <th>5</th>\n",
       "      <td>0</td>\n",
       "      <td>867947333</td>\n",
       "      <td>7900</td>\n",
       "      <td>0</td>\n",
       "      <td>1</td>\n",
       "      <td>NaN</td>\n",
       "      <td>&lt;NA&gt;</td>\n",
       "      <td>19347.652344</td>\n",
       "      <td>NaN</td>\n",
       "      <td>20089.839844</td>\n",
       "      <td>NaN</td>\n",
       "      <td>19624.833984</td>\n",
       "      <td>NaN</td>\n",
       "    </tr>\n",
       "    <tr>\n",
       "      <th>7</th>\n",
       "      <td>0</td>\n",
       "      <td>579725075</td>\n",
       "      <td>7900</td>\n",
       "      <td>0</td>\n",
       "      <td>1</td>\n",
       "      <td>NaN</td>\n",
       "      <td>&lt;NA&gt;</td>\n",
       "      <td>21554.408203</td>\n",
       "      <td>NaN</td>\n",
       "      <td>21563.892578</td>\n",
       "      <td>24000.0</td>\n",
       "      <td>21562.845703</td>\n",
       "      <td>24000.0</td>\n",
       "    </tr>\n",
       "  </tbody>\n",
       "</table>\n",
       "</div>"
      ],
      "text/plain": [
       "   timestamp     user_id  content_id  content_type_id  answered_correctly  \\\n",
       "0          0         115        5692                0                   1   \n",
       "2          0  2015251289        4024                0                   1   \n",
       "3          0   867941388        6659                0                   1   \n",
       "5          0   867947333        7900                0                   1   \n",
       "7          0   579725075        7900                0                   1   \n",
       "\n",
       "   prior_question_elapsed_time  prior_question_had_explanation  \\\n",
       "0                          NaN                            <NA>   \n",
       "2                          NaN                            <NA>   \n",
       "3                          NaN                            <NA>   \n",
       "5                          NaN                            <NA>   \n",
       "7                          NaN                            <NA>   \n",
       "\n",
       "   user_pprior_question_elasped_time  U_C_pprior_question_elasped_time  \\\n",
       "0                       21000.000000                               NaN   \n",
       "2                       29133.984375                               NaN   \n",
       "3                       30242.341797                               NaN   \n",
       "5                       19347.652344                               NaN   \n",
       "7                       21554.408203                               NaN   \n",
       "\n",
       "   user_next_question_elasped_time  U_C_next_question_elasped_time  \\\n",
       "0                     21000.000000                             NaN   \n",
       "2                     29379.941406                             NaN   \n",
       "3                     30236.212891                             NaN   \n",
       "5                     20089.839844                             NaN   \n",
       "7                     21563.892578                         24000.0   \n",
       "\n",
       "   user_prior_question_elapsed_time_mean  U_C_prior_question_elapsed_time_mean  \n",
       "0                           20961.539062                                   NaN  \n",
       "2                           29223.222656                                   NaN  \n",
       "3                           30240.392578                                   NaN  \n",
       "5                           19624.833984                                   NaN  \n",
       "7                           21562.845703                               24000.0  "
      ]
     },
     "execution_count": 289,
     "metadata": {},
     "output_type": "execute_result"
    }
   ],
   "source": [
    "# 이동평균 변수\n",
    "train.head()"
   ]
  },
  {
   "cell_type": "code",
   "execution_count": 291,
   "metadata": {
    "ExecuteTime": {
     "end_time": "2020-10-24T03:42:54.761692Z",
     "start_time": "2020-10-24T03:42:54.701815Z"
    }
   },
   "outputs": [
    {
     "data": {
      "text/plain": [
       "0         [51, 131, 162, 38]\n",
       "1              [131, 36, 81]\n",
       "2        [131, 101, 162, 92]\n",
       "3        [131, 149, 162, 29]\n",
       "4          [131, 5, 162, 38]\n",
       "                ...         \n",
       "13518                   [14]\n",
       "13519                    [8]\n",
       "13520                   [73]\n",
       "13521                  [125]\n",
       "13522                   [55]\n",
       "Name: tags, Length: 13523, dtype: object"
      ]
     },
     "execution_count": 291,
     "metadata": {},
     "output_type": "execute_result"
    }
   ],
   "source": [
    "questions_df['tags'].str.split(' ')"
   ]
  },
  {
   "cell_type": "markdown",
   "metadata": {},
   "source": [
    "# 학습 데이터셋, 검증 데이터셋 정의"
   ]
  },
  {
   "cell_type": "code",
   "execution_count": 195,
   "metadata": {
    "ExecuteTime": {
     "end_time": "2020-10-17T14:48:31.366317Z",
     "start_time": "2020-10-17T14:47:30.725986Z"
    }
   },
   "outputs": [],
   "source": [
    "validation = pd.DataFrame()\n",
    "\n",
    "# 각 유저별로 가장 마지막 질문에 대한 답을 쓴 유저들 즉, 각 유저별 총 4개의 로우씩 들어가며 만약 1개밖에 없는 유저들은 하나만 들어갈 듯\n",
    "for i in range(4):\n",
    "    last_records = train.drop_duplicates('user_id', keep = 'last')\n",
    "    train = train[~train.index.isin(last_records.index)]\n",
    "    validation = validation.append(last_records)"
   ]
  },
  {
   "cell_type": "code",
   "execution_count": 196,
   "metadata": {
    "ExecuteTime": {
     "end_time": "2020-10-17T14:52:26.360040Z",
     "start_time": "2020-10-17T14:48:31.370082Z"
    }
   },
   "outputs": [],
   "source": [
    "X = pd.DataFrame()\n",
    "\n",
    "for i in range(15):\n",
    "    last_records = train.drop_duplicates('user_id', keep = 'last')\n",
    "    train = train[~train.index.isin(last_records.index)]\n",
    "    X = X.append(last_records)"
   ]
  },
  {
   "cell_type": "code",
   "execution_count": 242,
   "metadata": {
    "ExecuteTime": {
     "end_time": "2020-10-18T13:26:06.596072Z",
     "start_time": "2020-10-18T13:26:06.548286Z"
    }
   },
   "outputs": [
    {
     "data": {
      "text/html": [
       "<div>\n",
       "<style scoped>\n",
       "    .dataframe tbody tr th:only-of-type {\n",
       "        vertical-align: middle;\n",
       "    }\n",
       "\n",
       "    .dataframe tbody tr th {\n",
       "        vertical-align: top;\n",
       "    }\n",
       "\n",
       "    .dataframe thead th {\n",
       "        text-align: right;\n",
       "    }\n",
       "</style>\n",
       "<table border=\"1\" class=\"dataframe\">\n",
       "  <thead>\n",
       "    <tr style=\"text-align: right;\">\n",
       "      <th></th>\n",
       "      <th>timestamp</th>\n",
       "      <th>user_id</th>\n",
       "      <th>content_id</th>\n",
       "      <th>content_type_id</th>\n",
       "      <th>answered_correctly</th>\n",
       "      <th>prior_question_elapsed_time</th>\n",
       "      <th>prior_question_had_explanation</th>\n",
       "      <th>user_pprior_question_elasped_time</th>\n",
       "      <th>U_C_pprior_question_elasped_time</th>\n",
       "      <th>user_next_question_elasped_time</th>\n",
       "      <th>U_C_next_question_elasped_time</th>\n",
       "      <th>user_prior_question_elapsed_time_mean</th>\n",
       "      <th>U_C_prior_question_elapsed_time_mean</th>\n",
       "    </tr>\n",
       "  </thead>\n",
       "  <tbody>\n",
       "    <tr>\n",
       "      <th>154</th>\n",
       "      <td>0</td>\n",
       "      <td>1653524697</td>\n",
       "      <td>6245</td>\n",
       "      <td>0</td>\n",
       "      <td>0</td>\n",
       "      <td>NaN</td>\n",
       "      <td>&lt;NA&gt;</td>\n",
       "      <td>29666.666016</td>\n",
       "      <td>NaN</td>\n",
       "      <td>24400.0</td>\n",
       "      <td>NaN</td>\n",
       "      <td>26750.0</td>\n",
       "      <td>NaN</td>\n",
       "    </tr>\n",
       "    <tr>\n",
       "      <th>236</th>\n",
       "      <td>0</td>\n",
       "      <td>2015090659</td>\n",
       "      <td>7900</td>\n",
       "      <td>0</td>\n",
       "      <td>1</td>\n",
       "      <td>NaN</td>\n",
       "      <td>&lt;NA&gt;</td>\n",
       "      <td>27000.000000</td>\n",
       "      <td>NaN</td>\n",
       "      <td>23400.0</td>\n",
       "      <td>NaN</td>\n",
       "      <td>24750.0</td>\n",
       "      <td>NaN</td>\n",
       "    </tr>\n",
       "    <tr>\n",
       "      <th>385</th>\n",
       "      <td>0</td>\n",
       "      <td>868252156</td>\n",
       "      <td>4297</td>\n",
       "      <td>0</td>\n",
       "      <td>0</td>\n",
       "      <td>NaN</td>\n",
       "      <td>&lt;NA&gt;</td>\n",
       "      <td>25333.333984</td>\n",
       "      <td>NaN</td>\n",
       "      <td>23600.0</td>\n",
       "      <td>NaN</td>\n",
       "      <td>24750.0</td>\n",
       "      <td>NaN</td>\n",
       "    </tr>\n",
       "    <tr>\n",
       "      <th>462</th>\n",
       "      <td>0</td>\n",
       "      <td>391138023</td>\n",
       "      <td>6675</td>\n",
       "      <td>0</td>\n",
       "      <td>1</td>\n",
       "      <td>NaN</td>\n",
       "      <td>&lt;NA&gt;</td>\n",
       "      <td>48333.332031</td>\n",
       "      <td>NaN</td>\n",
       "      <td>38200.0</td>\n",
       "      <td>NaN</td>\n",
       "      <td>42250.0</td>\n",
       "      <td>NaN</td>\n",
       "    </tr>\n",
       "    <tr>\n",
       "      <th>927</th>\n",
       "      <td>0</td>\n",
       "      <td>579383006</td>\n",
       "      <td>3587</td>\n",
       "      <td>0</td>\n",
       "      <td>0</td>\n",
       "      <td>NaN</td>\n",
       "      <td>&lt;NA&gt;</td>\n",
       "      <td>32000.000000</td>\n",
       "      <td>NaN</td>\n",
       "      <td>29800.0</td>\n",
       "      <td>NaN</td>\n",
       "      <td>27500.0</td>\n",
       "      <td>NaN</td>\n",
       "    </tr>\n",
       "  </tbody>\n",
       "</table>\n",
       "</div>"
      ],
      "text/plain": [
       "     timestamp     user_id  content_id  content_type_id  answered_correctly  \\\n",
       "154          0  1653524697        6245                0                   0   \n",
       "236          0  2015090659        7900                0                   1   \n",
       "385          0   868252156        4297                0                   0   \n",
       "462          0   391138023        6675                0                   1   \n",
       "927          0   579383006        3587                0                   0   \n",
       "\n",
       "     prior_question_elapsed_time  prior_question_had_explanation  \\\n",
       "154                          NaN                            <NA>   \n",
       "236                          NaN                            <NA>   \n",
       "385                          NaN                            <NA>   \n",
       "462                          NaN                            <NA>   \n",
       "927                          NaN                            <NA>   \n",
       "\n",
       "     user_pprior_question_elasped_time  U_C_pprior_question_elasped_time  \\\n",
       "154                       29666.666016                               NaN   \n",
       "236                       27000.000000                               NaN   \n",
       "385                       25333.333984                               NaN   \n",
       "462                       48333.332031                               NaN   \n",
       "927                       32000.000000                               NaN   \n",
       "\n",
       "     user_next_question_elasped_time  U_C_next_question_elasped_time  \\\n",
       "154                          24400.0                             NaN   \n",
       "236                          23400.0                             NaN   \n",
       "385                          23600.0                             NaN   \n",
       "462                          38200.0                             NaN   \n",
       "927                          29800.0                             NaN   \n",
       "\n",
       "     user_prior_question_elapsed_time_mean  \\\n",
       "154                                26750.0   \n",
       "236                                24750.0   \n",
       "385                                24750.0   \n",
       "462                                42250.0   \n",
       "927                                27500.0   \n",
       "\n",
       "     U_C_prior_question_elapsed_time_mean  \n",
       "154                                   NaN  \n",
       "236                                   NaN  \n",
       "385                                   NaN  \n",
       "462                                   NaN  \n",
       "927                                   NaN  "
      ]
     },
     "execution_count": 242,
     "metadata": {},
     "output_type": "execute_result"
    }
   ],
   "source": [
    "X_dump.head()"
   ]
  },
  {
   "cell_type": "code",
   "execution_count": 197,
   "metadata": {
    "ExecuteTime": {
     "end_time": "2020-10-17T14:52:26.754506Z",
     "start_time": "2020-10-17T14:52:26.373571Z"
    }
   },
   "outputs": [],
   "source": [
    "X_dump = X.copy()\n",
    "validation_dump = validation.copy()"
   ]
  },
  {
   "cell_type": "code",
   "execution_count": 89,
   "metadata": {
    "ExecuteTime": {
     "end_time": "2020-10-17T07:58:07.419177Z",
     "start_time": "2020-10-17T07:58:07.415912Z"
    }
   },
   "outputs": [],
   "source": [
    "# 위의 drop_duplicates 코드를 user_id별 누적카운트를 통해서 추출해서 속도가 개선되는지 확인\n",
    "\n",
    "# 속도개선 트라이"
   ]
  },
  {
   "cell_type": "code",
   "execution_count": 198,
   "metadata": {
    "ExecuteTime": {
     "end_time": "2020-10-17T14:52:43.385131Z",
     "start_time": "2020-10-17T14:52:26.758425Z"
    }
   },
   "outputs": [],
   "source": [
    "# 통계값이므로 편차도 집어넣을 것\n",
    "results_c = train[['content_id','answered_correctly']].groupby(['content_id']).agg(['mean','sum','count'])\n",
    "results_c.columns = [\"answered_correctly_content\",'content_sum','content_count']\n",
    "\n",
    "results_u = train[['user_id','answered_correctly']].groupby(['user_id']).agg(['mean', 'sum', 'count'])\n",
    "results_u.columns = [\"answered_correctly_user\", 'sum', 'count']"
   ]
  },
  {
   "cell_type": "code",
   "execution_count": 248,
   "metadata": {
    "ExecuteTime": {
     "end_time": "2020-10-18T13:29:11.500782Z",
     "start_time": "2020-10-18T13:29:11.448719Z"
    }
   },
   "outputs": [],
   "source": [
    "results_u = results_u.reset_index()\n",
    "results_c = results_c.reset_index()\n",
    "results_c_final = results_c_final.reset_index()\n",
    "results_u_final = results_u_final.reset_index()"
   ]
  },
  {
   "cell_type": "markdown",
   "metadata": {},
   "source": [
    "# 데이터 병합"
   ]
  },
  {
   "cell_type": "code",
   "execution_count": 199,
   "metadata": {
    "ExecuteTime": {
     "end_time": "2020-10-17T14:52:45.542844Z",
     "start_time": "2020-10-17T14:52:43.394920Z"
    }
   },
   "outputs": [],
   "source": [
    "X = pd.merge(X, results_u, on=['user_id'], how=\"left\")\n",
    "X = pd.merge(X, results_c, on=['content_id'], how=\"left\")\n",
    "\n",
    "validation = pd.merge(validation, results_u, on=['user_id'], how=\"left\")\n",
    "validation = pd.merge(validation, results_c, on=['content_id'], how=\"left\")"
   ]
  },
  {
   "cell_type": "code",
   "execution_count": 200,
   "metadata": {
    "ExecuteTime": {
     "end_time": "2020-10-17T14:52:46.223755Z",
     "start_time": "2020-10-17T14:52:45.545355Z"
    }
   },
   "outputs": [],
   "source": [
    "lb_make = LabelEncoder()\n",
    "\n",
    "X.prior_question_had_explanation.fillna(False, inplace = True)\n",
    "validation.prior_question_had_explanation.fillna(False, inplace = True)\n",
    "\n",
    "validation[\"prior_question_had_explanation_enc\"] = lb_make.fit_transform(validation[\"prior_question_had_explanation\"])\n",
    "X[\"prior_question_had_explanation_enc\"] = lb_make.fit_transform(X[\"prior_question_had_explanation\"])"
   ]
  },
  {
   "cell_type": "code",
   "execution_count": 201,
   "metadata": {
    "ExecuteTime": {
     "end_time": "2020-10-17T14:52:47.518960Z",
     "start_time": "2020-10-17T14:52:46.226502Z"
    }
   },
   "outputs": [],
   "source": [
    "X = pd.merge(X, questions_df, left_on = 'content_id', right_on = 'question_id', how = 'left')\n",
    "validation = pd.merge(validation, questions_df, left_on = 'content_id', right_on = 'question_id', how = 'left')\n",
    "X.part = X.part - 1\n",
    "validation.part = validation.part - 1\n",
    "\n",
    "# X = pd.merge(X, lecture_df, left_on = 'content_id', right_on = 'lecture_id', how = 'left')\n",
    "# validation = pd.merge(validation, lecture_df, left_on = 'content_id', right_on = 'lecture_id', how = 'left')\n",
    "# X.lecture_part = X.lecture_part - 1\n",
    "# validation.lecture_part = validation.lecture_part - 1"
   ]
  },
  {
   "cell_type": "markdown",
   "metadata": {},
   "source": [
    "# feature engineering"
   ]
  },
  {
   "cell_type": "code",
   "execution_count": 94,
   "metadata": {
    "ExecuteTime": {
     "end_time": "2020-10-17T07:58:34.699503Z",
     "start_time": "2020-10-17T07:58:33.543569Z"
    }
   },
   "outputs": [],
   "source": [
    "# 각 파트별 정답일 비율 변수 추가\n",
    "# 성능이 좋지 못했음\n",
    "temp_df = X.groupby(['part','answered_correctly'])['content_id'].count().reset_index()\n",
    "\n",
    "temp_df2 = temp_df.groupby(['part']).sum().reset_index()\n",
    "temp_df2['part_correctly_ratio'] = temp_df[\n",
    "            temp_df['answered_correctly'] == 1\n",
    "        ]['content_id'].reset_index()['content_id'] \\\n",
    "        / temp_df.groupby(['part']).sum().reset_index()['content_id']\n",
    "\n",
    "temp_df3 = temp_df2[['part','part_correctly_ratio']]\n",
    "\n",
    "X = pd.merge(X,temp_df3,on = 'part',how = 'left')\n",
    "validation = pd.merge(validation,temp_df3,on = 'part',how = 'left')"
   ]
  },
  {
   "cell_type": "code",
   "execution_count": 202,
   "metadata": {
    "ExecuteTime": {
     "end_time": "2020-10-17T14:52:47.642965Z",
     "start_time": "2020-10-17T14:52:47.521513Z"
    }
   },
   "outputs": [],
   "source": [
    "# 변수중요도가 가장 높은 두개 변수를 이용하여 교호 변수 생성\n",
    "# 변수합 / 변수곱 / \n",
    "\n",
    "X['content_user_mean_sum'] = X['answered_correctly_content'] + X['answered_correctly_user']\n",
    "X['content_user_mean_multiple'] = X['answered_correctly_content'] * X['answered_correctly_user']\n",
    "\n",
    "validation['content_user_mean_sum'] = validation['answered_correctly_content'] + validation['answered_correctly_user']\n",
    "validation['content_user_mean_multiple'] = validation['answered_correctly_content'] * validation['answered_correctly_user']\n",
    "\n",
    "# content, user의 각 count / sum 진행\n",
    "X['content_cnt_sum_division'] = X['content_count'] / X['content_sum']\n",
    "X['user_cnt_sum_division'] = X['count'] / X['sum']\n",
    "\n",
    "validation['content_cnt_sum_division'] = validation['content_count'] / validation['content_sum']\n",
    "validation['user_cnt_sum_division'] = validation['count'] / validation['sum']"
   ]
  },
  {
   "cell_type": "code",
   "execution_count": null,
   "metadata": {},
   "outputs": [],
   "source": [
    "# 1. 현재문제 시점에서 이전문제를 풀었던 시간 shift(1) / 이동평균\n",
    "# 2. ms로 되어있는 단위를 분 단위로 바꿈\n",
    "# 3. 유저별 문제별 걸리는 평균 시간\n",
    "# 4. 정답문제와 오답문제의 평균 걸리는 시간 비교(분포도)\n",
    "# 4-1. part별로 같은지 다른지 확인(분포도)\n",
    "    # 4 정답 문제와 오답 문제기준으로 이전 문제의 평균 걸리는 시간\n",
    "    # 정답문제 및 오답 문제별 시간 분포 차이가 전혀 없는걸 확인\n",
    "    # 그나마 part6가 분포도상 차이점이 약간 존재했지만 일단 변수화하는건 보류\n",
    "    # plt.figure(figsize=(7,8))\n",
    "    # sns.distplot(X[(X['answered_correctly']==0)&(X['part']==6)]['prior_question_elapsed_time'])\n",
    "    # sns.distplot(X[(X['answered_correctly']==1)&(X['part']==6)]['prior_question_elapsed_time'])\n",
    "    # plt.legend([\"0\",\"1\"])\n",
    "    # plt.title(\"분포도\")\n",
    "    # plt.xlim(0,40)\n",
    "# 5. timestamp로 생성할 수 있는 변수\n",
    "\n"
   ]
  },
  {
   "cell_type": "markdown",
   "metadata": {},
   "source": [
    "## 분포도를 통한 변수 생성"
   ]
  },
  {
   "cell_type": "code",
   "execution_count": 138,
   "metadata": {
    "ExecuteTime": {
     "end_time": "2020-10-17T13:26:45.146107Z",
     "start_time": "2020-10-17T13:26:43.730017Z"
    }
   },
   "outputs": [
    {
     "data": {
      "text/plain": [
       "<matplotlib.axes._subplots.AxesSubplot at 0x1231d6550>"
      ]
     },
     "execution_count": 138,
     "metadata": {},
     "output_type": "execute_result"
    },
    {
     "data": {
      "image/png": "[encoded data removed]",
      "text/plain": [
       "<Figure size 432x288 with 1 Axes>"
      ]
     },
     "metadata": {},
     "output_type": "display_data"
    }
   ],
   "source": [
    "# 정답 유무별 answered_correctly_content 분포 차이\n",
    "# 0.7 or 0.8이상이면 1 아니면 0\n",
    "sns.distplot(X[X['answered_correctly'] == 0]['answered_correctly_content'])\n",
    "sns.distplot(X[X['answered_correctly'] == 1]['answered_correctly_content'])"
   ]
  },
  {
   "cell_type": "code",
   "execution_count": 203,
   "metadata": {
    "ExecuteTime": {
     "end_time": "2020-10-17T14:52:49.051542Z",
     "start_time": "2020-10-17T14:52:47.645931Z"
    }
   },
   "outputs": [],
   "source": [
    "# 변수화\n",
    "X['answered_correctly_content_segment'] =\\\n",
    "                        X['answered_correctly_content'].apply(\n",
    "                                        lambda x: 1 if x >=0.8 else 0\n",
    "                    )\n",
    "\n",
    "validation['answered_correctly_content_segment'] =\\\n",
    "                        validation['answered_correctly_content'].apply(\n",
    "                                        lambda x: 1 if x >=0.8 else 0\n",
    "                    )"
   ]
  },
  {
   "cell_type": "code",
   "execution_count": 134,
   "metadata": {
    "ExecuteTime": {
     "end_time": "2020-10-17T13:17:40.113011Z",
     "start_time": "2020-10-17T13:17:37.277460Z"
    }
   },
   "outputs": [
    {
     "data": {
      "text/plain": [
       "<matplotlib.axes._subplots.AxesSubplot at 0x11af04dd0>"
      ]
     },
     "execution_count": 134,
     "metadata": {},
     "output_type": "execute_result"
    },
    {
     "data": {
      "image/png": "[encoded data removed]",
      "text/plain": [
       "<Figure size 432x288 with 1 Axes>"
      ]
     },
     "metadata": {},
     "output_type": "display_data"
    }
   ],
   "source": [
    "# user부분에서 이상치를 제거할 곳이 있을듯\n",
    "sns.distplot(X[X['answered_correctly'] == 0]['answered_correctly_user'])\n",
    "sns.distplot(X[X['answered_correctly'] == 1]['answered_correctly_user'])"
   ]
  },
  {
   "cell_type": "code",
   "execution_count": 135,
   "metadata": {
    "ExecuteTime": {
     "end_time": "2020-10-17T13:23:29.947971Z",
     "start_time": "2020-10-17T13:23:27.029185Z"
    }
   },
   "outputs": [
    {
     "data": {
      "text/plain": [
       "<matplotlib.axes._subplots.AxesSubplot at 0x11c415f90>"
      ]
     },
     "execution_count": 135,
     "metadata": {},
     "output_type": "execute_result"
    },
    {
     "data": {
      "image/png": "[encoded data removed]",
      "text/plain": [
       "<Figure size 432x288 with 1 Axes>"
      ]
     },
     "metadata": {},
     "output_type": "display_data"
    }
   ],
   "source": [
    "# 로그화하자\n",
    "sns.distplot(X[X['answered_correctly'] == 0]['count'])\n",
    "sns.distplot(X[X['answered_correctly'] == 1]['count'])"
   ]
  },
  {
   "cell_type": "code",
   "execution_count": 204,
   "metadata": {
    "ExecuteTime": {
     "end_time": "2020-10-17T14:52:53.103587Z",
     "start_time": "2020-10-17T14:52:49.053819Z"
    }
   },
   "outputs": [],
   "source": [
    "X['count_log'] = X['count'].apply(\n",
    "                lambda x: np.log(x) if x>0 else 0\n",
    "                                  )\n",
    "validation['count_log'] = validation['count'].apply(\n",
    "                lambda x: np.log(x) if x>0 else 0\n",
    "                                  )"
   ]
  },
  {
   "cell_type": "code",
   "execution_count": 136,
   "metadata": {
    "ExecuteTime": {
     "end_time": "2020-10-17T13:23:49.945769Z",
     "start_time": "2020-10-17T13:23:46.861862Z"
    }
   },
   "outputs": [
    {
     "data": {
      "text/plain": [
       "<matplotlib.axes._subplots.AxesSubplot at 0x11c2e5610>"
      ]
     },
     "execution_count": 136,
     "metadata": {},
     "output_type": "execute_result"
    },
    {
     "data": {
      "image/png": "[encoded data removed]",
      "text/plain": [
       "<Figure size 432x288 with 1 Axes>"
      ]
     },
     "metadata": {},
     "output_type": "display_data"
    }
   ],
   "source": [
    "# 로그화하자\n",
    "sns.distplot(X[X['answered_correctly'] == 0]['content_sum'])\n",
    "sns.distplot(X[X['answered_correctly'] == 1]['content_sum'])"
   ]
  },
  {
   "cell_type": "code",
   "execution_count": 205,
   "metadata": {
    "ExecuteTime": {
     "end_time": "2020-10-17T14:52:58.049723Z",
     "start_time": "2020-10-17T14:52:53.105154Z"
    }
   },
   "outputs": [],
   "source": [
    "X['content_sum_log'] = X['content_sum'].apply(\n",
    "                lambda x: np.log(x) if x>0 else 0\n",
    "                                  )\n",
    "validation['content_sum_log'] = validation['content_sum'].apply(\n",
    "                lambda x: np.log(x) if x>0 else 0\n",
    "                                  )"
   ]
  },
  {
   "cell_type": "code",
   "execution_count": 137,
   "metadata": {
    "ExecuteTime": {
     "end_time": "2020-10-17T13:24:32.549879Z",
     "start_time": "2020-10-17T13:24:29.285919Z"
    }
   },
   "outputs": [
    {
     "data": {
      "text/plain": [
       "<matplotlib.axes._subplots.AxesSubplot at 0x11c2f0b50>"
      ]
     },
     "execution_count": 137,
     "metadata": {},
     "output_type": "execute_result"
    },
    {
     "data": {
      "image/png": "[encoded data removed]",
      "text/plain": [
       "<Figure size 432x288 with 1 Axes>"
      ]
     },
     "metadata": {},
     "output_type": "display_data"
    }
   ],
   "source": [
    "# 로그화하자\n",
    "sns.distplot(X[X['answered_correctly'] == 0]['content_count'])\n",
    "sns.distplot(X[X['answered_correctly'] == 1]['content_count'])"
   ]
  },
  {
   "cell_type": "code",
   "execution_count": 206,
   "metadata": {
    "ExecuteTime": {
     "end_time": "2020-10-17T14:53:03.860020Z",
     "start_time": "2020-10-17T14:52:58.051244Z"
    }
   },
   "outputs": [],
   "source": [
    "X['content_count_log'] = X['content_count'].apply(\n",
    "                lambda x: np.log(x) if x>0 else 0\n",
    "                                  )\n",
    "validation['content_count_log'] = validation['content_count'].apply(\n",
    "                lambda x: np.log(x) if x>0 else 0\n",
    "                                  )"
   ]
  },
  {
   "cell_type": "markdown",
   "metadata": {},
   "source": [
    "# 모델 학습 및 추론"
   ]
  },
  {
   "cell_type": "markdown",
   "metadata": {},
   "source": [
    "## 타겟 변수 추출\n",
    "- 정답 여부 변수"
   ]
  },
  {
   "cell_type": "code",
   "execution_count": 207,
   "metadata": {
    "ExecuteTime": {
     "end_time": "2020-10-17T14:53:05.469591Z",
     "start_time": "2020-10-17T14:53:03.863192Z"
    }
   },
   "outputs": [],
   "source": [
    "y = X['answered_correctly']\n",
    "X = X.drop(['answered_correctly'], axis=1)\n",
    "\n",
    "y_val = validation['answered_correctly']\n",
    "X_val = validation.drop(['answered_correctly'], axis=1)"
   ]
  },
  {
   "cell_type": "markdown",
   "metadata": {},
   "source": [
    "## 훈련시킬 변수만 추출"
   ]
  },
  {
   "cell_type": "code",
   "execution_count": 208,
   "metadata": {
    "ExecuteTime": {
     "end_time": "2020-10-17T14:53:05.475246Z",
     "start_time": "2020-10-17T14:53:05.471161Z"
    }
   },
   "outputs": [],
   "source": [
    "except_column_list = [\n",
    "    'timestamp','user_id','content_id','content_type_id',\n",
    "    'bundle_id','question_id','prior_question_had_explanation',\n",
    "    'correct_answer','tags',\n",
    "]"
   ]
  },
  {
   "cell_type": "code",
   "execution_count": 209,
   "metadata": {
    "ExecuteTime": {
     "end_time": "2020-10-17T14:53:05.479808Z",
     "start_time": "2020-10-17T14:53:05.476685Z"
    }
   },
   "outputs": [],
   "source": [
    "need_col = list(set(X.columns.tolist()) - set(except_column_list))"
   ]
  },
  {
   "cell_type": "code",
   "execution_count": 210,
   "metadata": {
    "ExecuteTime": {
     "end_time": "2020-10-17T14:53:05.946996Z",
     "start_time": "2020-10-17T14:53:05.481150Z"
    }
   },
   "outputs": [],
   "source": [
    "# 훈련시킬 변수만 추출\n",
    "X = X[need_col]\n",
    "X_val = X_val[need_col]"
   ]
  },
  {
   "cell_type": "markdown",
   "metadata": {},
   "source": [
    "## 결측치 처리"
   ]
  },
  {
   "cell_type": "code",
   "execution_count": 211,
   "metadata": {
    "ExecuteTime": {
     "end_time": "2020-10-17T14:53:06.014567Z",
     "start_time": "2020-10-17T14:53:05.951037Z"
    }
   },
   "outputs": [],
   "source": [
    "# Filling with 0.5 for simplicity; there could likely be a better value\n",
    "# 결측치 처리에 있어서도 고민이 필요할 듯\n",
    "\n",
    "# train\n",
    "X['answered_correctly_user'].fillna(0.5,  inplace=True)\n",
    "X['answered_correctly_content'].fillna(0.5,  inplace=True)\n",
    "\n",
    "X['part'].fillna(4,inplace = True)\n",
    "# X['lecture_part'].fillna(4,inplace = True)\n",
    "X['sum'].fillna(0, inplace = True)\n",
    "X['count'].fillna(0, inplace = True)\n",
    "X['content_sum'].fillna(0, inplace = True)\n",
    "X['content_count'].fillna(0, inplace = True)\n",
    "X['prior_question_elapsed_time'].fillna(time_mean, inplace = True)\n",
    "X['prior_question_had_explanation_enc'].fillna(0, inplace = True)\n",
    "\n",
    "\n",
    "# validation\n",
    "# Filling with 0.5 for simplicity; there could likely be a better value\n",
    "X_val['answered_correctly_user'].fillna(0.5,  inplace=True)\n",
    "X_val['answered_correctly_content'].fillna(0.5,  inplace=True)\n",
    "\n",
    "X_val['part'].fillna(4,inplace = True)\n",
    "# X_val['lecture_part'].fillna(4,inplace = True)\n",
    "X_val['count'].fillna(0, inplace = True)\n",
    "X_val['sum'].fillna(0, inplace = True)\n",
    "X_val['content_sum'].fillna(0, inplace = True)\n",
    "X_val['content_count'].fillna(0, inplace = True)\n",
    "X_val['prior_question_elapsed_time'].fillna(time_mean, inplace = True)\n",
    "X_val['prior_question_had_explanation_enc'].fillna(0, inplace = True)"
   ]
  },
  {
   "cell_type": "code",
   "execution_count": 258,
   "metadata": {
    "ExecuteTime": {
     "end_time": "2020-10-20T14:35:11.150543Z",
     "start_time": "2020-10-20T14:35:10.167058Z"
    }
   },
   "outputs": [],
   "source": [
    "X2 = X.drop(columns = ['U_C_pprior_question_elasped_time','U_C_next_question_elasped_time','U_C_prior_question_elapsed_time_mean'])\n",
    "X_val2 = X_val.drop(columns = ['U_C_pprior_question_elasped_time','U_C_next_question_elasped_time','U_C_prior_question_elapsed_time_mean'])"
   ]
  },
  {
   "cell_type": "markdown",
   "metadata": {},
   "source": [
    "## 모델 파라미터 정의"
   ]
  },
  {
   "cell_type": "code",
   "execution_count": 259,
   "metadata": {
    "ExecuteTime": {
     "end_time": "2020-10-20T14:35:21.680067Z",
     "start_time": "2020-10-20T14:35:21.552784Z"
    }
   },
   "outputs": [],
   "source": [
    "import lightgbm as lgb\n",
    "\n",
    "params = {\n",
    "    'objective': 'binary',\n",
    "    'max_bin': 600,\n",
    "    'learning_rate': 0.02,\n",
    "    'num_leaves': 80,\n",
    "}\n",
    "\n",
    "lgb_train = lgb.Dataset(X2, y)\n",
    "lgb_eval = lgb.Dataset(X_val2, y_val, reference=lgb_train)"
   ]
  },
  {
   "cell_type": "markdown",
   "metadata": {},
   "source": [
    "## 모델 학습\n",
    "- 교차검증 예정"
   ]
  },
  {
   "cell_type": "code",
   "execution_count": 260,
   "metadata": {
    "ExecuteTime": {
     "end_time": "2020-10-20T14:39:21.058377Z",
     "start_time": "2020-10-20T14:35:34.069279Z"
    },
    "scrolled": true
   },
   "outputs": [
    {
     "name": "stdout",
     "output_type": "stream",
     "text": [
      "Training until validation scores don't improve for 12 rounds\n",
      "[25]\ttraining's binary_logloss: 0.622907\tvalid_1's binary_logloss: 0.631608\n",
      "[50]\ttraining's binary_logloss: 0.600324\tvalid_1's binary_logloss: 0.606621\n",
      "[75]\ttraining's binary_logloss: 0.590576\tvalid_1's binary_logloss: 0.596459\n",
      "[100]\ttraining's binary_logloss: 0.586154\tvalid_1's binary_logloss: 0.592183\n",
      "[125]\ttraining's binary_logloss: 0.584011\tvalid_1's binary_logloss: 0.590257\n",
      "[150]\ttraining's binary_logloss: 0.582836\tvalid_1's binary_logloss: 0.589234\n",
      "[175]\ttraining's binary_logloss: 0.582092\tvalid_1's binary_logloss: 0.588668\n",
      "[200]\ttraining's binary_logloss: 0.581563\tvalid_1's binary_logloss: 0.588287\n",
      "[225]\ttraining's binary_logloss: 0.581145\tvalid_1's binary_logloss: 0.58801\n",
      "[250]\ttraining's binary_logloss: 0.58082\tvalid_1's binary_logloss: 0.587795\n",
      "[275]\ttraining's binary_logloss: 0.580535\tvalid_1's binary_logloss: 0.587616\n",
      "[300]\ttraining's binary_logloss: 0.580287\tvalid_1's binary_logloss: 0.587458\n",
      "[325]\ttraining's binary_logloss: 0.580091\tvalid_1's binary_logloss: 0.587357\n",
      "[350]\ttraining's binary_logloss: 0.579921\tvalid_1's binary_logloss: 0.587244\n",
      "[375]\ttraining's binary_logloss: 0.579775\tvalid_1's binary_logloss: 0.587166\n",
      "[400]\ttraining's binary_logloss: 0.579638\tvalid_1's binary_logloss: 0.587105\n",
      "[425]\ttraining's binary_logloss: 0.579507\tvalid_1's binary_logloss: 0.587036\n",
      "[450]\ttraining's binary_logloss: 0.579374\tvalid_1's binary_logloss: 0.586992\n",
      "[475]\ttraining's binary_logloss: 0.579254\tvalid_1's binary_logloss: 0.586947\n",
      "[500]\ttraining's binary_logloss: 0.579133\tvalid_1's binary_logloss: 0.5869\n",
      "[525]\ttraining's binary_logloss: 0.579025\tvalid_1's binary_logloss: 0.586868\n",
      "[550]\ttraining's binary_logloss: 0.57891\tvalid_1's binary_logloss: 0.58683\n",
      "[575]\ttraining's binary_logloss: 0.578802\tvalid_1's binary_logloss: 0.586808\n",
      "[600]\ttraining's binary_logloss: 0.578688\tvalid_1's binary_logloss: 0.586776\n",
      "[625]\ttraining's binary_logloss: 0.578585\tvalid_1's binary_logloss: 0.586752\n",
      "[650]\ttraining's binary_logloss: 0.578477\tvalid_1's binary_logloss: 0.586724\n",
      "[675]\ttraining's binary_logloss: 0.578376\tvalid_1's binary_logloss: 0.586695\n",
      "[700]\ttraining's binary_logloss: 0.578274\tvalid_1's binary_logloss: 0.586661\n",
      "[725]\ttraining's binary_logloss: 0.578181\tvalid_1's binary_logloss: 0.586645\n",
      "[750]\ttraining's binary_logloss: 0.57809\tvalid_1's binary_logloss: 0.586626\n",
      "[775]\ttraining's binary_logloss: 0.577995\tvalid_1's binary_logloss: 0.586602\n",
      "[800]\ttraining's binary_logloss: 0.577903\tvalid_1's binary_logloss: 0.586578\n",
      "[825]\ttraining's binary_logloss: 0.577814\tvalid_1's binary_logloss: 0.586561\n",
      "[850]\ttraining's binary_logloss: 0.577725\tvalid_1's binary_logloss: 0.586552\n",
      "[875]\ttraining's binary_logloss: 0.577629\tvalid_1's binary_logloss: 0.586534\n",
      "[900]\ttraining's binary_logloss: 0.577542\tvalid_1's binary_logloss: 0.586516\n",
      "[925]\ttraining's binary_logloss: 0.577456\tvalid_1's binary_logloss: 0.586507\n",
      "[950]\ttraining's binary_logloss: 0.577368\tvalid_1's binary_logloss: 0.586497\n",
      "[975]\ttraining's binary_logloss: 0.577277\tvalid_1's binary_logloss: 0.586484\n",
      "[1000]\ttraining's binary_logloss: 0.577185\tvalid_1's binary_logloss: 0.586464\n",
      "[1025]\ttraining's binary_logloss: 0.577094\tvalid_1's binary_logloss: 0.586445\n",
      "Early stopping, best iteration is:\n",
      "[1033]\ttraining's binary_logloss: 0.577067\tvalid_1's binary_logloss: 0.586442\n"
     ]
    }
   ],
   "source": [
    "model = lgb.train(\n",
    "    params, lgb_train,\n",
    "    valid_sets=[lgb_train, lgb_eval],\n",
    "    verbose_eval=25,\n",
    "    num_boost_round=10000,\n",
    "    early_stopping_rounds=12   # early_stopping_rounds = 12라는 뜻은 epoch 12에서 성능이 가장 좋으면 return하는 파라미터??\n",
    ")"
   ]
  },
  {
   "cell_type": "code",
   "execution_count": 213,
   "metadata": {
    "ExecuteTime": {
     "end_time": "2020-10-17T14:58:55.284704Z",
     "start_time": "2020-10-17T14:53:06.022878Z"
    },
    "scrolled": true
   },
   "outputs": [
    {
     "name": "stdout",
     "output_type": "stream",
     "text": [
      "Training until validation scores don't improve for 12 rounds\n",
      "[25]\ttraining's binary_logloss: 0.621442\tvalid_1's binary_logloss: 0.628978\n",
      "[50]\ttraining's binary_logloss: 0.597944\tvalid_1's binary_logloss: 0.603059\n",
      "[75]\ttraining's binary_logloss: 0.587465\tvalid_1's binary_logloss: 0.592135\n",
      "[100]\ttraining's binary_logloss: 0.582423\tvalid_1's binary_logloss: 0.587148\n",
      "[125]\ttraining's binary_logloss: 0.579455\tvalid_1's binary_logloss: 0.584438\n",
      "[150]\ttraining's binary_logloss: 0.577411\tvalid_1's binary_logloss: 0.582701\n",
      "[175]\ttraining's binary_logloss: 0.575926\tvalid_1's binary_logloss: 0.581492\n",
      "[200]\ttraining's binary_logloss: 0.574631\tvalid_1's binary_logloss: 0.580539\n",
      "[225]\ttraining's binary_logloss: 0.573708\tvalid_1's binary_logloss: 0.579874\n",
      "[250]\ttraining's binary_logloss: 0.572947\tvalid_1's binary_logloss: 0.579337\n",
      "[275]\ttraining's binary_logloss: 0.572226\tvalid_1's binary_logloss: 0.578861\n",
      "[300]\ttraining's binary_logloss: 0.571628\tvalid_1's binary_logloss: 0.578458\n",
      "[325]\ttraining's binary_logloss: 0.571149\tvalid_1's binary_logloss: 0.57814\n",
      "[350]\ttraining's binary_logloss: 0.570761\tvalid_1's binary_logloss: 0.577875\n",
      "[375]\ttraining's binary_logloss: 0.570453\tvalid_1's binary_logloss: 0.577681\n",
      "[400]\ttraining's binary_logloss: 0.57016\tvalid_1's binary_logloss: 0.57753\n",
      "[425]\ttraining's binary_logloss: 0.569911\tvalid_1's binary_logloss: 0.577407\n",
      "[450]\ttraining's binary_logloss: 0.569701\tvalid_1's binary_logloss: 0.577314\n",
      "[475]\ttraining's binary_logloss: 0.569487\tvalid_1's binary_logloss: 0.577192\n",
      "[500]\ttraining's binary_logloss: 0.56928\tvalid_1's binary_logloss: 0.577096\n",
      "[525]\ttraining's binary_logloss: 0.569091\tvalid_1's binary_logloss: 0.577005\n",
      "[550]\ttraining's binary_logloss: 0.568932\tvalid_1's binary_logloss: 0.576929\n",
      "[575]\ttraining's binary_logloss: 0.568754\tvalid_1's binary_logloss: 0.576859\n",
      "[600]\ttraining's binary_logloss: 0.56859\tvalid_1's binary_logloss: 0.576785\n",
      "[625]\ttraining's binary_logloss: 0.568446\tvalid_1's binary_logloss: 0.576722\n",
      "[650]\ttraining's binary_logloss: 0.568313\tvalid_1's binary_logloss: 0.576669\n",
      "[675]\ttraining's binary_logloss: 0.568158\tvalid_1's binary_logloss: 0.576601\n",
      "[700]\ttraining's binary_logloss: 0.568004\tvalid_1's binary_logloss: 0.576547\n",
      "[725]\ttraining's binary_logloss: 0.567856\tvalid_1's binary_logloss: 0.576487\n",
      "[750]\ttraining's binary_logloss: 0.567726\tvalid_1's binary_logloss: 0.57644\n",
      "[775]\ttraining's binary_logloss: 0.56759\tvalid_1's binary_logloss: 0.576397\n",
      "[800]\ttraining's binary_logloss: 0.567457\tvalid_1's binary_logloss: 0.576342\n",
      "[825]\ttraining's binary_logloss: 0.567338\tvalid_1's binary_logloss: 0.576299\n",
      "[850]\ttraining's binary_logloss: 0.567222\tvalid_1's binary_logloss: 0.576272\n",
      "[875]\ttraining's binary_logloss: 0.567066\tvalid_1's binary_logloss: 0.576215\n",
      "[900]\ttraining's binary_logloss: 0.566951\tvalid_1's binary_logloss: 0.576184\n",
      "[925]\ttraining's binary_logloss: 0.566821\tvalid_1's binary_logloss: 0.576136\n",
      "[950]\ttraining's binary_logloss: 0.566676\tvalid_1's binary_logloss: 0.576081\n",
      "[975]\ttraining's binary_logloss: 0.566562\tvalid_1's binary_logloss: 0.576052\n",
      "[1000]\ttraining's binary_logloss: 0.566447\tvalid_1's binary_logloss: 0.576025\n",
      "[1025]\ttraining's binary_logloss: 0.566322\tvalid_1's binary_logloss: 0.575991\n",
      "[1050]\ttraining's binary_logloss: 0.566216\tvalid_1's binary_logloss: 0.575956\n",
      "[1075]\ttraining's binary_logloss: 0.566101\tvalid_1's binary_logloss: 0.575924\n",
      "[1100]\ttraining's binary_logloss: 0.566002\tvalid_1's binary_logloss: 0.57591\n",
      "[1125]\ttraining's binary_logloss: 0.565874\tvalid_1's binary_logloss: 0.575872\n",
      "[1150]\ttraining's binary_logloss: 0.565756\tvalid_1's binary_logloss: 0.575841\n",
      "[1175]\ttraining's binary_logloss: 0.565657\tvalid_1's binary_logloss: 0.575825\n",
      "[1200]\ttraining's binary_logloss: 0.565549\tvalid_1's binary_logloss: 0.575791\n",
      "[1225]\ttraining's binary_logloss: 0.565417\tvalid_1's binary_logloss: 0.575751\n",
      "[1250]\ttraining's binary_logloss: 0.565285\tvalid_1's binary_logloss: 0.575714\n",
      "[1275]\ttraining's binary_logloss: 0.565164\tvalid_1's binary_logloss: 0.575675\n",
      "[1300]\ttraining's binary_logloss: 0.565041\tvalid_1's binary_logloss: 0.575636\n",
      "[1325]\ttraining's binary_logloss: 0.564921\tvalid_1's binary_logloss: 0.575601\n",
      "[1350]\ttraining's binary_logloss: 0.564813\tvalid_1's binary_logloss: 0.575563\n",
      "[1375]\ttraining's binary_logloss: 0.564685\tvalid_1's binary_logloss: 0.575519\n",
      "[1400]\ttraining's binary_logloss: 0.564587\tvalid_1's binary_logloss: 0.57549\n",
      "[1425]\ttraining's binary_logloss: 0.564473\tvalid_1's binary_logloss: 0.575449\n",
      "[1450]\ttraining's binary_logloss: 0.56437\tvalid_1's binary_logloss: 0.575429\n",
      "[1475]\ttraining's binary_logloss: 0.564265\tvalid_1's binary_logloss: 0.57541\n",
      "[1500]\ttraining's binary_logloss: 0.564162\tvalid_1's binary_logloss: 0.575379\n",
      "[1525]\ttraining's binary_logloss: 0.564057\tvalid_1's binary_logloss: 0.575348\n",
      "[1550]\ttraining's binary_logloss: 0.563966\tvalid_1's binary_logloss: 0.575331\n",
      "[1575]\ttraining's binary_logloss: 0.563873\tvalid_1's binary_logloss: 0.575313\n",
      "[1600]\ttraining's binary_logloss: 0.563775\tvalid_1's binary_logloss: 0.575295\n",
      "[1625]\ttraining's binary_logloss: 0.56368\tvalid_1's binary_logloss: 0.57528\n",
      "[1650]\ttraining's binary_logloss: 0.563588\tvalid_1's binary_logloss: 0.575264\n",
      "[1675]\ttraining's binary_logloss: 0.563495\tvalid_1's binary_logloss: 0.575241\n",
      "[1700]\ttraining's binary_logloss: 0.563395\tvalid_1's binary_logloss: 0.575229\n",
      "[1725]\ttraining's binary_logloss: 0.563313\tvalid_1's binary_logloss: 0.575218\n",
      "[1750]\ttraining's binary_logloss: 0.563223\tvalid_1's binary_logloss: 0.575204\n",
      "[1775]\ttraining's binary_logloss: 0.563137\tvalid_1's binary_logloss: 0.575188\n",
      "[1800]\ttraining's binary_logloss: 0.563053\tvalid_1's binary_logloss: 0.57517\n",
      "[1825]\ttraining's binary_logloss: 0.562966\tvalid_1's binary_logloss: 0.575159\n",
      "[1850]\ttraining's binary_logloss: 0.562878\tvalid_1's binary_logloss: 0.575144\n",
      "Early stopping, best iteration is:\n",
      "[1853]\ttraining's binary_logloss: 0.562869\tvalid_1's binary_logloss: 0.575143\n"
     ]
    }
   ],
   "source": [
    "model = lgb.train(\n",
    "    params, lgb_train,\n",
    "    valid_sets=[lgb_train, lgb_eval],\n",
    "    verbose_eval=25,\n",
    "    num_boost_round=10000,\n",
    "    early_stopping_rounds=12   # early_stopping_rounds = 12라는 뜻은 epoch 12에서 성능이 가장 좋으면 return하는 파라미터??\n",
    ")"
   ]
  },
  {
   "cell_type": "code",
   "execution_count": 181,
   "metadata": {
    "ExecuteTime": {
     "end_time": "2020-10-17T14:06:55.032798Z",
     "start_time": "2020-10-17T14:02:56.868277Z"
    }
   },
   "outputs": [
    {
     "name": "stdout",
     "output_type": "stream",
     "text": [
      "Training until validation scores don't improve for 12 rounds\n",
      "[25]\ttraining's binary_logloss: 0.624412\tvalid_1's binary_logloss: 0.640108\n",
      "[50]\ttraining's binary_logloss: 0.598147\tvalid_1's binary_logloss: 0.618805\n",
      "[75]\ttraining's binary_logloss: 0.586065\tvalid_1's binary_logloss: 0.609127\n",
      "[100]\ttraining's binary_logloss: 0.580076\tvalid_1's binary_logloss: 0.604351\n",
      "[125]\ttraining's binary_logloss: 0.576781\tvalid_1's binary_logloss: 0.601788\n",
      "[150]\ttraining's binary_logloss: 0.574726\tvalid_1's binary_logloss: 0.600191\n",
      "[175]\ttraining's binary_logloss: 0.573365\tvalid_1's binary_logloss: 0.599063\n",
      "[200]\ttraining's binary_logloss: 0.572381\tvalid_1's binary_logloss: 0.598249\n",
      "[225]\ttraining's binary_logloss: 0.571599\tvalid_1's binary_logloss: 0.597684\n",
      "[250]\ttraining's binary_logloss: 0.570953\tvalid_1's binary_logloss: 0.597234\n",
      "[275]\ttraining's binary_logloss: 0.570411\tvalid_1's binary_logloss: 0.596929\n",
      "[300]\ttraining's binary_logloss: 0.569958\tvalid_1's binary_logloss: 0.596564\n",
      "[325]\ttraining's binary_logloss: 0.569568\tvalid_1's binary_logloss: 0.596269\n",
      "[350]\ttraining's binary_logloss: 0.569252\tvalid_1's binary_logloss: 0.596048\n",
      "[375]\ttraining's binary_logloss: 0.568987\tvalid_1's binary_logloss: 0.59592\n",
      "[400]\ttraining's binary_logloss: 0.568766\tvalid_1's binary_logloss: 0.595853\n",
      "[425]\ttraining's binary_logloss: 0.568583\tvalid_1's binary_logloss: 0.595768\n",
      "[450]\ttraining's binary_logloss: 0.568421\tvalid_1's binary_logloss: 0.595721\n",
      "Early stopping, best iteration is:\n",
      "[460]\ttraining's binary_logloss: 0.568332\tvalid_1's binary_logloss: 0.595677\n"
     ]
    }
   ],
   "source": [
    "model = lgb.train(\n",
    "    params, lgb_train,\n",
    "    valid_sets=[lgb_train, lgb_eval],\n",
    "    verbose_eval=25,\n",
    "    num_boost_round=10000,\n",
    "    early_stopping_rounds=12   # early_stopping_rounds = 12라는 뜻은 epoch 12에서 성능이 가장 좋으면 return하는 파라미터??\n",
    ")"
   ]
  },
  {
   "cell_type": "code",
   "execution_count": 184,
   "metadata": {
    "ExecuteTime": {
     "end_time": "2020-10-17T14:13:34.942592Z",
     "start_time": "2020-10-17T14:13:34.638621Z"
    }
   },
   "outputs": [
    {
     "data": {
      "image/png": "[encoded data removed]",
      "text/plain": [
       "<Figure size 432x288 with 1 Axes>"
      ]
     },
     "metadata": {},
     "output_type": "display_data"
    }
   ],
   "source": [
    "#displaying the most important features\n",
    "lgb.plot_importance(model)\n",
    "plt.show()"
   ]
  },
  {
   "cell_type": "markdown",
   "metadata": {},
   "source": [
    "## 모델링 결과"
   ]
  },
  {
   "cell_type": "code",
   "execution_count": 214,
   "metadata": {
    "ExecuteTime": {
     "end_time": "2020-10-17T14:59:18.007188Z",
     "start_time": "2020-10-17T14:58:55.287257Z"
    }
   },
   "outputs": [
    {
     "data": {
      "text/plain": [
       "0.7662663911883807"
      ]
     },
     "execution_count": 214,
     "metadata": {},
     "output_type": "execute_result"
    }
   ],
   "source": [
    "y_pred = model.predict(X_val)\n",
    "y_true = np.array(y_val)\n",
    "roc_auc_score(y_true, y_pred)"
   ]
  },
  {
   "cell_type": "code",
   "execution_count": 262,
   "metadata": {
    "ExecuteTime": {
     "end_time": "2020-10-20T14:40:03.536436Z",
     "start_time": "2020-10-20T14:39:52.254736Z"
    },
    "scrolled": true
   },
   "outputs": [
    {
     "data": {
      "text/plain": [
       "0.75334556391273"
      ]
     },
     "execution_count": 262,
     "metadata": {},
     "output_type": "execute_result"
    }
   ],
   "source": [
    "y_pred = model.predict(X_val2)\n",
    "y_true = np.array(y_val)\n",
    "roc_auc_score(y_true, y_pred)"
   ]
  },
  {
   "cell_type": "markdown",
   "metadata": {},
   "source": [
    "## 변수중요도"
   ]
  },
  {
   "cell_type": "code",
   "execution_count": 215,
   "metadata": {
    "ExecuteTime": {
     "end_time": "2020-10-17T14:59:18.422006Z",
     "start_time": "2020-10-17T14:59:18.011022Z"
    }
   },
   "outputs": [
    {
     "data": {
      "image/png": "[encoded data removed]",
      "text/plain": [
       "<Figure size 432x288 with 1 Axes>"
      ]
     },
     "metadata": {},
     "output_type": "display_data"
    }
   ],
   "source": [
    "#displaying the most important features\n",
    "lgb.plot_importance(model)\n",
    "plt.show()"
   ]
  },
  {
   "cell_type": "code",
   "execution_count": 221,
   "metadata": {
    "ExecuteTime": {
     "end_time": "2020-10-17T15:03:25.388599Z",
     "start_time": "2020-10-17T15:03:25.383087Z"
    }
   },
   "outputs": [],
   "source": [
    "test_df = test"
   ]
  },
  {
   "cell_type": "code",
   "execution_count": 222,
   "metadata": {
    "ExecuteTime": {
     "end_time": "2020-10-17T15:05:04.021284Z",
     "start_time": "2020-10-17T15:03:32.548943Z"
    }
   },
   "outputs": [],
   "source": [
    "# 데이터 병합\n",
    "test_df = pd.merge(test_df, questions_df, left_on = 'content_id', right_on = 'question_id', how = 'left')\n",
    "#test_df = pd.merge(test_df, lecture_df, left_on = 'content_id', right_on = 'lecture_id', how = 'left')\n",
    "test_df = pd.merge(test_df, results_u_final, on=['user_id'],  how=\"left\")\n",
    "test_df = pd.merge(test_df, results_c_final, on=['content_id'],  how=\"left\")\n",
    "test_df = pd.merge(test_df, temp_user_pp, on = 'user_id', how = 'left')\n",
    "test_df = pd.merge(test_df, temp_U_C_pp, on = ['user_id','content_id'], how = 'left')\n",
    "test_df = pd.merge(test_df, temp_user_next, on = 'user_id', how = 'left')\n",
    "test_df = pd.merge(test_df, temp_U_C_next, on = ['user_id','content_id'], how = 'left')\n",
    "test_df = pd.merge(test_df, temp_user_p, on = 'user_id', how = 'left')\n",
    "test_df = pd.merge(test_df, temp_U_C_p, on = ['user_id','content_id'], how = 'left')\n",
    "# 변수 생성\n",
    "test_df['content_user_mean_sum'] = test_df['answered_correctly_content'] + test_df['answered_correctly_user']\n",
    "test_df['content_user_mean_multiple'] = test_df['answered_correctly_content'] * test_df['answered_correctly_user']\n",
    "test_df['content_cnt_sum_division'] = test_df['content_count'] / test_df['content_sum']\n",
    "test_df['user_cnt_sum_division'] = test_df['count'] / test_df['sum']\n",
    "test_df['answered_correctly_content_segment'] =\\\n",
    "                    test_df['answered_correctly_content'].apply(\n",
    "                                    lambda x: 1 if x >=0.8 else 0\n",
    "                )\n",
    "\n",
    "test_df['count_log'] = test_df['count'].apply(\n",
    "            lambda x: np.log(x) if x>0 else 0\n",
    "                              )\n",
    "test_df['content_sum_log'] = test_df['content_sum'].apply(\n",
    "                lambda x: np.log(x) if x>0 else 0\n",
    "                                  )\n",
    "test_df['content_count_log'] = test_df['content_count'].apply(\n",
    "                lambda x: np.log(x) if x>0 else 0\n",
    "                                  )\n",
    "# 결측치 처리하는 부분\n",
    "test_df['answered_correctly_user'].fillna(0.5,  inplace=True)\n",
    "test_df['answered_correctly_content'].fillna(0.5,  inplace=True)\n",
    "test_df['part'] = test_df.part - 1\n",
    "#test_df['lecture_part'] = test_df.lecture_part - 1\n",
    "\n",
    "test_df['part'].fillna(4, inplace = True)\n",
    "#test_df['lecture_part'].fillna(4, inplace = True)\n",
    "test_df['sum'].fillna(0, inplace=True)\n",
    "test_df['count'].fillna(0, inplace=True)\n",
    "test_df['content_sum'].fillna(0, inplace=True)\n",
    "test_df['content_count'].fillna(0, inplace=True)\n",
    "test_df['prior_question_elapsed_time'].fillna(time_mean, inplace = True)\n",
    "test_df['prior_question_had_explanation'].fillna(False, inplace=True)\n",
    "test_df[\"prior_question_had_explanation_enc\"] = lb_make.fit_transform(test_df[\"prior_question_had_explanation\"])\n"
   ]
  },
  {
   "cell_type": "markdown",
   "metadata": {},
   "source": [
    "# 캐글에 올릴 데이터"
   ]
  },
  {
   "cell_type": "code",
   "execution_count": 230,
   "metadata": {
    "ExecuteTime": {
     "end_time": "2020-10-18T02:31:42.069598Z",
     "start_time": "2020-10-18T02:24:40.751117Z"
    }
   },
   "outputs": [],
   "source": [
    "results_c.to_csv(f'{data_file_path}results_c.csv',index = False)\n",
    "results_u.to_csv(f'{data_file_path}results_u.csv',index = False)\n",
    "results_c_final.to_csv(f'{data_file_path}results_c_final.csv',index = False)\n",
    "results_u_final.to_csv(f'{data_file_path}results_u_final.csv',index = False)\n",
    "\n",
    "temp_user_pp.to_csv(f'{data_file_path}temp_user_pp.csv',index = False)\n",
    "temp_U_C_pp.to_csv(f'{data_file_path}temp_U_C_pp.csv',index = False)\n",
    "temp_user_next.to_csv(f'{data_file_path}temp_user_next.csv',index = False)\n",
    "temp_U_C_next.to_csv(f'{data_file_path}temp_U_C_next.csv',index = False)\n",
    "temp_user_p.to_csv(f'{data_file_path}temp_user_p.csv',index = False)\n",
    "temp_U_C_p.to_csv(f'{data_file_path}temp_U_C_p.csv',index = False)\n",
    "\n",
    "X_dump.to_csv(f'{data_file_path}X_dump.csv',index = False)\n",
    "validation_dump.to_csv(f'{data_file_path}validation_dump.csv',index = False)"
   ]
  },
  {
   "cell_type": "code",
   "execution_count": 253,
   "metadata": {
    "ExecuteTime": {
     "end_time": "2020-10-18T13:37:48.146120Z",
     "start_time": "2020-10-18T13:37:48.113979Z"
    }
   },
   "outputs": [],
   "source": [
    "test_df = pd.read_csv(f'{data_file_path}results_c.csv')"
   ]
  },
  {
   "cell_type": "markdown",
   "metadata": {},
   "source": [
    "# 잠깐 테스트"
   ]
  },
  {
   "cell_type": "code",
   "execution_count": 278,
   "metadata": {
    "ExecuteTime": {
     "end_time": "2020-10-23T12:21:26.553024Z",
     "start_time": "2020-10-23T12:21:26.550451Z"
    }
   },
   "outputs": [],
   "source": [
    "it = iter([1,2,3])"
   ]
  },
  {
   "cell_type": "code",
   "execution_count": 279,
   "metadata": {
    "ExecuteTime": {
     "end_time": "2020-10-23T13:26:32.207514Z",
     "start_time": "2020-10-23T13:26:32.159123Z"
    }
   },
   "outputs": [],
   "source": [
    "sample = pd.read_csv('sample_submission.csv')"
   ]
  },
  {
   "cell_type": "code",
   "execution_count": 283,
   "metadata": {
    "ExecuteTime": {
     "end_time": "2020-10-23T13:26:47.191725Z",
     "start_time": "2020-10-23T13:26:47.188192Z"
    }
   },
   "outputs": [
    {
     "data": {
      "text/plain": [
       "'1.0 0 0 50 50'"
      ]
     },
     "execution_count": 283,
     "metadata": {},
     "output_type": "execute_result"
    }
   ],
   "source": [
    "sample['PredictionString'].iloc[0]"
   ]
  },
  {
   "cell_type": "code",
   "execution_count": 277,
   "metadata": {
    "ExecuteTime": {
     "end_time": "2020-10-23T12:19:45.427675Z",
     "start_time": "2020-10-23T12:19:45.415595Z"
    }
   },
   "outputs": [
    {
     "ename": "StopIteration",
     "evalue": "",
     "output_type": "error",
     "traceback": [
      "\u001b[0;31m---------------------------------------------------------------------------\u001b[0m",
      "\u001b[0;31mStopIteration\u001b[0m                             Traceback (most recent call last)",
      "\u001b[0;32m<ipython-input-277-74e64ed6c80d>\u001b[0m in \u001b[0;36m<module>\u001b[0;34m\u001b[0m\n\u001b[0;32m----> 1\u001b[0;31m \u001b[0mit\u001b[0m\u001b[0;34m.\u001b[0m\u001b[0m__next__\u001b[0m\u001b[0;34m(\u001b[0m\u001b[0;34m)\u001b[0m\u001b[0;34m\u001b[0m\u001b[0;34m\u001b[0m\u001b[0m\n\u001b[0m",
      "\u001b[0;31mStopIteration\u001b[0m: "
     ]
    }
   ],
   "source": [
    "it.__next__()"
   ]
  },
  {
   "cell_type": "code",
   "execution_count": null,
   "metadata": {},
   "outputs": [],
   "source": []
  }
 ],
 "metadata": {
  "kernelspec": {
   "display_name": "Python 3",
   "language": "python",
   "name": "python3"
  },
  "language_info": {
   "codemirror_mode": {
    "name": "ipython",
    "version": 3
   },
   "file_extension": ".py",
   "mimetype": "text/x-python",
   "name": "python",
   "nbconvert_exporter": "python",
   "pygments_lexer": "ipython3",
   "version": "3.7.7"
  },
  "toc": {
   "base_numbering": 1,
   "nav_menu": {},
   "number_sections": true,
   "sideBar": true,
   "skip_h1_title": false,
   "title_cell": "Table of Contents",
   "title_sidebar": "Contents",
   "toc_cell": false,
   "toc_position": {
    "height": "calc(100% - 180px)",
    "left": "10px",
    "top": "150px",
    "width": "197.778px"
   },
   "toc_section_display": true,
   "toc_window_display": true
  }
 },
 "nbformat": 4,
 "nbformat_minor": 4
}
