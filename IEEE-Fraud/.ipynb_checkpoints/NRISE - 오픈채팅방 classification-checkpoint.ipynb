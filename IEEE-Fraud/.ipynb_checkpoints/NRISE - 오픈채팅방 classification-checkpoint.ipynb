{
 "cells": [
  {
   "cell_type": "code",
   "execution_count": 127,
   "metadata": {},
   "outputs": [
    {
     "data": {
      "text/html": [
       "        <script type=\"text/javascript\">\n",
       "        window.PlotlyConfig = {MathJaxConfig: 'local'};\n",
       "        if (window.MathJax) {MathJax.Hub.Config({SVG: {font: \"STIX-Web\"}});}\n",
       "        if (typeof require !== 'undefined') {\n",
       "        require.undef(\"plotly\");\n",
       "        requirejs.config({\n",
       "            paths: {\n",
       "                'plotly': ['https://cdn.plot.ly/plotly-latest.min']\n",
       "            }\n",
       "        });\n",
       "        require(['plotly'], function(Plotly) {\n",
       "            window._Plotly = Plotly;\n",
       "        });\n",
       "        }\n",
       "        </script>\n",
       "        "
      ]
     },
     "metadata": {},
     "output_type": "display_data"
    }
   ],
   "source": [
    "import requests # 웹 페이지 소스를 얻기 위한 패키지(기본 내장 패키지이다.)\n",
    "from bs4 import BeautifulSoup # 웹 페이지 소스를 얻기 위한 패키지, 더 간단히 얻을 수 있다는 장점이 있다고 한다.\n",
    "import datetime                                # (!pip install beautifulsoup4 으로 다운받을 수 있다.)\n",
    "import pandas as pd # 데이터를 처리하기 위한 가장 기본적인 패키지\n",
    "import time # 사이트를 불러올 때, 작업 지연시간을 지정해주기 위한 패키지이다. (사이트가 늦게 켜지면 에러가 발생하기 때문)\n",
    "import urllib.request #\n",
    "from selenium.webdriver import Chrome\n",
    "import json\n",
    "import re     \n",
    "from selenium.webdriver.chrome.options import Options\n",
    "from selenium.webdriver.common.keys import Keys\n",
    "import numpy as np\n",
    "import pandas as pd\n",
    "import matplotlib.pyplot as plt\n",
    "import FinanceDataReader as fdr\n",
    "import seaborn as sns\n",
    "import plotly.graph_objs as go\n",
    "import plotly.tools as tls\n",
    "from plotly.offline import iplot, init_notebook_mode\n",
    "import plotly.figure_factory as ff\n",
    "\n",
    "# Using plotly + cufflinks in offline mode\n",
    "init_notebook_mode(connected=True)\n",
    "#cufflinks.go_offline(connected=True)\n",
    "\n",
    "# Preprocessing, modelling and evaluating\n",
    "import scipy as sp\n",
    "from scipy import stats\n",
    "from sklearn import preprocessing\n",
    "from sklearn.metrics import confusion_matrix, roc_auc_score\n",
    "from sklearn.model_selection import StratifiedKFold, cross_val_score, KFold\n",
    "from xgboost import XGBClassifier\n",
    "import xgboost as xgb\n",
    "\n",
    "from sklearn.preprocessing import minmax_scale\n",
    "from sklearn.decomposition import PCA\n",
    "\n",
    "from sklearn.model_selection import KFold,TimeSeriesSplit\n",
    "from sklearn.metrics import roc_auc_score\n",
    "from xgboost import plot_importance\n",
    "from sklearn.metrics import make_scorer\n",
    "\n",
    "import os\n",
    "import gc\n",
    "\n",
    "## Hyperopt modules\n",
    "from hyperopt import fmin, hp, tpe, Trials, space_eval, STATUS_OK, STATUS_RUNNING\n",
    "from functools import partial\n",
    "import pandas as pd\n",
    "import numpy as np\n",
    "from tqdm import tqdm_notebook\n",
    "from sklearn.metrics import roc_auc_score\n",
    "import gc\n",
    "\n",
    "from sklearn.preprocessing import LabelEncoder\n",
    "\n",
    "import matplotlib.pyplot as plt\n",
    "import seaborn as sns\n",
    "sns.set()\n",
    "%matplotlib inline\n",
    "\n",
    "import warnings\n",
    "\n",
    "import warnings\n",
    "import random\n",
    "from sklearn.model_selection import train_test_split\n",
    "from sklearn.metrics import confusion_matrix,accuracy_score, roc_curve, auc\n",
    "from sklearn.model_selection import KFold\n",
    "import lightgbm as lgb"
   ]
  },
  {
   "cell_type": "code",
   "execution_count": 184,
   "metadata": {},
   "outputs": [],
   "source": [
    "plt.style.use('ggplot') #ggplot스타일 사용\n",
    "#한글폰트\n",
    "plt.rc('font', family='nanumgothic')\n",
    "plt.rc('axes', unicode_minus=False)"
   ]
  },
  {
   "cell_type": "code",
   "execution_count": 124,
   "metadata": {},
   "outputs": [],
   "source": [
    "'''사용함수'''\n",
    "def age_interval(x):\n",
    "    if x >=40:\n",
    "        return '40대'\n",
    "    elif 30<=x<40:\n",
    "        return '30대'\n",
    "    elif 20<=x<30:\n",
    "        return '20대'\n",
    "    else:\n",
    "        return '10대'\n",
    "    \n",
    "def point_interval(x):\n",
    "    if x>=90:\n",
    "        return '90점대'\n",
    "    elif 80<=x<90:\n",
    "        return '80점대'\n",
    "    elif 70<=x<80:\n",
    "        return '70점대'\n",
    "    elif 60<=x<70:\n",
    "        return '60점대'\n",
    "    elif 50<=x<60:\n",
    "        return '50점대'\n",
    "    elif 40<=x<50:\n",
    "        return '40점대'\n",
    "    elif 30<=x<40:\n",
    "        return '30점대'\n",
    "    elif 20<=x<30:\n",
    "        return '20점대'\n",
    "    elif 10<=x<20:\n",
    "        return '10점대'\n",
    "    else:\n",
    "        return '10점미만'\n",
    "    \n",
    "def height_interval(x):\n",
    "    if x>=190:\n",
    "        return '190-'\n",
    "    elif 180<=x<190:\n",
    "        return '180-190'\n",
    "    elif 170<=x<180:\n",
    "        return '170-180'\n",
    "    elif 160<=x<170:\n",
    "        return '160-170'\n",
    "    elif 150<=x<160:\n",
    "        return '150-160'\n",
    "    else:\n",
    "        return '-140'"
   ]
  },
  {
   "cell_type": "code",
   "execution_count": 3,
   "metadata": {},
   "outputs": [],
   "source": [
    "reco = pd.read_csv('recommend_data.csv')\n",
    "user0 = pd.read_csv('user_data.csv')"
   ]
  },
  {
   "cell_type": "code",
   "execution_count": 4,
   "metadata": {},
   "outputs": [],
   "source": [
    "'''location이 결측치인 특성을 찾아보려 했으나 뚜렷한 특성을 발견하지 못함\n",
    "따라서 user의 데이터에서 location이 없는 35명의 user는 소거'''\n",
    "user0 = user0.dropna(axis=0)\n",
    "\n",
    "'''timezone이 asia/seoul이고 location이 우리나라 주소인 user들만 이용'''\n",
    "user = user0[user0['timezone']=='Asia/Seoul']\n",
    "\n",
    "big_cate=[]\n",
    "middle_cate=[]\n",
    "for i in range(len(user)):\n",
    "    user_local = user['location'].iloc[i].split(' ')\n",
    "    \n",
    "    if len(user_local)==2:\n",
    "        big_cate.append(user['location'].iloc[i].split(' ')[0])\n",
    "        middle_cate.append(user['location'].iloc[i].split(' ')[1])  \n",
    "    else:\n",
    "        big_cate.append('None')\n",
    "        middle_cate.append('None')\n",
    "        \n",
    "user['big_local'] = big_cate\n",
    "user['middle_local'] = middle_cate\n",
    "\n",
    "user['height_interval'] = user['height'].apply(height_interval)\n",
    "\n",
    "'''user age interval'''\n",
    "age = []\n",
    "for i in range(len(user)):\n",
    "    age.append(2020-user['year_of_birth'].iloc[i])\n",
    "user['age'] = age\n",
    "    \n",
    "user['age_interval'] = user['age'].apply(age_interval)\n",
    "\n",
    "'''user point interval'''\n",
    "user['point_interval'] = user['relative_score'].apply(point_interval)"
   ]
  },
  {
   "cell_type": "code",
   "execution_count": 5,
   "metadata": {},
   "outputs": [],
   "source": [
    "df_mer = pd.merge(reco,user,on='user_id',how='left')\n",
    "\n",
    "df_mer = df_mer.fillna('None')\n",
    "df_mer = df_mer[df_mer['age']!='None']\n",
    "\n",
    "df_mer = df_mer[df_mer['big_local']=='서울']\n",
    "df_mer = df_mer[df_mer['gender']==0]\n",
    "\n",
    "'''날짜별로 오늘의 추천을 추가로 받은 사람 - 젤리 5개 사용'''\n",
    "\n",
    "ymd = []\n",
    "for i in range(len(df_mer)):\n",
    "    ymd.append(df_mer['recommend_time'].iloc[i].split(' ')[0])\n",
    "    \n",
    "'''ymd는 6/1 ~ 6/4 균등하게 존재'''\n",
    "df_mer['ymd'] = ymd"
   ]
  },
  {
   "cell_type": "code",
   "execution_count": 6,
   "metadata": {},
   "outputs": [],
   "source": [
    "'''target변수 생성'''\n",
    "target = []\n",
    "for i in range(len(df_mer)):\n",
    "    if df_mer['joined_time'].iloc[i]=='None':\n",
    "        target.append(0)\n",
    "    else:\n",
    "        target.append(1)"
   ]
  },
  {
   "cell_type": "code",
   "execution_count": 7,
   "metadata": {},
   "outputs": [],
   "source": [
    "df_mer['target'] = target"
   ]
  },
  {
   "cell_type": "code",
   "execution_count": 8,
   "metadata": {},
   "outputs": [
    {
     "data": {
      "text/html": [
       "<div>\n",
       "<style scoped>\n",
       "    .dataframe tbody tr th:only-of-type {\n",
       "        vertical-align: middle;\n",
       "    }\n",
       "\n",
       "    .dataframe tbody tr th {\n",
       "        vertical-align: top;\n",
       "    }\n",
       "\n",
       "    .dataframe thead th {\n",
       "        text-align: right;\n",
       "    }\n",
       "</style>\n",
       "<table border=\"1\" class=\"dataframe\">\n",
       "  <thead>\n",
       "    <tr style=\"text-align: right;\">\n",
       "      <th></th>\n",
       "      <th>recommend_id</th>\n",
       "      <th>superlike_time</th>\n",
       "      <th>recommend_time</th>\n",
       "      <th>user_id</th>\n",
       "      <th>recommended_user_id</th>\n",
       "      <th>distance</th>\n",
       "      <th>chatroom_id</th>\n",
       "      <th>chatroom_time</th>\n",
       "      <th>other_accepted_time</th>\n",
       "      <th>joined_time</th>\n",
       "      <th>...</th>\n",
       "      <th>height</th>\n",
       "      <th>relative_score</th>\n",
       "      <th>big_local</th>\n",
       "      <th>middle_local</th>\n",
       "      <th>height_interval</th>\n",
       "      <th>age</th>\n",
       "      <th>age_interval</th>\n",
       "      <th>point_interval</th>\n",
       "      <th>ymd</th>\n",
       "      <th>target</th>\n",
       "    </tr>\n",
       "  </thead>\n",
       "  <tbody>\n",
       "    <tr>\n",
       "      <th>4</th>\n",
       "      <td>364501482</td>\n",
       "      <td>None</td>\n",
       "      <td>2019-06-01 00:00:10.06174+09</td>\n",
       "      <td>877117</td>\n",
       "      <td>844048</td>\n",
       "      <td>3540</td>\n",
       "      <td>None</td>\n",
       "      <td>None</td>\n",
       "      <td>None</td>\n",
       "      <td>None</td>\n",
       "      <td>...</td>\n",
       "      <td>174</td>\n",
       "      <td>74</td>\n",
       "      <td>서울</td>\n",
       "      <td>강북구</td>\n",
       "      <td>170-180</td>\n",
       "      <td>25</td>\n",
       "      <td>20대</td>\n",
       "      <td>70점대</td>\n",
       "      <td>2019-06-01</td>\n",
       "      <td>0</td>\n",
       "    </tr>\n",
       "    <tr>\n",
       "      <th>5</th>\n",
       "      <td>364501483</td>\n",
       "      <td>None</td>\n",
       "      <td>2019-06-01 00:00:10.065528+09</td>\n",
       "      <td>877117</td>\n",
       "      <td>745579</td>\n",
       "      <td>204</td>\n",
       "      <td>None</td>\n",
       "      <td>None</td>\n",
       "      <td>None</td>\n",
       "      <td>None</td>\n",
       "      <td>...</td>\n",
       "      <td>174</td>\n",
       "      <td>74</td>\n",
       "      <td>서울</td>\n",
       "      <td>강북구</td>\n",
       "      <td>170-180</td>\n",
       "      <td>25</td>\n",
       "      <td>20대</td>\n",
       "      <td>70점대</td>\n",
       "      <td>2019-06-01</td>\n",
       "      <td>0</td>\n",
       "    </tr>\n",
       "    <tr>\n",
       "      <th>34</th>\n",
       "      <td>364502243</td>\n",
       "      <td>None</td>\n",
       "      <td>2019-06-01 00:00:39.714536+09</td>\n",
       "      <td>855002</td>\n",
       "      <td>347735</td>\n",
       "      <td>2996</td>\n",
       "      <td>None</td>\n",
       "      <td>None</td>\n",
       "      <td>None</td>\n",
       "      <td>None</td>\n",
       "      <td>...</td>\n",
       "      <td>180</td>\n",
       "      <td>5.2654</td>\n",
       "      <td>서울</td>\n",
       "      <td>서초구</td>\n",
       "      <td>180-190</td>\n",
       "      <td>23</td>\n",
       "      <td>20대</td>\n",
       "      <td>10점미만</td>\n",
       "      <td>2019-06-01</td>\n",
       "      <td>0</td>\n",
       "    </tr>\n",
       "    <tr>\n",
       "      <th>35</th>\n",
       "      <td>364502244</td>\n",
       "      <td>None</td>\n",
       "      <td>2019-06-01 00:00:39.717672+09</td>\n",
       "      <td>855002</td>\n",
       "      <td>96128</td>\n",
       "      <td>1087</td>\n",
       "      <td>None</td>\n",
       "      <td>None</td>\n",
       "      <td>None</td>\n",
       "      <td>None</td>\n",
       "      <td>...</td>\n",
       "      <td>180</td>\n",
       "      <td>5.2654</td>\n",
       "      <td>서울</td>\n",
       "      <td>서초구</td>\n",
       "      <td>180-190</td>\n",
       "      <td>23</td>\n",
       "      <td>20대</td>\n",
       "      <td>10점미만</td>\n",
       "      <td>2019-06-01</td>\n",
       "      <td>0</td>\n",
       "    </tr>\n",
       "    <tr>\n",
       "      <th>36</th>\n",
       "      <td>364502249</td>\n",
       "      <td>None</td>\n",
       "      <td>2019-06-01 00:00:39.94407+09</td>\n",
       "      <td>869143</td>\n",
       "      <td>350100</td>\n",
       "      <td>3688</td>\n",
       "      <td>None</td>\n",
       "      <td>None</td>\n",
       "      <td>None</td>\n",
       "      <td>None</td>\n",
       "      <td>...</td>\n",
       "      <td>174</td>\n",
       "      <td>53.2412</td>\n",
       "      <td>서울</td>\n",
       "      <td>종로구</td>\n",
       "      <td>170-180</td>\n",
       "      <td>21</td>\n",
       "      <td>20대</td>\n",
       "      <td>50점대</td>\n",
       "      <td>2019-06-01</td>\n",
       "      <td>0</td>\n",
       "    </tr>\n",
       "  </tbody>\n",
       "</table>\n",
       "<p>5 rows × 26 columns</p>\n",
       "</div>"
      ],
      "text/plain": [
       "    recommend_id superlike_time                 recommend_time  user_id  \\\n",
       "4      364501482           None   2019-06-01 00:00:10.06174+09   877117   \n",
       "5      364501483           None  2019-06-01 00:00:10.065528+09   877117   \n",
       "34     364502243           None  2019-06-01 00:00:39.714536+09   855002   \n",
       "35     364502244           None  2019-06-01 00:00:39.717672+09   855002   \n",
       "36     364502249           None   2019-06-01 00:00:39.94407+09   869143   \n",
       "\n",
       "    recommended_user_id  distance chatroom_id chatroom_time  \\\n",
       "4                844048      3540        None          None   \n",
       "5                745579       204        None          None   \n",
       "34               347735      2996        None          None   \n",
       "35                96128      1087        None          None   \n",
       "36               350100      3688        None          None   \n",
       "\n",
       "   other_accepted_time joined_time  ... height relative_score big_local  \\\n",
       "4                 None        None  ...    174             74        서울   \n",
       "5                 None        None  ...    174             74        서울   \n",
       "34                None        None  ...    180         5.2654        서울   \n",
       "35                None        None  ...    180         5.2654        서울   \n",
       "36                None        None  ...    174        53.2412        서울   \n",
       "\n",
       "   middle_local height_interval age age_interval point_interval         ymd  \\\n",
       "4           강북구         170-180  25          20대           70점대  2019-06-01   \n",
       "5           강북구         170-180  25          20대           70점대  2019-06-01   \n",
       "34          서초구         180-190  23          20대          10점미만  2019-06-01   \n",
       "35          서초구         180-190  23          20대          10점미만  2019-06-01   \n",
       "36          종로구         170-180  21          20대           50점대  2019-06-01   \n",
       "\n",
       "   target  \n",
       "4       0  \n",
       "5       0  \n",
       "34      0  \n",
       "35      0  \n",
       "36      0  \n",
       "\n",
       "[5 rows x 26 columns]"
      ]
     },
     "execution_count": 8,
     "metadata": {},
     "output_type": "execute_result"
    }
   ],
   "source": [
    "df_mer.head()"
   ]
  },
  {
   "cell_type": "code",
   "execution_count": 12,
   "metadata": {},
   "outputs": [
    {
     "data": {
      "text/plain": [
       "0    72883\n",
       "1      303\n",
       "Name: target, dtype: int64"
      ]
     },
     "execution_count": 12,
     "metadata": {},
     "output_type": "execute_result"
    }
   ],
   "source": [
    "'''불균형 데이터'''\n",
    "df_mer['target'].value_counts()"
   ]
  },
  {
   "cell_type": "code",
   "execution_count": 9,
   "metadata": {},
   "outputs": [],
   "source": [
    "super_ymd = []\n",
    "for i in range(len(df_mer)):\n",
    "    if df_mer['superlike_time'].iloc[i]=='None':\n",
    "        super_ymd.append('None')\n",
    "    else:\n",
    "        super_ymd.append(df_mer['superlike_time'].iloc[i].split(' ')[0])\n",
    "    \n",
    "    \n",
    "'''ymd는 6/1 ~ 6/4 균등하게 존재'''\n",
    "df_mer['super_ymd'] = super_ymd\n",
    "\n",
    "accept_ymd = []\n",
    "for i in range(len(df_mer)):\n",
    "    if df_mer['other_accepted_time'].iloc[i]=='None':\n",
    "        accept_ymd.append('None')\n",
    "    else:\n",
    "        accept_ymd.append(df_mer['other_accepted_time'].iloc[i].split(' ')[0])\n",
    "    \n",
    "    \n",
    "'''ymd는 6/1 ~ 6/4 균등하게 존재'''\n",
    "df_mer['accept_ymd'] = accept_ymd\n",
    "\n",
    "open_ymd = []\n",
    "for i in range(len(df_mer)):\n",
    "    if df_mer['joined_time'].iloc[i]=='None':\n",
    "        open_ymd.append('None')\n",
    "    else:\n",
    "        open_ymd.append(df_mer['joined_time'].iloc[i].split(' ')[0])\n",
    "    \n",
    "    \n",
    "'''ymd는 6/1 ~ 6/4 균등하게 존재'''\n",
    "df_mer['open_ymd'] = open_ymd"
   ]
  },
  {
   "cell_type": "code",
   "execution_count": 10,
   "metadata": {},
   "outputs": [
    {
     "data": {
      "text/html": [
       "<div>\n",
       "<style scoped>\n",
       "    .dataframe tbody tr th:only-of-type {\n",
       "        vertical-align: middle;\n",
       "    }\n",
       "\n",
       "    .dataframe tbody tr th {\n",
       "        vertical-align: top;\n",
       "    }\n",
       "\n",
       "    .dataframe thead th {\n",
       "        text-align: right;\n",
       "    }\n",
       "</style>\n",
       "<table border=\"1\" class=\"dataframe\">\n",
       "  <thead>\n",
       "    <tr style=\"text-align: right;\">\n",
       "      <th></th>\n",
       "      <th>recommend_id</th>\n",
       "      <th>superlike_time</th>\n",
       "      <th>recommend_time</th>\n",
       "      <th>user_id</th>\n",
       "      <th>recommended_user_id</th>\n",
       "      <th>distance</th>\n",
       "      <th>chatroom_id</th>\n",
       "      <th>chatroom_time</th>\n",
       "      <th>other_accepted_time</th>\n",
       "      <th>joined_time</th>\n",
       "      <th>...</th>\n",
       "      <th>middle_local</th>\n",
       "      <th>height_interval</th>\n",
       "      <th>age</th>\n",
       "      <th>age_interval</th>\n",
       "      <th>point_interval</th>\n",
       "      <th>ymd</th>\n",
       "      <th>target</th>\n",
       "      <th>super_ymd</th>\n",
       "      <th>accept_ymd</th>\n",
       "      <th>open_ymd</th>\n",
       "    </tr>\n",
       "  </thead>\n",
       "  <tbody>\n",
       "    <tr>\n",
       "      <th>4</th>\n",
       "      <td>364501482</td>\n",
       "      <td>None</td>\n",
       "      <td>2019-06-01 00:00:10.06174+09</td>\n",
       "      <td>877117</td>\n",
       "      <td>844048</td>\n",
       "      <td>3540</td>\n",
       "      <td>None</td>\n",
       "      <td>None</td>\n",
       "      <td>None</td>\n",
       "      <td>None</td>\n",
       "      <td>...</td>\n",
       "      <td>강북구</td>\n",
       "      <td>170-180</td>\n",
       "      <td>25</td>\n",
       "      <td>20대</td>\n",
       "      <td>70점대</td>\n",
       "      <td>2019-06-01</td>\n",
       "      <td>0</td>\n",
       "      <td>None</td>\n",
       "      <td>None</td>\n",
       "      <td>None</td>\n",
       "    </tr>\n",
       "    <tr>\n",
       "      <th>5</th>\n",
       "      <td>364501483</td>\n",
       "      <td>None</td>\n",
       "      <td>2019-06-01 00:00:10.065528+09</td>\n",
       "      <td>877117</td>\n",
       "      <td>745579</td>\n",
       "      <td>204</td>\n",
       "      <td>None</td>\n",
       "      <td>None</td>\n",
       "      <td>None</td>\n",
       "      <td>None</td>\n",
       "      <td>...</td>\n",
       "      <td>강북구</td>\n",
       "      <td>170-180</td>\n",
       "      <td>25</td>\n",
       "      <td>20대</td>\n",
       "      <td>70점대</td>\n",
       "      <td>2019-06-01</td>\n",
       "      <td>0</td>\n",
       "      <td>None</td>\n",
       "      <td>None</td>\n",
       "      <td>None</td>\n",
       "    </tr>\n",
       "    <tr>\n",
       "      <th>34</th>\n",
       "      <td>364502243</td>\n",
       "      <td>None</td>\n",
       "      <td>2019-06-01 00:00:39.714536+09</td>\n",
       "      <td>855002</td>\n",
       "      <td>347735</td>\n",
       "      <td>2996</td>\n",
       "      <td>None</td>\n",
       "      <td>None</td>\n",
       "      <td>None</td>\n",
       "      <td>None</td>\n",
       "      <td>...</td>\n",
       "      <td>서초구</td>\n",
       "      <td>180-190</td>\n",
       "      <td>23</td>\n",
       "      <td>20대</td>\n",
       "      <td>10점미만</td>\n",
       "      <td>2019-06-01</td>\n",
       "      <td>0</td>\n",
       "      <td>None</td>\n",
       "      <td>None</td>\n",
       "      <td>None</td>\n",
       "    </tr>\n",
       "    <tr>\n",
       "      <th>35</th>\n",
       "      <td>364502244</td>\n",
       "      <td>None</td>\n",
       "      <td>2019-06-01 00:00:39.717672+09</td>\n",
       "      <td>855002</td>\n",
       "      <td>96128</td>\n",
       "      <td>1087</td>\n",
       "      <td>None</td>\n",
       "      <td>None</td>\n",
       "      <td>None</td>\n",
       "      <td>None</td>\n",
       "      <td>...</td>\n",
       "      <td>서초구</td>\n",
       "      <td>180-190</td>\n",
       "      <td>23</td>\n",
       "      <td>20대</td>\n",
       "      <td>10점미만</td>\n",
       "      <td>2019-06-01</td>\n",
       "      <td>0</td>\n",
       "      <td>None</td>\n",
       "      <td>None</td>\n",
       "      <td>None</td>\n",
       "    </tr>\n",
       "    <tr>\n",
       "      <th>36</th>\n",
       "      <td>364502249</td>\n",
       "      <td>None</td>\n",
       "      <td>2019-06-01 00:00:39.94407+09</td>\n",
       "      <td>869143</td>\n",
       "      <td>350100</td>\n",
       "      <td>3688</td>\n",
       "      <td>None</td>\n",
       "      <td>None</td>\n",
       "      <td>None</td>\n",
       "      <td>None</td>\n",
       "      <td>...</td>\n",
       "      <td>종로구</td>\n",
       "      <td>170-180</td>\n",
       "      <td>21</td>\n",
       "      <td>20대</td>\n",
       "      <td>50점대</td>\n",
       "      <td>2019-06-01</td>\n",
       "      <td>0</td>\n",
       "      <td>None</td>\n",
       "      <td>None</td>\n",
       "      <td>None</td>\n",
       "    </tr>\n",
       "  </tbody>\n",
       "</table>\n",
       "<p>5 rows × 29 columns</p>\n",
       "</div>"
      ],
      "text/plain": [
       "    recommend_id superlike_time                 recommend_time  user_id  \\\n",
       "4      364501482           None   2019-06-01 00:00:10.06174+09   877117   \n",
       "5      364501483           None  2019-06-01 00:00:10.065528+09   877117   \n",
       "34     364502243           None  2019-06-01 00:00:39.714536+09   855002   \n",
       "35     364502244           None  2019-06-01 00:00:39.717672+09   855002   \n",
       "36     364502249           None   2019-06-01 00:00:39.94407+09   869143   \n",
       "\n",
       "    recommended_user_id  distance chatroom_id chatroom_time  \\\n",
       "4                844048      3540        None          None   \n",
       "5                745579       204        None          None   \n",
       "34               347735      2996        None          None   \n",
       "35                96128      1087        None          None   \n",
       "36               350100      3688        None          None   \n",
       "\n",
       "   other_accepted_time joined_time  ... middle_local height_interval age  \\\n",
       "4                 None        None  ...          강북구         170-180  25   \n",
       "5                 None        None  ...          강북구         170-180  25   \n",
       "34                None        None  ...          서초구         180-190  23   \n",
       "35                None        None  ...          서초구         180-190  23   \n",
       "36                None        None  ...          종로구         170-180  21   \n",
       "\n",
       "   age_interval point_interval         ymd target super_ymd accept_ymd  \\\n",
       "4           20대           70점대  2019-06-01      0      None       None   \n",
       "5           20대           70점대  2019-06-01      0      None       None   \n",
       "34          20대          10점미만  2019-06-01      0      None       None   \n",
       "35          20대          10점미만  2019-06-01      0      None       None   \n",
       "36          20대           50점대  2019-06-01      0      None       None   \n",
       "\n",
       "   open_ymd  \n",
       "4      None  \n",
       "5      None  \n",
       "34     None  \n",
       "35     None  \n",
       "36     None  \n",
       "\n",
       "[5 rows x 29 columns]"
      ]
     },
     "execution_count": 10,
     "metadata": {},
     "output_type": "execute_result"
    }
   ],
   "source": [
    "df_mer.head()"
   ]
  },
  {
   "cell_type": "code",
   "execution_count": null,
   "metadata": {},
   "outputs": [],
   "source": [
    "'''친구신청에서부터 대화방 열리는 날짜의 차이'''\n",
    "'''친구신청에서부터 친구수락까지 날짜의 차이'''"
   ]
  },
  {
   "cell_type": "code",
   "execution_count": 33,
   "metadata": {},
   "outputs": [],
   "source": [
    "super_ymd2=[]\n",
    "for i in range(len(df_mer)):\n",
    "    try:\n",
    "        super_ymd2.append(datetime.datetime.strptime(df_mer['super_ymd'].iloc[i],'%Y-%m-%d').date())\n",
    "    except:\n",
    "        super_ymd2.append(datetime.datetime.strptime('2019-05-03','%Y-%m-%d').date())\n",
    "        pass\n",
    "    \n",
    "accept_ymd2,open_ymd2 = [],[]\n",
    "for i in range(len(df_mer)):\n",
    "    try:\n",
    "        open_ymd2.append(datetime.datetime.strptime(df_mer['open_ymd'].iloc[i],'%Y-%m-%d').date())\n",
    "    except:\n",
    "        open_ymd2.append(datetime.datetime.strptime('2019-05-01','%Y-%m-%d').date())\n",
    "        pass\n",
    "for i in range(len(df_mer)):\n",
    "    try:\n",
    "        accept_ymd2.append(datetime.datetime.strptime(df_mer['accept_ymd'].iloc[i],'%Y-%m-%d').date())\n",
    "    except:\n",
    "        accept_ymd2.append(datetime.datetime.strptime('2019-05-02','%Y-%m-%d').date())\n",
    "        pass\n"
   ]
  },
  {
   "cell_type": "code",
   "execution_count": 34,
   "metadata": {},
   "outputs": [],
   "source": [
    "sup_acep_diff0 = (pd.Series(accept_ymd2)-pd.Series(super_ymd2)).tolist()\n",
    "diff1=[]\n",
    "for i in range(len(sup_acep_diff0)):\n",
    "    diff1.append(sup_acep_diff0[i].days)\n",
    "    \n",
    "acep_open_diff0 = (pd.Series(open_ymd2)-pd.Series(accept_ymd2)).tolist()\n",
    "diff2=[]\n",
    "for i in range(len(acep_open_diff0)):\n",
    "    diff2.append(acep_open_diff0[i].days)\n",
    "    \n",
    "reco_ymd2=[]\n",
    "for i in range(len(df_mer)):\n",
    "    reco_ymd2.append(datetime.datetime.strptime(df_mer['ymd'].iloc[i],'%Y-%m-%d').date())  \n",
    "    \n",
    "reco_sup_diff0 = (pd.Series(super_ymd2)-pd.Series(reco_ymd2)).tolist()\n",
    "diff0=[]\n",
    "for i in range(len(reco_sup_diff0)):\n",
    "    diff0.append(reco_sup_diff0[i].days)"
   ]
  },
  {
   "cell_type": "code",
   "execution_count": 37,
   "metadata": {},
   "outputs": [],
   "source": [
    "df_mer['diff1'] = diff1\n",
    "df_mer['diff2'] = diff2\n",
    "df_mer['diff0'] = diff0"
   ]
  },
  {
   "cell_type": "code",
   "execution_count": 56,
   "metadata": {
    "scrolled": true
   },
   "outputs": [],
   "source": [
    "'''유저별 추천건수 컬럼'''\n",
    "user_num = df_mer.groupby('user_id')['recommend_time'].count().reset_index()\n",
    "user_num.rename(columns={'recommend_time':'recommend_num'},inplace=True)\n",
    "\n",
    "df_mer = pd.merge(df_mer,user_num,on='user_id',how='left')"
   ]
  },
  {
   "cell_type": "code",
   "execution_count": 58,
   "metadata": {},
   "outputs": [
    {
     "data": {
      "text/plain": [
       "Index(['recommend_id', 'superlike_time', 'recommend_time', 'user_id',\n",
       "       'recommended_user_id', 'distance', 'chatroom_id', 'chatroom_time',\n",
       "       'other_accepted_time', 'joined_time', 'gender', 'year_of_birth',\n",
       "       'device_type', 'timezone', 'location', 'blood_type', 'height',\n",
       "       'relative_score', 'big_local', 'middle_local', 'height_interval', 'age',\n",
       "       'age_interval', 'point_interval', 'ymd', 'target', 'super_ymd',\n",
       "       'accept_ymd', 'open_ymd', 'diff1', 'diff2', 'diff0', 'recommend_num'],\n",
       "      dtype='object')"
      ]
     },
     "execution_count": 58,
     "metadata": {},
     "output_type": "execute_result"
    }
   ],
   "source": [
    "df_mer.columns"
   ]
  },
  {
   "cell_type": "code",
   "execution_count": 109,
   "metadata": {},
   "outputs": [],
   "source": [
    "df_mer2 = df_mer.drop(columns=['recommend_id','recommend_time','user_id','recommended_user_id',\n",
    "                    'chatroom_id','chatroom_time','joined_time','year_of_birth','timezone',\n",
    "                    'location','ymd','super_ymd','accept_ymd','open_ymd','big_local','gender'])"
   ]
  },
  {
   "cell_type": "code",
   "execution_count": 110,
   "metadata": {},
   "outputs": [],
   "source": [
    "def none_process(x):\n",
    "    if x=='None':\n",
    "        return 0\n",
    "    else:\n",
    "        return 1\n",
    "def minus_process(x):\n",
    "    if x<0:\n",
    "        return -999\n",
    "    else:\n",
    "        return x"
   ]
  },
  {
   "cell_type": "code",
   "execution_count": 111,
   "metadata": {
    "scrolled": true
   },
   "outputs": [],
   "source": [
    "df_mer2['superlike_time'] = df_mer2['superlike_time'].apply(none_process)\n",
    "df_mer2['other_accepted_time'] = df_mer2['other_accepted_time'].apply(none_process)"
   ]
  },
  {
   "cell_type": "code",
   "execution_count": 112,
   "metadata": {},
   "outputs": [],
   "source": [
    "df_mer2['diff0']=df_mer2['diff0'].apply(minus_process)\n",
    "df_mer2['diff1']=df_mer2['diff1'].apply(minus_process)\n",
    "df_mer2['diff2']=df_mer2['diff2'].apply(minus_process)"
   ]
  },
  {
   "cell_type": "code",
   "execution_count": 116,
   "metadata": {},
   "outputs": [],
   "source": [
    "df_mer2['height'] = df_mer2['height'].astype('int64')\n",
    "df_mer2['relative_score'] = df_mer2['relative_score'].astype('float64')\n",
    "df_mer2['age'] = df_mer2['age'].astype('int64')"
   ]
  },
  {
   "cell_type": "code",
   "execution_count": 117,
   "metadata": {},
   "outputs": [
    {
     "data": {
      "text/plain": [
       "int64      10\n",
       "object      6\n",
       "float64     1\n",
       "dtype: int64"
      ]
     },
     "execution_count": 117,
     "metadata": {},
     "output_type": "execute_result"
    }
   ],
   "source": [
    "df_mer2.dtypes.value_counts()"
   ]
  },
  {
   "cell_type": "code",
   "execution_count": 119,
   "metadata": {},
   "outputs": [],
   "source": [
    "'''label_encoding\n",
    "- gender / device_type / '''\n",
    "for col in df_mer2.columns:\n",
    "    if df_mer2[col].dtype == 'object':\n",
    "        le = LabelEncoder()\n",
    "        le.fit(list(df_mer2['device_type'].astype(str).values))\n",
    "        df_mer2[col] = le.transform(list(df_mer2['device_type'].astype(str).values))\n",
    "#'''frequency encoding\n",
    "#blood / 보류'''       \n"
   ]
  },
  {
   "cell_type": "markdown",
   "metadata": {},
   "source": [
    "---\n",
    "# 모델링 시작\n",
    "---"
   ]
  },
  {
   "cell_type": "code",
   "execution_count": null,
   "metadata": {},
   "outputs": [],
   "source": [
    "'''none 문자열을 nan값으로 바꾸는 과정 실행'''\n",
    "df.fillna(-999,inplace=True)"
   ]
  },
  {
   "cell_type": "code",
   "execution_count": 179,
   "metadata": {},
   "outputs": [],
   "source": [
    "'''LGBM'''\n",
    "params = {'objective': 'binary',\n",
    "          \"boosting_type\": \"gbdt\",\n",
    "          \"bagging_seed\": 11,\n",
    "          \"metric\": 'auc',\n",
    "          'class_weight' : 'balanced',\n",
    "          'n_estimators' : 200\n",
    "         }"
   ]
  },
  {
   "cell_type": "code",
   "execution_count": 128,
   "metadata": {},
   "outputs": [],
   "source": [
    "'''train_test split'''\n",
    "X, X_test, y, y_test = train_test_split(df_mer2.drop(columns='target'), \n",
    "                                                    np.array(df_mer2['target'].tolist()), \n",
    "                                                    test_size=0.2, \n",
    "                                                    stratify=np.array(df_mer2['target'].tolist()), \n",
    "                                                    random_state=123456)"
   ]
  },
  {
   "cell_type": "code",
   "execution_count": 143,
   "metadata": {},
   "outputs": [],
   "source": [
    "train_ds = lgb.Dataset(X, label = y) \n",
    "test_ds = lgb.Dataset(X_test, label = y_test) "
   ]
  },
  {
   "cell_type": "code",
   "execution_count": 158,
   "metadata": {},
   "outputs": [],
   "source": [
    "model = lgb.LGBMClassifier(n_estimators=200,class_weight='balanced',metric='auc',objective='binary')"
   ]
  },
  {
   "cell_type": "code",
   "execution_count": 159,
   "metadata": {},
   "outputs": [],
   "source": [
    "evals = [X_test,y_test]"
   ]
  },
  {
   "cell_type": "code",
   "execution_count": 161,
   "metadata": {},
   "outputs": [
    {
     "data": {
      "text/plain": [
       "LGBMClassifier(boosting_type='gbdt', class_weight='balanced',\n",
       "               colsample_bytree=1.0, importance_type='split', learning_rate=0.1,\n",
       "               max_depth=-1, metric='auc', min_child_samples=20,\n",
       "               min_child_weight=0.001, min_split_gain=0.0, n_estimators=200,\n",
       "               n_jobs=-1, num_leaves=31, objective='binary', random_state=None,\n",
       "               reg_alpha=0.0, reg_lambda=0.0, silent=True, subsample=1.0,\n",
       "               subsample_for_bin=200000, subsample_freq=0)"
      ]
     },
     "execution_count": 161,
     "metadata": {},
     "output_type": "execute_result"
    }
   ],
   "source": [
    "model.fit(X,y,verbose=True)"
   ]
  },
  {
   "cell_type": "code",
   "execution_count": 186,
   "metadata": {},
   "outputs": [],
   "source": [
    "colu = X.columns.tolist()\n",
    "f_im = list(model.feature_importances_)"
   ]
  },
  {
   "cell_type": "code",
   "execution_count": 187,
   "metadata": {},
   "outputs": [
    {
     "data": {
      "text/plain": [
       "<BarContainer object of 16 artists>"
      ]
     },
     "execution_count": 187,
     "metadata": {},
     "output_type": "execute_result"
    },
    {
     "data": {
      "image/png": "[encoded data removed]",
      "text/plain": [
       "<Figure size 432x288 with 1 Axes>"
      ]
     },
     "metadata": {},
     "output_type": "display_data"
    }
   ],
   "source": [
    "plt.barh(colu,f_im)"
   ]
  },
  {
   "cell_type": "code",
   "execution_count": 166,
   "metadata": {},
   "outputs": [
    {
     "data": {
      "text/plain": [
       "array([[14577,     0],\n",
       "       [    0,    61]], dtype=int64)"
      ]
     },
     "execution_count": 166,
     "metadata": {},
     "output_type": "execute_result"
    }
   ],
   "source": [
    "confusion_matrix(y_test,model.predict(X_test))"
   ]
  },
  {
   "cell_type": "code",
   "execution_count": 163,
   "metadata": {},
   "outputs": [
    {
     "data": {
      "text/plain": [
       "1.0"
      ]
     },
     "execution_count": 163,
     "metadata": {},
     "output_type": "execute_result"
    }
   ],
   "source": [
    "roc_auc_score(y_test, model.predict(X_test))"
   ]
  },
  {
   "cell_type": "code",
   "execution_count": 181,
   "metadata": {},
   "outputs": [],
   "source": [
    "NFOLDS = 3\n",
    "folds = KFold(n_splits=NFOLDS)\n",
    "y = pd.Series(y)\n",
    "\n",
    "columns = X.columns\n",
    "splits = folds.split(X, y)\n",
    "y_preds = np.zeros(X_test.shape[0])\n",
    "y_oof = np.zeros(X.shape[0])\n",
    "score = 0\n",
    "\n",
    "feature_importances = pd.DataFrame()\n",
    "feature_importances['feature'] = columns"
   ]
  },
  {
   "cell_type": "code",
   "execution_count": 182,
   "metadata": {
    "scrolled": true
   },
   "outputs": [
    {
     "name": "stderr",
     "output_type": "stream",
     "text": [
      "C:\\Users\\tlsal\\Anaconda3\\lib\\site-packages\\lightgbm\\engine.py:118: UserWarning:\n",
      "\n",
      "Found `n_estimators` in params. Will use it instead of argument\n",
      "\n"
     ]
    },
    {
     "name": "stdout",
     "output_type": "stream",
     "text": [
      "[200]\ttraining's auc: 1\tvalid_1's auc: 1\n",
      "Fold 1 | AUC: 1.0\n"
     ]
    },
    {
     "name": "stderr",
     "output_type": "stream",
     "text": [
      "C:\\Users\\tlsal\\Anaconda3\\lib\\site-packages\\lightgbm\\engine.py:118: UserWarning:\n",
      "\n",
      "Found `n_estimators` in params. Will use it instead of argument\n",
      "\n"
     ]
    },
    {
     "name": "stdout",
     "output_type": "stream",
     "text": [
      "[200]\ttraining's auc: 1\tvalid_1's auc: 1\n",
      "Fold 2 | AUC: 1.0\n"
     ]
    },
    {
     "name": "stderr",
     "output_type": "stream",
     "text": [
      "C:\\Users\\tlsal\\Anaconda3\\lib\\site-packages\\lightgbm\\engine.py:118: UserWarning:\n",
      "\n",
      "Found `n_estimators` in params. Will use it instead of argument\n",
      "\n"
     ]
    },
    {
     "name": "stdout",
     "output_type": "stream",
     "text": [
      "[200]\ttraining's auc: 1\tvalid_1's auc: 1\n",
      "Fold 3 | AUC: 1.0\n",
      "\n",
      "Mean AUC = 1.0\n",
      "Out of folds AUC = 1.0\n"
     ]
    }
   ],
   "source": [
    "for fold_n, (train_index, valid_index) in enumerate(splits):\n",
    "    X_train, X_valid = X[columns].iloc[train_index], X[columns].iloc[valid_index]\n",
    "    y_train, y_valid = y.iloc[train_index], y.iloc[valid_index]\n",
    "    \n",
    "    dtrain = lgb.Dataset(X_train, label=y_train)\n",
    "    dvalid = lgb.Dataset(X_valid, label=y_valid)\n",
    "    #grid search 진행\n",
    "    clf = lgb.train(params,dtrain, valid_sets = [dtrain, dvalid], verbose_eval=200)\n",
    "    \n",
    "    feature_importances[f'fold_{fold_n + 1}'] = clf.feature_importance()\n",
    "    \n",
    "    y_pred_valid = clf.predict(X_valid)\n",
    "    y_oof[valid_index] = y_pred_valid\n",
    "    print(f\"Fold {fold_n + 1} | AUC: {roc_auc_score(y_valid, y_pred_valid)}\")\n",
    "    \n",
    "    score += roc_auc_score(y_valid, y_pred_valid) / NFOLDS\n",
    "    y_preds += clf.predict(X_test) / NFOLDS\n",
    "    \n",
    "    del X_train, X_valid, y_train, y_valid\n",
    "    gc.collect()\n",
    "    \n",
    "print(f\"\\nMean AUC = {score}\")\n",
    "print(f\"Out of folds AUC = {roc_auc_score(y, y_oof)}\")"
   ]
  },
  {
   "cell_type": "code",
   "execution_count": 185,
   "metadata": {
    "scrolled": true
   },
   "outputs": [
    {
     "data": {
      "image/png": "[encoded data removed]",
      "text/plain": [
       "<Figure size 1152x1152 with 1 Axes>"
      ]
     },
     "metadata": {},
     "output_type": "display_data"
    }
   ],
   "source": [
    "feature_importances['average'] = feature_importances[[f'fold_{fold_n + 1}' for fold_n in range(folds.n_splits)]].mean(axis=1)\n",
    "\n",
    "plt.figure(figsize=(16, 16))\n",
    "sns.barplot(data=feature_importances.sort_values(by='average', ascending=False).head(50), x='average', y='feature');\n",
    "plt.title('50 TOP feature importance over {} folds average'.format(folds.n_splits));"
   ]
  },
  {
   "cell_type": "code",
   "execution_count": null,
   "metadata": {},
   "outputs": [],
   "source": []
  }
 ],
 "metadata": {
  "kernelspec": {
   "display_name": "Python 3",
   "language": "python",
   "name": "python3"
  },
  "language_info": {
   "codemirror_mode": {
    "name": "ipython",
    "version": 3
   },
   "file_extension": ".py",
   "mimetype": "text/x-python",
   "name": "python",
   "nbconvert_exporter": "python",
   "pygments_lexer": "ipython3",
   "version": "3.6.5"
  }
 },
 "nbformat": 4,
 "nbformat_minor": 2
}
