{
 "cells": [
  {
   "cell_type": "markdown",
   "metadata": {},
   "source": [
    "---\n",
    "# 목차\n",
    "---\n",
    "* [1. 데이터 읽기](#Data-read)\n",
    "* [2. setting](#settings)\n",
    "* [3. 결측치처리](#결측치-처리)\n",
    "* [4. train set / test set](#train-/-test-분할)\n",
    "* [5. 모델링](#모델링-함수)\n",
    "    * [5-1. 데이터 학습](#데이터-학습)\n",
    "    * [5-2. 모델링 성능 확인](#모델링-성능-확인)\n",
    "* [6. Rfecv](#rfecv)"
   ]
  },
  {
   "cell_type": "markdown",
   "metadata": {},
   "source": [
    "---\n",
    "# 캐글 커널 리뷰(모델링 및 stacking중심)\n",
    "---\n"
   ]
  },
  {
   "cell_type": "code",
   "execution_count": 108,
   "metadata": {},
   "outputs": [],
   "source": [
    "import pandas as pd\n",
    "import numpy as np\n",
    "from scipy.stats import skew\n",
    "import xgboost as xgb\n",
    "from sklearn.ensemble import ExtraTreesClassifier\n",
    "from sklearn.ensemble import RandomForestClassifier\n",
    "from sklearn.metrics import mean_squared_error\n",
    "from sklearn.linear_model import LogisticRegression\n",
    "from math import sqrt\n",
    "from sklearn.metrics import roc_auc_score\n",
    "from sklearn.model_selection import KFold\n",
    "from catboost import CatBoostClassifier\n",
    "from lightgbm import LGBMClassifier\n",
    "import gc\n",
    "from sklearn.model_selection import train_test_split\n",
    "from sklearn.metrics import roc_auc_score\n",
    "from sklearn import metrics\n",
    "import matplotlib.pyplot as plt\n",
    "import seaborn as sns"
   ]
  },
  {
   "cell_type": "code",
   "execution_count": 109,
   "metadata": {},
   "outputs": [],
   "source": [
    "plt.style.use('ggplot') #ggplot스타일 사용\n",
    "#한글폰트\n",
    "plt.rc('font', family='nanumgothic')\n",
    "plt.rc('axes', unicode_minus=False)"
   ]
  },
  {
   "cell_type": "markdown",
   "metadata": {},
   "source": [
    "---\n",
    "# Data read\n",
    "---"
   ]
  },
  {
   "cell_type": "code",
   "execution_count": 156,
   "metadata": {},
   "outputs": [],
   "source": [
    "data = pd.read_pickle('모델링데이터3주차.pkl')"
   ]
  },
  {
   "cell_type": "code",
   "execution_count": 212,
   "metadata": {},
   "outputs": [],
   "source": [
    "data = pd.read_pickle('최인식.pkl')"
   ]
  },
  {
   "cell_type": "code",
   "execution_count": 240,
   "metadata": {},
   "outputs": [],
   "source": [
    "data =pd.read_pickle('dongkyun.pkl')"
   ]
  },
  {
   "cell_type": "code",
   "execution_count": 8,
   "metadata": {},
   "outputs": [
    {
     "data": {
      "text/plain": [
       "float64    272\n",
       "int64       14\n",
       "object      13\n",
       "dtype: int64"
      ]
     },
     "execution_count": 8,
     "metadata": {},
     "output_type": "execute_result"
    }
   ],
   "source": [
    "data.dtypes.value_counts()"
   ]
  },
  {
   "cell_type": "code",
   "execution_count": 20,
   "metadata": {},
   "outputs": [
    {
     "data": {
      "text/plain": [
       "Index(['NAME_CONTRACT_TYPE', 'CODE_GENDER', 'FLAG_OWN_CAR', 'NAME_TYPE_SUITE',\n",
       "       'NAME_INCOME_TYPE', 'NAME_EDUCATION_TYPE', 'NAME_FAMILY_STATUS',\n",
       "       'NAME_HOUSING_TYPE', 'OCCUPATION_TYPE', 'WEEKDAY_APPR_PROCESS_START',\n",
       "       'ORGANIZATION_TYPE', 'WALLSMATERIAL_MODE', 'AGE_RANGE'],\n",
       "      dtype='object')"
      ]
     },
     "execution_count": 20,
     "metadata": {},
     "output_type": "execute_result"
    }
   ],
   "source": [
    "data.select_dtypes('object').columns"
   ]
  },
  {
   "cell_type": "code",
   "execution_count": 76,
   "metadata": {},
   "outputs": [
    {
     "data": {
      "text/plain": [
       "SK_ID_CURR                                              0\n",
       "TARGET                                                  0\n",
       "NAME_CONTRACT_TYPE                                      0\n",
       "CODE_GENDER                                             0\n",
       "FLAG_OWN_CAR                                            0\n",
       "                                                    ...  \n",
       "client_bureau_balance_STATUS_X_count_norm_count    215242\n",
       "client_bureau_balance_STATUS_X_count_norm_mean     215242\n",
       "client_bureau_balance_STATUS_X_count_norm_max      215242\n",
       "client_bureau_balance_STATUS_X_count_norm_min      215242\n",
       "client_bureau_balance_STATUS_X_count_norm_sum      215242\n",
       "Length: 299, dtype: int64"
      ]
     },
     "execution_count": 76,
     "metadata": {},
     "output_type": "execute_result"
    }
   ],
   "source": [
    "data.isnull().sum()"
   ]
  },
  {
   "cell_type": "markdown",
   "metadata": {},
   "source": [
    "---\n",
    "# settings\n",
    "---"
   ]
  },
  {
   "cell_type": "code",
   "execution_count": 236,
   "metadata": {},
   "outputs": [],
   "source": [
    "'''factorizing = label encoding'''\n",
    "NFOLDS = 3\n",
    "SEED = 0\n",
    "NROWS = None\n",
    "\n",
    "categorical_feats = [\n",
    "    f for f in data.columns if data[f].dtype == 'object'\n",
    "]\n",
    "\n",
    "for f_ in categorical_feats:\n",
    "    data[f_], indexer = pd.factorize(data[f_])"
   ]
  },
  {
   "cell_type": "code",
   "execution_count": 237,
   "metadata": {},
   "outputs": [
    {
     "data": {
      "text/plain": [
       "int64      43\n",
       "float64    37\n",
       "uint8      13\n",
       "dtype: int64"
      ]
     },
     "execution_count": 237,
     "metadata": {},
     "output_type": "execute_result"
    }
   ],
   "source": [
    "data.dtypes.value_counts()"
   ]
  },
  {
   "cell_type": "code",
   "execution_count": 214,
   "metadata": {},
   "outputs": [],
   "source": [
    "data = data.select_dtypes(['float64','int64'])"
   ]
  },
  {
   "cell_type": "code",
   "execution_count": 227,
   "metadata": {},
   "outputs": [],
   "source": [
    "'''3kfold 교차검증'''\n",
    "kf = KFold(n_splits = NFOLDS, shuffle=True, random_state=SEED)"
   ]
  },
  {
   "cell_type": "code",
   "execution_count": null,
   "metadata": {},
   "outputs": [],
   "source": [
    "'''binary encoding 처리하기'''"
   ]
  },
  {
   "cell_type": "markdown",
   "metadata": {},
   "source": [
    "---\n",
    "# 결측치 처리\n",
    "---"
   ]
  },
  {
   "cell_type": "markdown",
   "metadata": {},
   "source": [
    "---\n",
    "### 방법1\n",
    "---"
   ]
  },
  {
   "cell_type": "code",
   "execution_count": 228,
   "metadata": {},
   "outputs": [],
   "source": [
    "data = data.replace(np.inf,np.nan)"
   ]
  },
  {
   "cell_type": "code",
   "execution_count": 232,
   "metadata": {},
   "outputs": [],
   "source": [
    "def mis_val_treatment(data,string,percentage):\n",
    "    \"\"\"Treat the missing values.\n",
    "\n",
    "    * This function select the features which have a number of missing values less than a given threshold\n",
    "    * Numeric features : Replace missing values selected with mean/median of the feature\n",
    "    * categorical features : Replace missing values with a new class named \"missing value\"\n",
    "\n",
    "    :param data: data to treat\n",
    "    :param string: mean/median\n",
    "    :param percentage: percentage to define a threshold for missing values\n",
    "    :return: data treated\n",
    "    \n",
    "    \"\"\"\n",
    "    var = data.isnull().sum()\n",
    "    threshold = round(len(data.index) / percentage)#결측치가 30000만개 이하인 data를 선택\n",
    "    data_mis_val = data[var[var!=0][var<threshold].index].copy()\n",
    "    names_data = list(data_mis_val.columns.values)\n",
    "    names_data_numeric = list(data_mis_val.describe().columns.values)\n",
    "    \n",
    "    for name in names_data:\n",
    "        s = data_mis_val[name]\n",
    "        if name in names_data_numeric:\n",
    "            if string == \"mean\":\n",
    "                s = s.fillna(s.mean())\n",
    "            if string == \"median\":\n",
    "                s = s.fillna(s.median())\n",
    "        else:\n",
    "            s = s.fillna(\"missing_value\")\n",
    "        data_mis_val[name] = s\n",
    "        \n",
    "    return data_mis_val\n",
    "\n",
    "def data_model_constuct(data,data2):\n",
    "    '''\n",
    "    Reconstruct data after missing values treatment and one hot encoding\n",
    "\n",
    "    :param data: data to reconstruct\n",
    "    :param data2: result of mis val_treatment\n",
    "    :return: data model constructed\n",
    "    '''\n",
    "    var = data.isnull().sum()\n",
    "    data1 = data[var[var==0].index].copy()\n",
    "    data_model = pd.concat([data1,data2],axis=1)\n",
    "    #1. pd.get_dummies부분은 gender와 organization의 xna결측치를 처리해야함 , 사실상 포함해도되긴\n",
    "    #하나 나중에 다시 고려해봐야지\n",
    "    #2. 그리고 이미 getdummy를 한 상태라면 해당 코드의 줄은 없애도 됨\n",
    "    #data_model = pd.get_dummies(data_model)\n",
    "    return data_model"
   ]
  },
  {
   "cell_type": "code",
   "execution_count": 238,
   "metadata": {
    "collapsed": true
   },
   "outputs": [
    {
     "ename": "ValueError",
     "evalue": "Cannot describe a DataFrame without columns",
     "output_type": "error",
     "traceback": [
      "\u001b[1;31m---------------------------------------------------------------------------\u001b[0m",
      "\u001b[1;31mValueError\u001b[0m                                Traceback (most recent call last)",
      "\u001b[1;32m<ipython-input-238-0e70ac865dee>\u001b[0m in \u001b[0;36m<module>\u001b[1;34m()\u001b[0m\n\u001b[1;32m----> 1\u001b[1;33m \u001b[0mdata_model\u001b[0m \u001b[1;33m=\u001b[0m \u001b[0mdata_model_constuct\u001b[0m\u001b[1;33m(\u001b[0m\u001b[0mdata\u001b[0m\u001b[1;33m,\u001b[0m\u001b[0mmis_val_treatment\u001b[0m\u001b[1;33m(\u001b[0m\u001b[0mdata\u001b[0m\u001b[1;33m,\u001b[0m\u001b[1;34m'mean'\u001b[0m\u001b[1;33m,\u001b[0m\u001b[1;36m1.5\u001b[0m\u001b[1;33m)\u001b[0m\u001b[1;33m)\u001b[0m\u001b[1;33m\u001b[0m\u001b[0m\n\u001b[0m",
      "\u001b[1;32m<ipython-input-232-cfd19e8c1ef7>\u001b[0m in \u001b[0;36mmis_val_treatment\u001b[1;34m(data, string, percentage)\u001b[0m\n\u001b[0;32m     16\u001b[0m     \u001b[0mdata_mis_val\u001b[0m \u001b[1;33m=\u001b[0m \u001b[0mdata\u001b[0m\u001b[1;33m[\u001b[0m\u001b[0mvar\u001b[0m\u001b[1;33m[\u001b[0m\u001b[0mvar\u001b[0m\u001b[1;33m!=\u001b[0m\u001b[1;36m0\u001b[0m\u001b[1;33m]\u001b[0m\u001b[1;33m[\u001b[0m\u001b[0mvar\u001b[0m\u001b[1;33m<\u001b[0m\u001b[0mthreshold\u001b[0m\u001b[1;33m]\u001b[0m\u001b[1;33m.\u001b[0m\u001b[0mindex\u001b[0m\u001b[1;33m]\u001b[0m\u001b[1;33m.\u001b[0m\u001b[0mcopy\u001b[0m\u001b[1;33m(\u001b[0m\u001b[1;33m)\u001b[0m\u001b[1;33m\u001b[0m\u001b[0m\n\u001b[0;32m     17\u001b[0m     \u001b[0mnames_data\u001b[0m \u001b[1;33m=\u001b[0m \u001b[0mlist\u001b[0m\u001b[1;33m(\u001b[0m\u001b[0mdata_mis_val\u001b[0m\u001b[1;33m.\u001b[0m\u001b[0mcolumns\u001b[0m\u001b[1;33m.\u001b[0m\u001b[0mvalues\u001b[0m\u001b[1;33m)\u001b[0m\u001b[1;33m\u001b[0m\u001b[0m\n\u001b[1;32m---> 18\u001b[1;33m     \u001b[0mnames_data_numeric\u001b[0m \u001b[1;33m=\u001b[0m \u001b[0mlist\u001b[0m\u001b[1;33m(\u001b[0m\u001b[0mdata_mis_val\u001b[0m\u001b[1;33m.\u001b[0m\u001b[0mdescribe\u001b[0m\u001b[1;33m(\u001b[0m\u001b[1;33m)\u001b[0m\u001b[1;33m.\u001b[0m\u001b[0mcolumns\u001b[0m\u001b[1;33m.\u001b[0m\u001b[0mvalues\u001b[0m\u001b[1;33m)\u001b[0m\u001b[1;33m\u001b[0m\u001b[0m\n\u001b[0m\u001b[0;32m     19\u001b[0m \u001b[1;33m\u001b[0m\u001b[0m\n\u001b[0;32m     20\u001b[0m     \u001b[1;32mfor\u001b[0m \u001b[0mname\u001b[0m \u001b[1;32min\u001b[0m \u001b[0mnames_data\u001b[0m\u001b[1;33m:\u001b[0m\u001b[1;33m\u001b[0m\u001b[0m\n",
      "\u001b[1;32m~\\Anaconda3\\lib\\site-packages\\pandas\\core\\generic.py\u001b[0m in \u001b[0;36mdescribe\u001b[1;34m(self, percentiles, include, exclude)\u001b[0m\n\u001b[0;32m  10178\u001b[0m         \"\"\"\n\u001b[0;32m  10179\u001b[0m         \u001b[1;32mif\u001b[0m \u001b[0mself\u001b[0m\u001b[1;33m.\u001b[0m\u001b[0mndim\u001b[0m \u001b[1;33m==\u001b[0m \u001b[1;36m2\u001b[0m \u001b[1;32mand\u001b[0m \u001b[0mself\u001b[0m\u001b[1;33m.\u001b[0m\u001b[0mcolumns\u001b[0m\u001b[1;33m.\u001b[0m\u001b[0msize\u001b[0m \u001b[1;33m==\u001b[0m \u001b[1;36m0\u001b[0m\u001b[1;33m:\u001b[0m\u001b[1;33m\u001b[0m\u001b[0m\n\u001b[1;32m> 10180\u001b[1;33m             \u001b[1;32mraise\u001b[0m \u001b[0mValueError\u001b[0m\u001b[1;33m(\u001b[0m\u001b[1;34m\"Cannot describe a DataFrame without columns\"\u001b[0m\u001b[1;33m)\u001b[0m\u001b[1;33m\u001b[0m\u001b[0m\n\u001b[0m\u001b[0;32m  10181\u001b[0m \u001b[1;33m\u001b[0m\u001b[0m\n\u001b[0;32m  10182\u001b[0m         \u001b[1;32mif\u001b[0m \u001b[0mpercentiles\u001b[0m \u001b[1;32mis\u001b[0m \u001b[1;32mnot\u001b[0m \u001b[1;32mNone\u001b[0m\u001b[1;33m:\u001b[0m\u001b[1;33m\u001b[0m\u001b[0m\n",
      "\u001b[1;31mValueError\u001b[0m: Cannot describe a DataFrame without columns"
     ]
    }
   ],
   "source": [
    "data_model = data_model_constuct(data,mis_val_treatment(data,'mean',1.5))"
   ]
  },
  {
   "cell_type": "code",
   "execution_count": 204,
   "metadata": {},
   "outputs": [
    {
     "data": {
      "text/plain": [
       "182"
      ]
     },
     "execution_count": 204,
     "metadata": {},
     "output_type": "execute_result"
    }
   ],
   "source": [
    "len(data_model.columns)"
   ]
  },
  {
   "cell_type": "code",
   "execution_count": 162,
   "metadata": {
    "collapsed": true
   },
   "outputs": [
    {
     "data": {
      "text/plain": [
       "[0,\n",
       " 0,\n",
       " 0,\n",
       " 0,\n",
       " 0,\n",
       " 0,\n",
       " 0,\n",
       " 0,\n",
       " 0,\n",
       " 0,\n",
       " 0,\n",
       " 0,\n",
       " 0,\n",
       " 0,\n",
       " 0,\n",
       " 0,\n",
       " 0,\n",
       " 0,\n",
       " 0,\n",
       " 0,\n",
       " 0,\n",
       " 0,\n",
       " 0,\n",
       " 0,\n",
       " 0,\n",
       " 0,\n",
       " 0,\n",
       " 0,\n",
       " 0,\n",
       " 0,\n",
       " 0,\n",
       " 0,\n",
       " 0,\n",
       " 0,\n",
       " 0,\n",
       " 0,\n",
       " 0,\n",
       " 0,\n",
       " 0,\n",
       " 0,\n",
       " 0,\n",
       " 0,\n",
       " 0,\n",
       " 0,\n",
       " 0,\n",
       " 0,\n",
       " 0,\n",
       " 0,\n",
       " 0,\n",
       " 0,\n",
       " 0,\n",
       " 0,\n",
       " 0,\n",
       " 0,\n",
       " 0,\n",
       " 0,\n",
       " 0,\n",
       " 0,\n",
       " 0,\n",
       " 0,\n",
       " 0,\n",
       " 0,\n",
       " 0,\n",
       " 0,\n",
       " 0,\n",
       " 0,\n",
       " 0,\n",
       " 0,\n",
       " 0,\n",
       " 0,\n",
       " 0,\n",
       " 0,\n",
       " 0,\n",
       " 0,\n",
       " 0,\n",
       " 0,\n",
       " 0,\n",
       " 0,\n",
       " 0,\n",
       " 0,\n",
       " 0,\n",
       " 0,\n",
       " 0,\n",
       " 0,\n",
       " 0,\n",
       " 0,\n",
       " 0,\n",
       " 0,\n",
       " 0,\n",
       " 0,\n",
       " 0,\n",
       " 0,\n",
       " 0,\n",
       " 0,\n",
       " 0,\n",
       " 0,\n",
       " 0,\n",
       " 0,\n",
       " 0,\n",
       " 0,\n",
       " 0,\n",
       " 0,\n",
       " 0,\n",
       " 0,\n",
       " 0,\n",
       " 0,\n",
       " 0,\n",
       " 0,\n",
       " 0,\n",
       " 0,\n",
       " 0,\n",
       " 0,\n",
       " 0,\n",
       " 0,\n",
       " 0,\n",
       " 0,\n",
       " 0,\n",
       " 0,\n",
       " 0,\n",
       " 0,\n",
       " 0,\n",
       " 0,\n",
       " 0,\n",
       " 0,\n",
       " 0,\n",
       " 0,\n",
       " 0,\n",
       " 0,\n",
       " 0,\n",
       " 0,\n",
       " 0,\n",
       " 0,\n",
       " 0,\n",
       " 0,\n",
       " 0,\n",
       " 0,\n",
       " 0,\n",
       " 0,\n",
       " 0,\n",
       " 0,\n",
       " 0,\n",
       " 0,\n",
       " 0,\n",
       " 0,\n",
       " 0,\n",
       " 0,\n",
       " 0,\n",
       " 0,\n",
       " 0,\n",
       " 0,\n",
       " 0,\n",
       " 0,\n",
       " 0,\n",
       " 0,\n",
       " 0,\n",
       " 0,\n",
       " 0,\n",
       " 0,\n",
       " 0,\n",
       " 0,\n",
       " 0,\n",
       " 0,\n",
       " 0,\n",
       " 0,\n",
       " 0,\n",
       " 0,\n",
       " 0,\n",
       " 0,\n",
       " 0,\n",
       " 0,\n",
       " 0,\n",
       " 0,\n",
       " 0,\n",
       " 0,\n",
       " 0,\n",
       " 0,\n",
       " 0,\n",
       " 0,\n",
       " 0,\n",
       " 0,\n",
       " 0,\n",
       " 0,\n",
       " 0,\n",
       " 0,\n",
       " 0,\n",
       " 0,\n",
       " 0,\n",
       " 0,\n",
       " 0,\n",
       " 0]"
      ]
     },
     "execution_count": 162,
     "metadata": {},
     "output_type": "execute_result"
    }
   ],
   "source": [
    "data_model.isnull().sum().tolist()"
   ]
  },
  {
   "cell_type": "code",
   "execution_count": 219,
   "metadata": {},
   "outputs": [],
   "source": [
    "data = data_model"
   ]
  },
  {
   "cell_type": "markdown",
   "metadata": {},
   "source": [
    "---\n",
    "### 방법2\n",
    "---"
   ]
  },
  {
   "cell_type": "code",
   "execution_count": 155,
   "metadata": {
    "scrolled": true
   },
   "outputs": [],
   "source": [
    "data = data.replace(np.inf,np.nan)"
   ]
  },
  {
   "cell_type": "code",
   "execution_count": null,
   "metadata": {},
   "outputs": [],
   "source": [
    "'''결측치를 해당 코드에서는 0으로 채움'''\n",
    "data = data.fillna(0)"
   ]
  },
  {
   "cell_type": "markdown",
   "metadata": {},
   "source": [
    "---\n",
    "# train / test 분할\n",
    "---"
   ]
  },
  {
   "cell_type": "code",
   "execution_count": 241,
   "metadata": {},
   "outputs": [],
   "source": [
    "x_train, x_test, y_train, y_test = train_test_split(data.iloc[:,2:], \n",
    "                                                    np.array(data['TARGET'].tolist()),\n",
    "                                                    test_size=0.3, \n",
    "                                                    stratify=np.array(data['TARGET'].tolist()),\n",
    "                                                    random_state=123456)"
   ]
  },
  {
   "cell_type": "markdown",
   "metadata": {},
   "source": [
    "---\n",
    "# 모델링 함수\n",
    "---"
   ]
  },
  {
   "cell_type": "code",
   "execution_count": 207,
   "metadata": {},
   "outputs": [],
   "source": [
    "#----------------------------------모델링 객체 및 함수 정의-------------------------------------\n",
    "class SklearnWrapper(object):\n",
    "    def __init__(self, clf, seed=0, params=None):\n",
    "        params['random_state'] = seed\n",
    "        self.clf = clf(**params)\n",
    "\n",
    "    def train(self, x_train, y_train):\n",
    "        self.clf.fit(x_train, y_train)\n",
    "\n",
    "    def predict(self, x):\n",
    "        return self.clf.predict_proba(x)[:,1]\n",
    "\n",
    "class CatboostWrapper(object):\n",
    "    def __init__(self, clf, seed=0, params=None):\n",
    "        params['random_seed'] = seed\n",
    "        self.clf = clf(**params)\n",
    "\n",
    "    def train(self, x_train, y_train):\n",
    "        self.clf.fit(x_train, y_train)\n",
    "\n",
    "    def predict(self, x):\n",
    "        return self.clf.predict_proba(x)[:,1]\n",
    "        \n",
    "class LightGBMWrapper(object):\n",
    "    def __init__(self, clf, seed=0, params=None):\n",
    "        params['feature_fraction_seed'] = seed\n",
    "        params['bagging_seed'] = seed\n",
    "        self.clf = clf(**params)\n",
    "\n",
    "    def train(self, x_train, y_train):\n",
    "        self.clf.fit(x_train, y_train)\n",
    "\n",
    "    def predict(self, x):\n",
    "        return self.clf.predict_proba(x)[:,1]\n",
    "\n",
    "\n",
    "class XgbWrapper(object):\n",
    "    #__init__는 객체에서 처음 받을 인자값을 선언한다.\n",
    "    def __init__(self, clf ,seed=0, params=None):\n",
    "        params['feature_fraction_seed'] = seed\n",
    "        params['bagging_seed'] = seed\n",
    "        self.clf = clf(**params)\n",
    "\n",
    "    def train(self, x_train, y_train):\n",
    "        self.clf.fit(x_train, y_train)\n",
    "\n",
    "    def predict(self, x):\n",
    "        return self.clf.predict_proba(x)[:,1]\n",
    "\n",
    "#----------------------------------------parameter 정의-------------------------------------\n",
    "et_params = {\n",
    "    'n_jobs': 16,\n",
    "    'n_estimators': 200,\n",
    "    'max_features': 0.5,\n",
    "    'max_depth': 12,\n",
    "    'min_samples_leaf': 2,\n",
    "}\n",
    "\n",
    "rf_params = {\n",
    "    'n_jobs': 16,\n",
    "    'n_estimators': 200,\n",
    "    'max_features': 0.2,\n",
    "    'max_depth': 12,\n",
    "    'min_samples_leaf': 2,\n",
    "}\n",
    "\n",
    "xgb_params = {\n",
    "    'seed': 0,\n",
    "    'class_weight' : 'balanced',\n",
    "    'colsample_bytree': 0.7,\n",
    "    'silent': 1,\n",
    "    'subsample': 0.7,\n",
    "    'learning_rate': 0.075,\n",
    "    'objective': 'binary:logistic',\n",
    "    'max_depth': 4,\n",
    "    'num_parallel_tree': 1,\n",
    "    'min_child_weight': 1,\n",
    "    'nrounds': 200\n",
    "}\n",
    "\n",
    "catboost_params = {\n",
    "    'iterations': 200,\n",
    "    'learning_rate': 0.5,\n",
    "    'depth': 3,\n",
    "    'l2_leaf_reg': 40,\n",
    "    'bootstrap_type': 'Bernoulli',\n",
    "    'subsample': 0.7,\n",
    "    'scale_pos_weight': 5,\n",
    "    'eval_metric': 'AUC',\n",
    "    'od_type': 'Iter',\n",
    "    'allow_writing_files': False\n",
    "}\n",
    "\n",
    "lightgbm_params = {\n",
    "    'n_estimators':200,\n",
    "    'class_weight' : 'balanced',\n",
    "    'learning_rate':0.1,\n",
    "    'num_leaves':123,\n",
    "    'colsample_bytree':0.8,\n",
    "    'subsample':0.9,\n",
    "    'max_depth':15,\n",
    "    'reg_alpha':0.1,\n",
    "    'reg_lambda':0.1,\n",
    "    'min_split_gain':0.01,\n",
    "    'min_child_weight':2    \n",
    "}"
   ]
  },
  {
   "cell_type": "markdown",
   "metadata": {},
   "source": [
    "---\n",
    "### 데이터 학습\n",
    "---"
   ]
  },
  {
   "cell_type": "code",
   "execution_count": 242,
   "metadata": {},
   "outputs": [],
   "source": [
    "'''boost 기반 알고리즘은 결측치가 없이 돌아갈 수 있음\n",
    "bagging기반 알고리즘은 결측치가 있으면 돌아가지 않음'''\n",
    "xg = XgbWrapper(clf=xgb.XGBClassifier,seed=SEED, params=xgb_params)\n",
    "et = SklearnWrapper(clf=ExtraTreesClassifier, seed=SEED, params=et_params)\n",
    "rf = SklearnWrapper(clf=RandomForestClassifier, seed=SEED, params=rf_params)\n",
    "cb = CatboostWrapper(clf= CatBoostClassifier, seed = SEED, params=catboost_params)\n",
    "lg = LightGBMWrapper(clf = LGBMClassifier, seed = SEED, params = lightgbm_params)"
   ]
  },
  {
   "cell_type": "code",
   "execution_count": 243,
   "metadata": {
    "collapsed": true
   },
   "outputs": [
    {
     "name": "stdout",
     "output_type": "stream",
     "text": [
      "0:\ttotal: 40.4ms\tremaining: 8.04s\n",
      "1:\ttotal: 74.8ms\tremaining: 7.41s\n",
      "2:\ttotal: 107ms\tremaining: 7.02s\n",
      "3:\ttotal: 138ms\tremaining: 6.76s\n",
      "4:\ttotal: 167ms\tremaining: 6.53s\n",
      "5:\ttotal: 203ms\tremaining: 6.55s\n",
      "6:\ttotal: 241ms\tremaining: 6.64s\n",
      "7:\ttotal: 286ms\tremaining: 6.88s\n",
      "8:\ttotal: 324ms\tremaining: 6.88s\n",
      "9:\ttotal: 361ms\tremaining: 6.87s\n",
      "10:\ttotal: 393ms\tremaining: 6.75s\n",
      "11:\ttotal: 423ms\tremaining: 6.62s\n",
      "12:\ttotal: 475ms\tremaining: 6.84s\n",
      "13:\ttotal: 515ms\tremaining: 6.84s\n",
      "14:\ttotal: 547ms\tremaining: 6.74s\n",
      "15:\ttotal: 580ms\tremaining: 6.67s\n",
      "16:\ttotal: 618ms\tremaining: 6.65s\n",
      "17:\ttotal: 652ms\tremaining: 6.59s\n",
      "18:\ttotal: 703ms\tremaining: 6.7s\n",
      "19:\ttotal: 745ms\tremaining: 6.71s\n",
      "20:\ttotal: 785ms\tremaining: 6.69s\n",
      "21:\ttotal: 826ms\tremaining: 6.68s\n",
      "22:\ttotal: 877ms\tremaining: 6.75s\n",
      "23:\ttotal: 931ms\tremaining: 6.83s\n",
      "24:\ttotal: 982ms\tremaining: 6.87s\n",
      "25:\ttotal: 1.02s\tremaining: 6.82s\n",
      "26:\ttotal: 1.07s\tremaining: 6.84s\n",
      "27:\ttotal: 1.13s\tremaining: 6.94s\n",
      "28:\ttotal: 1.19s\tremaining: 7.04s\n",
      "29:\ttotal: 1.23s\tremaining: 6.98s\n",
      "30:\ttotal: 1.27s\tremaining: 6.92s\n",
      "31:\ttotal: 1.3s\tremaining: 6.84s\n",
      "32:\ttotal: 1.33s\tremaining: 6.76s\n",
      "33:\ttotal: 1.38s\tremaining: 6.73s\n",
      "34:\ttotal: 1.42s\tremaining: 6.68s\n",
      "35:\ttotal: 1.46s\tremaining: 6.67s\n",
      "36:\ttotal: 1.53s\tremaining: 6.74s\n",
      "37:\ttotal: 1.59s\tremaining: 6.78s\n",
      "38:\ttotal: 1.63s\tremaining: 6.74s\n",
      "39:\ttotal: 1.68s\tremaining: 6.7s\n",
      "40:\ttotal: 1.72s\tremaining: 6.67s\n",
      "41:\ttotal: 1.76s\tremaining: 6.64s\n",
      "42:\ttotal: 1.81s\tremaining: 6.63s\n",
      "43:\ttotal: 1.86s\tremaining: 6.6s\n",
      "44:\ttotal: 1.9s\tremaining: 6.56s\n",
      "45:\ttotal: 1.95s\tremaining: 6.51s\n",
      "46:\ttotal: 2.01s\tremaining: 6.54s\n",
      "47:\ttotal: 2.06s\tremaining: 6.52s\n",
      "48:\ttotal: 2.1s\tremaining: 6.49s\n",
      "49:\ttotal: 2.15s\tremaining: 6.45s\n",
      "50:\ttotal: 2.19s\tremaining: 6.39s\n",
      "51:\ttotal: 2.24s\tremaining: 6.37s\n",
      "52:\ttotal: 2.28s\tremaining: 6.33s\n",
      "53:\ttotal: 2.32s\tremaining: 6.28s\n",
      "54:\ttotal: 2.36s\tremaining: 6.22s\n",
      "55:\ttotal: 2.4s\tremaining: 6.17s\n",
      "56:\ttotal: 2.45s\tremaining: 6.16s\n",
      "57:\ttotal: 2.49s\tremaining: 6.11s\n",
      "58:\ttotal: 2.54s\tremaining: 6.07s\n",
      "59:\ttotal: 2.58s\tremaining: 6.01s\n",
      "60:\ttotal: 2.62s\tremaining: 5.97s\n",
      "61:\ttotal: 2.67s\tremaining: 5.93s\n",
      "62:\ttotal: 2.71s\tremaining: 5.89s\n",
      "63:\ttotal: 2.75s\tremaining: 5.84s\n",
      "64:\ttotal: 2.79s\tremaining: 5.79s\n",
      "65:\ttotal: 2.83s\tremaining: 5.74s\n",
      "66:\ttotal: 2.86s\tremaining: 5.68s\n",
      "67:\ttotal: 2.91s\tremaining: 5.64s\n",
      "68:\ttotal: 2.95s\tremaining: 5.6s\n",
      "69:\ttotal: 2.99s\tremaining: 5.55s\n",
      "70:\ttotal: 3.03s\tremaining: 5.5s\n",
      "71:\ttotal: 3.09s\tremaining: 5.49s\n",
      "72:\ttotal: 3.14s\tremaining: 5.46s\n",
      "73:\ttotal: 3.19s\tremaining: 5.43s\n",
      "74:\ttotal: 3.25s\tremaining: 5.42s\n",
      "75:\ttotal: 3.3s\tremaining: 5.39s\n",
      "76:\ttotal: 3.34s\tremaining: 5.33s\n",
      "77:\ttotal: 3.39s\tremaining: 5.3s\n",
      "78:\ttotal: 3.43s\tremaining: 5.25s\n",
      "79:\ttotal: 3.47s\tremaining: 5.2s\n",
      "80:\ttotal: 3.51s\tremaining: 5.16s\n",
      "81:\ttotal: 3.55s\tremaining: 5.11s\n",
      "82:\ttotal: 3.59s\tremaining: 5.06s\n",
      "83:\ttotal: 3.63s\tremaining: 5.02s\n",
      "84:\ttotal: 3.67s\tremaining: 4.97s\n",
      "85:\ttotal: 3.72s\tremaining: 4.93s\n",
      "86:\ttotal: 3.75s\tremaining: 4.88s\n",
      "87:\ttotal: 3.8s\tremaining: 4.83s\n",
      "88:\ttotal: 3.84s\tremaining: 4.79s\n",
      "89:\ttotal: 3.89s\tremaining: 4.75s\n",
      "90:\ttotal: 3.92s\tremaining: 4.7s\n",
      "91:\ttotal: 3.96s\tremaining: 4.65s\n",
      "92:\ttotal: 4.01s\tremaining: 4.62s\n",
      "93:\ttotal: 4.05s\tremaining: 4.57s\n",
      "94:\ttotal: 4.09s\tremaining: 4.52s\n",
      "95:\ttotal: 4.13s\tremaining: 4.48s\n",
      "96:\ttotal: 4.18s\tremaining: 4.44s\n",
      "97:\ttotal: 4.23s\tremaining: 4.4s\n",
      "98:\ttotal: 4.27s\tremaining: 4.36s\n",
      "99:\ttotal: 4.31s\tremaining: 4.31s\n",
      "100:\ttotal: 4.37s\tremaining: 4.28s\n",
      "101:\ttotal: 4.43s\tremaining: 4.25s\n",
      "102:\ttotal: 4.47s\tremaining: 4.21s\n",
      "103:\ttotal: 4.53s\tremaining: 4.18s\n",
      "104:\ttotal: 4.59s\tremaining: 4.15s\n",
      "105:\ttotal: 4.64s\tremaining: 4.11s\n",
      "106:\ttotal: 4.69s\tremaining: 4.07s\n",
      "107:\ttotal: 4.73s\tremaining: 4.03s\n",
      "108:\ttotal: 4.77s\tremaining: 3.98s\n",
      "109:\ttotal: 4.8s\tremaining: 3.93s\n",
      "110:\ttotal: 4.85s\tremaining: 3.89s\n",
      "111:\ttotal: 4.89s\tremaining: 3.84s\n",
      "112:\ttotal: 4.93s\tremaining: 3.8s\n",
      "113:\ttotal: 4.97s\tremaining: 3.75s\n",
      "114:\ttotal: 5.01s\tremaining: 3.71s\n",
      "115:\ttotal: 5.08s\tremaining: 3.68s\n",
      "116:\ttotal: 5.12s\tremaining: 3.63s\n",
      "117:\ttotal: 5.15s\tremaining: 3.58s\n",
      "118:\ttotal: 5.19s\tremaining: 3.53s\n",
      "119:\ttotal: 5.22s\tremaining: 3.48s\n",
      "120:\ttotal: 5.25s\tremaining: 3.43s\n",
      "121:\ttotal: 5.29s\tremaining: 3.38s\n",
      "122:\ttotal: 5.34s\tremaining: 3.34s\n",
      "123:\ttotal: 5.38s\tremaining: 3.3s\n",
      "124:\ttotal: 5.42s\tremaining: 3.25s\n",
      "125:\ttotal: 5.46s\tremaining: 3.2s\n",
      "126:\ttotal: 5.52s\tremaining: 3.17s\n",
      "127:\ttotal: 5.58s\tremaining: 3.14s\n",
      "128:\ttotal: 5.65s\tremaining: 3.11s\n",
      "129:\ttotal: 5.71s\tremaining: 3.07s\n",
      "130:\ttotal: 5.76s\tremaining: 3.04s\n",
      "131:\ttotal: 5.82s\tremaining: 3s\n",
      "132:\ttotal: 5.87s\tremaining: 2.96s\n",
      "133:\ttotal: 5.93s\tremaining: 2.92s\n",
      "134:\ttotal: 5.99s\tremaining: 2.88s\n",
      "135:\ttotal: 6.04s\tremaining: 2.84s\n",
      "136:\ttotal: 6.08s\tremaining: 2.8s\n",
      "137:\ttotal: 6.14s\tremaining: 2.76s\n",
      "138:\ttotal: 6.2s\tremaining: 2.72s\n",
      "139:\ttotal: 6.26s\tremaining: 2.69s\n",
      "140:\ttotal: 6.33s\tremaining: 2.65s\n",
      "141:\ttotal: 6.37s\tremaining: 2.6s\n",
      "142:\ttotal: 6.41s\tremaining: 2.56s\n",
      "143:\ttotal: 6.46s\tremaining: 2.51s\n",
      "144:\ttotal: 6.5s\tremaining: 2.46s\n",
      "145:\ttotal: 6.53s\tremaining: 2.42s\n",
      "146:\ttotal: 6.58s\tremaining: 2.37s\n",
      "147:\ttotal: 6.62s\tremaining: 2.33s\n",
      "148:\ttotal: 6.68s\tremaining: 2.29s\n",
      "149:\ttotal: 6.74s\tremaining: 2.25s\n",
      "150:\ttotal: 6.78s\tremaining: 2.2s\n",
      "151:\ttotal: 6.82s\tremaining: 2.15s\n",
      "152:\ttotal: 6.86s\tremaining: 2.11s\n",
      "153:\ttotal: 6.89s\tremaining: 2.06s\n",
      "154:\ttotal: 6.94s\tremaining: 2.02s\n",
      "155:\ttotal: 6.98s\tremaining: 1.97s\n",
      "156:\ttotal: 7.04s\tremaining: 1.93s\n",
      "157:\ttotal: 7.09s\tremaining: 1.88s\n",
      "158:\ttotal: 7.13s\tremaining: 1.84s\n",
      "159:\ttotal: 7.17s\tremaining: 1.79s\n",
      "160:\ttotal: 7.22s\tremaining: 1.75s\n",
      "161:\ttotal: 7.26s\tremaining: 1.7s\n",
      "162:\ttotal: 7.32s\tremaining: 1.66s\n",
      "163:\ttotal: 7.36s\tremaining: 1.62s\n",
      "164:\ttotal: 7.41s\tremaining: 1.57s\n",
      "165:\ttotal: 7.46s\tremaining: 1.53s\n",
      "166:\ttotal: 7.5s\tremaining: 1.48s\n",
      "167:\ttotal: 7.54s\tremaining: 1.44s\n",
      "168:\ttotal: 7.59s\tremaining: 1.39s\n",
      "169:\ttotal: 7.64s\tremaining: 1.35s\n",
      "170:\ttotal: 7.69s\tremaining: 1.3s\n",
      "171:\ttotal: 7.75s\tremaining: 1.26s\n",
      "172:\ttotal: 7.8s\tremaining: 1.22s\n",
      "173:\ttotal: 7.86s\tremaining: 1.17s\n",
      "174:\ttotal: 7.91s\tremaining: 1.13s\n",
      "175:\ttotal: 7.97s\tremaining: 1.09s\n",
      "176:\ttotal: 8.01s\tremaining: 1.04s\n",
      "177:\ttotal: 8.06s\tremaining: 996ms\n",
      "178:\ttotal: 8.1s\tremaining: 951ms\n",
      "179:\ttotal: 8.16s\tremaining: 906ms\n",
      "180:\ttotal: 8.2s\tremaining: 860ms\n",
      "181:\ttotal: 8.23s\tremaining: 814ms\n",
      "182:\ttotal: 8.28s\tremaining: 769ms\n",
      "183:\ttotal: 8.32s\tremaining: 724ms\n",
      "184:\ttotal: 8.37s\tremaining: 679ms\n",
      "185:\ttotal: 8.41s\tremaining: 633ms\n",
      "186:\ttotal: 8.47s\tremaining: 589ms\n",
      "187:\ttotal: 8.51s\tremaining: 543ms\n",
      "188:\ttotal: 8.55s\tremaining: 498ms\n",
      "189:\ttotal: 8.61s\tremaining: 453ms\n",
      "190:\ttotal: 8.65s\tremaining: 408ms\n",
      "191:\ttotal: 8.69s\tremaining: 362ms\n",
      "192:\ttotal: 8.74s\tremaining: 317ms\n",
      "193:\ttotal: 8.78s\tremaining: 272ms\n",
      "194:\ttotal: 8.83s\tremaining: 226ms\n",
      "195:\ttotal: 8.87s\tremaining: 181ms\n",
      "196:\ttotal: 8.91s\tremaining: 136ms\n",
      "197:\ttotal: 8.95s\tremaining: 90.4ms\n",
      "198:\ttotal: 9.02s\tremaining: 45.3ms\n",
      "199:\ttotal: 9.07s\tremaining: 0us\n"
     ]
    }
   ],
   "source": [
    "'''boosting'''\n",
    "xg.train(x_train,y_train)\n",
    "cb.train(x_train,y_train)\n",
    "lg.train(x_train,y_train)"
   ]
  },
  {
   "cell_type": "code",
   "execution_count": 245,
   "metadata": {},
   "outputs": [],
   "source": [
    "'''bagging기반 tree모델'''\n",
    "rf.train(x_train,y_train)\n",
    "et.train(x_train,y_train)"
   ]
  },
  {
   "cell_type": "markdown",
   "metadata": {},
   "source": [
    "---\n",
    "### 모델링 성능 확인\n",
    "---"
   ]
  },
  {
   "cell_type": "code",
   "execution_count": 193,
   "metadata": {},
   "outputs": [],
   "source": [
    "'''부스팅 모델 성능확인'''\n",
    "def BT_model_comparison(x_test,y_test):\n",
    "    ts = xg.predict(x_test) #xgb\n",
    "    ts1 = cb.predict(x_test) #ctb\n",
    "    ts2 = lg.predict(x_test) #lgb\n",
    "    \n",
    "    [fpr, tpr, thr] = metrics.roc_curve(y_test, ts)\n",
    "    [fpr2,tpr2,thr2] = metrics.roc_curve(y_test, ts1)\n",
    "    [fpr3,tpr3,thr3] = metrics.roc_curve(y_test, ts2)\n",
    "    \n",
    "    auc = metrics.auc(fpr, tpr)\n",
    "    auc2 = metrics.auc(fpr2, tpr2)\n",
    "    auc3 = metrics.auc(fpr3, tpr3)\n",
    "    \n",
    "    print('xgboost 모델 auc면적 : ' , auc)\n",
    "    print('catboost 모델 auc면적 : ' , auc2)\n",
    "    print('lightgradientboost 모델 auc면적 : ' , auc3)\n",
    "    \n",
    "    model = ['xgb','ctb','lgb']\n",
    "    auc = [auc,auc2,auc3]\n",
    "    error = np.random.rand(len(model))\n",
    "    \n",
    "    for i in range(len(auc)):\n",
    "        if auc[i] == max(auc):\n",
    "            max_index = i\n",
    "    \n",
    "    plt.figure(figsize=(15,8))\n",
    "    plt.title('model comparison')\n",
    "    plt.barh(model,auc,xerr=error)\n",
    "    plt.yticks(model,fontsize=10)\n",
    "    plt.ylabel('모델명',fontsize=10)\n",
    "    plt.show()\n",
    "\n",
    "    print(model[max_index]+' 모델이 가장 좋은 성능을 보였습니다.')\n",
    "\n",
    "'''bagging기반 모델 성능 확인'''\n",
    "def BG_model_comparison(x_test,y_test):\n",
    "    ts3 = rf.predict(x_test) #rf\n",
    "    ts4 = et.predict(x_test) #extract  \n",
    "    \n",
    "    [fpr3, tpr3, thr3] = metrics.roc_curve(y_test, ts3)\n",
    "    [fpr4,tpr4,thr4] = metrics.roc_curve(y_test, ts4)\n",
    "    \n",
    "    auc3 = metrics.auc(fpr3, tpr3)\n",
    "    auc4 = metrics.auc(fpr4, tpr4)\n",
    "        \n",
    "    print('xgboost 모델 auc면적 : ' , auc3)\n",
    "    print('catboost 모델 auc면적 : ' , auc4)\n",
    "    \n",
    "    model = ['RF','ET']\n",
    "    auc = [auc3,auc4]\n",
    "    error = np.random.rand(len(model))\n",
    "    \n",
    "    for i in range(len(auc)):\n",
    "        if auc[i] == max(auc):\n",
    "            max_index = i\n",
    "    \n",
    "    plt.figure(figsize=(15,8))\n",
    "    plt.title('model comparison')\n",
    "    plt.barh(model,auc,xerr=error)\n",
    "    plt.yticks(model,fontsize=10)\n",
    "    plt.ylabel('모델명',fontsize=10)\n",
    "    plt.show()\n",
    "\n",
    "    print(model[max_index]+' 모델이 가장 좋은 성능을 보였습니다.')"
   ]
  },
  {
   "cell_type": "code",
   "execution_count": 184,
   "metadata": {},
   "outputs": [
    {
     "name": "stdout",
     "output_type": "stream",
     "text": [
      "xgboost 모델 auc면적 :  0.7582325524311164\n",
      "catboost 모델 auc면적 :  0.7672681283681659\n",
      "lightgradientboost 모델 auc면적 :  0.7562658910652988\n"
     ]
    },
    {
     "data": {
      "image/png": "[encoded data removed]",
      "text/plain": [
       "<Figure size 1080x576 with 1 Axes>"
      ]
     },
     "metadata": {},
     "output_type": "display_data"
    },
    {
     "name": "stdout",
     "output_type": "stream",
     "text": [
      "ctb 모델이 가장 좋은 성능을 보였습니다.\n"
     ]
    }
   ],
   "source": [
    "BT_model_comparison(x_test,y_test)"
   ]
  },
  {
   "cell_type": "code",
   "execution_count": 223,
   "metadata": {},
   "outputs": [
    {
     "name": "stdout",
     "output_type": "stream",
     "text": [
      "xgboost 모델 auc면적 :  0.7545530901538515\n",
      "catboost 모델 auc면적 :  0.7626854019864077\n",
      "lightgradientboost 모델 auc면적 :  0.753588716084753\n"
     ]
    },
    {
     "data": {
      "image/png": "[encoded data removed]",
      "text/plain": [
       "<Figure size 1080x576 with 1 Axes>"
      ]
     },
     "metadata": {},
     "output_type": "display_data"
    },
    {
     "name": "stdout",
     "output_type": "stream",
     "text": [
      "ctb 모델이 가장 좋은 성능을 보였습니다.\n"
     ]
    }
   ],
   "source": [
    "'''인식님'''\n",
    "BT_model_comparison(x_test,y_test)"
   ]
  },
  {
   "cell_type": "code",
   "execution_count": 244,
   "metadata": {},
   "outputs": [
    {
     "name": "stdout",
     "output_type": "stream",
     "text": [
      "xgboost 모델 auc면적 :  0.7510015509298554\n",
      "catboost 모델 auc면적 :  0.7468608946729666\n",
      "lightgradientboost 모델 auc면적 :  0.7209155545254892\n"
     ]
    },
    {
     "data": {
      "image/png": "[encoded data removed]",
      "text/plain": [
       "<Figure size 1080x576 with 1 Axes>"
      ]
     },
     "metadata": {},
     "output_type": "display_data"
    },
    {
     "name": "stdout",
     "output_type": "stream",
     "text": [
      "xgb 모델이 가장 좋은 성능을 보였습니다.\n"
     ]
    }
   ],
   "source": [
    "'''동균님'''\n",
    "BT_model_comparison(x_test,y_test)"
   ]
  },
  {
   "cell_type": "code",
   "execution_count": 195,
   "metadata": {},
   "outputs": [
    {
     "name": "stdout",
     "output_type": "stream",
     "text": [
      "xgboost 모델 auc면적 :  0.7426439698351794\n",
      "catboost 모델 auc면적 :  0.7430675531500377\n"
     ]
    },
    {
     "data": {
      "image/png": "[encoded data removed]",
      "text/plain": [
       "<Figure size 1080x576 with 1 Axes>"
      ]
     },
     "metadata": {},
     "output_type": "display_data"
    },
    {
     "name": "stdout",
     "output_type": "stream",
     "text": [
      "ET 모델이 가장 좋은 성능을 보였습니다.\n"
     ]
    }
   ],
   "source": [
    "BG_model_comparison(x_test,y_test)"
   ]
  },
  {
   "cell_type": "code",
   "execution_count": 246,
   "metadata": {},
   "outputs": [
    {
     "name": "stdout",
     "output_type": "stream",
     "text": [
      "xgboost 모델 auc면적 :  0.7402701972730985\n",
      "catboost 모델 auc면적 :  0.7413982421367129\n"
     ]
    },
    {
     "data": {
      "image/png": "[encoded data removed]",
      "text/plain": [
       "<Figure size 1080x576 with 1 Axes>"
      ]
     },
     "metadata": {},
     "output_type": "display_data"
    },
    {
     "name": "stdout",
     "output_type": "stream",
     "text": [
      "ET 모델이 가장 좋은 성능을 보였습니다.\n"
     ]
    }
   ],
   "source": [
    "'''동균님'''\n",
    "BG_model_comparison(x_test,y_test)"
   ]
  },
  {
   "cell_type": "markdown",
   "metadata": {},
   "source": [
    "---\n",
    "# rfecv\n",
    "---"
   ]
  },
  {
   "cell_type": "code",
   "execution_count": 176,
   "metadata": {},
   "outputs": [],
   "source": [
    "from sklearn.feature_selection import RFECV\n",
    "from sklearn.linear_model import LogisticRegression\n",
    "from sklearn.ensemble import RandomForestClassifier\n",
    "from sklearn.ensemble import ExtraTreesClassifier"
   ]
  },
  {
   "cell_type": "code",
   "execution_count": 185,
   "metadata": {},
   "outputs": [],
   "source": [
    "lgb_model = LGBMClassifier(n_estimators=200,class_weight='balanced',learning_rate=0.1,\n",
    "                           num_leaves=123, colsample_bytree=0.8,subsample=0.9,max_depth=15,\n",
    "                          reg_alpha=0.1,reg_lambda=0.1,min_split_gain=0.01,minchild_weight=2)\n",
    "cat_model = CatBoostClassifier(iterations=200,\n",
    "    learning_rate = 0.5,\n",
    "    depth = 3,\n",
    "    l2_leaf_reg =  40,\n",
    "    bootstrap_type = 'Bernoulli',\n",
    "    subsample=  0.7,\n",
    "    scale_pos_weight = 5,\n",
    "    eval_metric = 'AUC',\n",
    "    od_type ='Iter',\n",
    "    allow_writing_files = False)\n",
    "xgb_model = xgb.XGBClassifier(seed= 0,\n",
    "    class_weight = 'balanced',\n",
    "    colsample_bytree= 0.7,\n",
    "    silent= 1,\n",
    "    subsample= 0.7,\n",
    "    learning_rate= 0.075,\n",
    "    objective= 'binary:logistic',\n",
    "    max_depth= 4,\n",
    "    num_parallel_tree= 1,\n",
    "    min_child_weight= 1,\n",
    "    nrounds= 200)"
   ]
  },
  {
   "cell_type": "code",
   "execution_count": 190,
   "metadata": {},
   "outputs": [],
   "source": [
    "boost_model = [lgb_model,cat_model,xgb_model]"
   ]
  },
  {
   "cell_type": "code",
   "execution_count": 191,
   "metadata": {
    "collapsed": true
   },
   "outputs": [
    {
     "ename": "KeyboardInterrupt",
     "evalue": "",
     "output_type": "error",
     "traceback": [
      "\u001b[1;31m---------------------------------------------------------------------------\u001b[0m",
      "\u001b[1;31mKeyboardInterrupt\u001b[0m                         Traceback (most recent call last)",
      "\u001b[1;32m<ipython-input-191-80c2be9700b0>\u001b[0m in \u001b[0;36m<module>\u001b[1;34m()\u001b[0m\n\u001b[0;32m      3\u001b[0m                cv=3, scoring='roc_auc')\n\u001b[0;32m      4\u001b[0m \u001b[1;33m\u001b[0m\u001b[0m\n\u001b[1;32m----> 5\u001b[1;33m     \u001b[0mselector\u001b[0m\u001b[1;33m.\u001b[0m\u001b[0mfit\u001b[0m\u001b[1;33m(\u001b[0m\u001b[0mx_train\u001b[0m\u001b[1;33m,\u001b[0m \u001b[0my_train\u001b[0m\u001b[1;33m)\u001b[0m\u001b[1;33m\u001b[0m\u001b[0m\n\u001b[0m\u001b[0;32m      6\u001b[0m \u001b[1;33m\u001b[0m\u001b[0m\n\u001b[0;32m      7\u001b[0m     \u001b[0mplt\u001b[0m\u001b[1;33m.\u001b[0m\u001b[0mfigure\u001b[0m\u001b[1;33m(\u001b[0m\u001b[0mfigsize\u001b[0m\u001b[1;33m=\u001b[0m\u001b[1;33m(\u001b[0m\u001b[1;36m15\u001b[0m\u001b[1;33m,\u001b[0m\u001b[1;36m10\u001b[0m\u001b[1;33m)\u001b[0m\u001b[1;33m)\u001b[0m\u001b[1;33m\u001b[0m\u001b[0m\n",
      "\u001b[1;32m~\\Anaconda3\\lib\\site-packages\\sklearn\\feature_selection\\rfe.py\u001b[0m in \u001b[0;36mfit\u001b[1;34m(self, X, y, groups)\u001b[0m\n\u001b[0;32m    519\u001b[0m         scores = parallel(\n\u001b[0;32m    520\u001b[0m             \u001b[0mfunc\u001b[0m\u001b[1;33m(\u001b[0m\u001b[0mrfe\u001b[0m\u001b[1;33m,\u001b[0m \u001b[0mself\u001b[0m\u001b[1;33m.\u001b[0m\u001b[0mestimator\u001b[0m\u001b[1;33m,\u001b[0m \u001b[0mX\u001b[0m\u001b[1;33m,\u001b[0m \u001b[0my\u001b[0m\u001b[1;33m,\u001b[0m \u001b[0mtrain\u001b[0m\u001b[1;33m,\u001b[0m \u001b[0mtest\u001b[0m\u001b[1;33m,\u001b[0m \u001b[0mscorer\u001b[0m\u001b[1;33m)\u001b[0m\u001b[1;33m\u001b[0m\u001b[0m\n\u001b[1;32m--> 521\u001b[1;33m             for train, test in cv.split(X, y, groups))\n\u001b[0m\u001b[0;32m    522\u001b[0m \u001b[1;33m\u001b[0m\u001b[0m\n\u001b[0;32m    523\u001b[0m         \u001b[0mscores\u001b[0m \u001b[1;33m=\u001b[0m \u001b[0mnp\u001b[0m\u001b[1;33m.\u001b[0m\u001b[0msum\u001b[0m\u001b[1;33m(\u001b[0m\u001b[0mscores\u001b[0m\u001b[1;33m,\u001b[0m \u001b[0maxis\u001b[0m\u001b[1;33m=\u001b[0m\u001b[1;36m0\u001b[0m\u001b[1;33m)\u001b[0m\u001b[1;33m\u001b[0m\u001b[0m\n",
      "\u001b[1;32m~\\Anaconda3\\lib\\site-packages\\sklearn\\feature_selection\\rfe.py\u001b[0m in \u001b[0;36m<genexpr>\u001b[1;34m(.0)\u001b[0m\n\u001b[0;32m    519\u001b[0m         scores = parallel(\n\u001b[0;32m    520\u001b[0m             \u001b[0mfunc\u001b[0m\u001b[1;33m(\u001b[0m\u001b[0mrfe\u001b[0m\u001b[1;33m,\u001b[0m \u001b[0mself\u001b[0m\u001b[1;33m.\u001b[0m\u001b[0mestimator\u001b[0m\u001b[1;33m,\u001b[0m \u001b[0mX\u001b[0m\u001b[1;33m,\u001b[0m \u001b[0my\u001b[0m\u001b[1;33m,\u001b[0m \u001b[0mtrain\u001b[0m\u001b[1;33m,\u001b[0m \u001b[0mtest\u001b[0m\u001b[1;33m,\u001b[0m \u001b[0mscorer\u001b[0m\u001b[1;33m)\u001b[0m\u001b[1;33m\u001b[0m\u001b[0m\n\u001b[1;32m--> 521\u001b[1;33m             for train, test in cv.split(X, y, groups))\n\u001b[0m\u001b[0;32m    522\u001b[0m \u001b[1;33m\u001b[0m\u001b[0m\n\u001b[0;32m    523\u001b[0m         \u001b[0mscores\u001b[0m \u001b[1;33m=\u001b[0m \u001b[0mnp\u001b[0m\u001b[1;33m.\u001b[0m\u001b[0msum\u001b[0m\u001b[1;33m(\u001b[0m\u001b[0mscores\u001b[0m\u001b[1;33m,\u001b[0m \u001b[0maxis\u001b[0m\u001b[1;33m=\u001b[0m\u001b[1;36m0\u001b[0m\u001b[1;33m)\u001b[0m\u001b[1;33m\u001b[0m\u001b[0m\n",
      "\u001b[1;32m~\\Anaconda3\\lib\\site-packages\\sklearn\\feature_selection\\rfe.py\u001b[0m in \u001b[0;36m_rfe_single_fit\u001b[1;34m(rfe, estimator, X, y, train, test, scorer)\u001b[0m\n\u001b[0;32m     30\u001b[0m     \u001b[0mX_test\u001b[0m\u001b[1;33m,\u001b[0m \u001b[0my_test\u001b[0m \u001b[1;33m=\u001b[0m \u001b[0m_safe_split\u001b[0m\u001b[1;33m(\u001b[0m\u001b[0mestimator\u001b[0m\u001b[1;33m,\u001b[0m \u001b[0mX\u001b[0m\u001b[1;33m,\u001b[0m \u001b[0my\u001b[0m\u001b[1;33m,\u001b[0m \u001b[0mtest\u001b[0m\u001b[1;33m,\u001b[0m \u001b[0mtrain\u001b[0m\u001b[1;33m)\u001b[0m\u001b[1;33m\u001b[0m\u001b[0m\n\u001b[0;32m     31\u001b[0m     return rfe._fit(\n\u001b[1;32m---> 32\u001b[1;33m         \u001b[0mX_train\u001b[0m\u001b[1;33m,\u001b[0m \u001b[0my_train\u001b[0m\u001b[1;33m,\u001b[0m \u001b[1;32mlambda\u001b[0m \u001b[0mestimator\u001b[0m\u001b[1;33m,\u001b[0m \u001b[0mfeatures\u001b[0m\u001b[1;33m:\u001b[0m\u001b[1;33m\u001b[0m\u001b[0m\n\u001b[0m\u001b[0;32m     33\u001b[0m         _score(estimator, X_test[:, features], y_test, scorer)).scores_\n\u001b[0;32m     34\u001b[0m \u001b[1;33m\u001b[0m\u001b[0m\n",
      "\u001b[1;32m~\\Anaconda3\\lib\\site-packages\\sklearn\\feature_selection\\rfe.py\u001b[0m in \u001b[0;36m_fit\u001b[1;34m(self, X, y, step_score)\u001b[0m\n\u001b[0;32m    181\u001b[0m                 \u001b[0mprint\u001b[0m\u001b[1;33m(\u001b[0m\u001b[1;34m\"Fitting estimator with %d features.\"\u001b[0m \u001b[1;33m%\u001b[0m \u001b[0mnp\u001b[0m\u001b[1;33m.\u001b[0m\u001b[0msum\u001b[0m\u001b[1;33m(\u001b[0m\u001b[0msupport_\u001b[0m\u001b[1;33m)\u001b[0m\u001b[1;33m)\u001b[0m\u001b[1;33m\u001b[0m\u001b[0m\n\u001b[0;32m    182\u001b[0m \u001b[1;33m\u001b[0m\u001b[0m\n\u001b[1;32m--> 183\u001b[1;33m             \u001b[0mestimator\u001b[0m\u001b[1;33m.\u001b[0m\u001b[0mfit\u001b[0m\u001b[1;33m(\u001b[0m\u001b[0mX\u001b[0m\u001b[1;33m[\u001b[0m\u001b[1;33m:\u001b[0m\u001b[1;33m,\u001b[0m \u001b[0mfeatures\u001b[0m\u001b[1;33m]\u001b[0m\u001b[1;33m,\u001b[0m \u001b[0my\u001b[0m\u001b[1;33m)\u001b[0m\u001b[1;33m\u001b[0m\u001b[0m\n\u001b[0m\u001b[0;32m    184\u001b[0m \u001b[1;33m\u001b[0m\u001b[0m\n\u001b[0;32m    185\u001b[0m             \u001b[1;31m# Get coefs\u001b[0m\u001b[1;33m\u001b[0m\u001b[1;33m\u001b[0m\u001b[0m\n",
      "\u001b[1;32m~\\Anaconda3\\lib\\site-packages\\lightgbm\\sklearn.py\u001b[0m in \u001b[0;36mfit\u001b[1;34m(self, X, y, sample_weight, init_score, eval_set, eval_names, eval_sample_weight, eval_class_weight, eval_init_score, eval_metric, early_stopping_rounds, verbose, feature_name, categorical_feature, callbacks)\u001b[0m\n\u001b[0;32m    742\u001b[0m                                         \u001b[0mverbose\u001b[0m\u001b[1;33m=\u001b[0m\u001b[0mverbose\u001b[0m\u001b[1;33m,\u001b[0m \u001b[0mfeature_name\u001b[0m\u001b[1;33m=\u001b[0m\u001b[0mfeature_name\u001b[0m\u001b[1;33m,\u001b[0m\u001b[1;33m\u001b[0m\u001b[0m\n\u001b[0;32m    743\u001b[0m                                         \u001b[0mcategorical_feature\u001b[0m\u001b[1;33m=\u001b[0m\u001b[0mcategorical_feature\u001b[0m\u001b[1;33m,\u001b[0m\u001b[1;33m\u001b[0m\u001b[0m\n\u001b[1;32m--> 744\u001b[1;33m                                         callbacks=callbacks)\n\u001b[0m\u001b[0;32m    745\u001b[0m         \u001b[1;32mreturn\u001b[0m \u001b[0mself\u001b[0m\u001b[1;33m\u001b[0m\u001b[0m\n\u001b[0;32m    746\u001b[0m \u001b[1;33m\u001b[0m\u001b[0m\n",
      "\u001b[1;32m~\\Anaconda3\\lib\\site-packages\\lightgbm\\sklearn.py\u001b[0m in \u001b[0;36mfit\u001b[1;34m(self, X, y, sample_weight, init_score, group, eval_set, eval_names, eval_sample_weight, eval_class_weight, eval_init_score, eval_group, eval_metric, early_stopping_rounds, verbose, feature_name, categorical_feature, callbacks)\u001b[0m\n\u001b[0;32m    542\u001b[0m                               \u001b[0mverbose_eval\u001b[0m\u001b[1;33m=\u001b[0m\u001b[0mverbose\u001b[0m\u001b[1;33m,\u001b[0m \u001b[0mfeature_name\u001b[0m\u001b[1;33m=\u001b[0m\u001b[0mfeature_name\u001b[0m\u001b[1;33m,\u001b[0m\u001b[1;33m\u001b[0m\u001b[0m\n\u001b[0;32m    543\u001b[0m                               \u001b[0mcategorical_feature\u001b[0m\u001b[1;33m=\u001b[0m\u001b[0mcategorical_feature\u001b[0m\u001b[1;33m,\u001b[0m\u001b[1;33m\u001b[0m\u001b[0m\n\u001b[1;32m--> 544\u001b[1;33m                               callbacks=callbacks)\n\u001b[0m\u001b[0;32m    545\u001b[0m \u001b[1;33m\u001b[0m\u001b[0m\n\u001b[0;32m    546\u001b[0m         \u001b[1;32mif\u001b[0m \u001b[0mevals_result\u001b[0m\u001b[1;33m:\u001b[0m\u001b[1;33m\u001b[0m\u001b[0m\n",
      "\u001b[1;32m~\\Anaconda3\\lib\\site-packages\\lightgbm\\engine.py\u001b[0m in \u001b[0;36mtrain\u001b[1;34m(params, train_set, num_boost_round, valid_sets, valid_names, fobj, feval, init_model, feature_name, categorical_feature, early_stopping_rounds, evals_result, verbose_eval, learning_rates, keep_training_booster, callbacks)\u001b[0m\n\u001b[0;32m    216\u001b[0m                                     evaluation_result_list=None))\n\u001b[0;32m    217\u001b[0m \u001b[1;33m\u001b[0m\u001b[0m\n\u001b[1;32m--> 218\u001b[1;33m         \u001b[0mbooster\u001b[0m\u001b[1;33m.\u001b[0m\u001b[0mupdate\u001b[0m\u001b[1;33m(\u001b[0m\u001b[0mfobj\u001b[0m\u001b[1;33m=\u001b[0m\u001b[0mfobj\u001b[0m\u001b[1;33m)\u001b[0m\u001b[1;33m\u001b[0m\u001b[0m\n\u001b[0m\u001b[0;32m    219\u001b[0m \u001b[1;33m\u001b[0m\u001b[0m\n\u001b[0;32m    220\u001b[0m         \u001b[0mevaluation_result_list\u001b[0m \u001b[1;33m=\u001b[0m \u001b[1;33m[\u001b[0m\u001b[1;33m]\u001b[0m\u001b[1;33m\u001b[0m\u001b[0m\n",
      "\u001b[1;32m~\\Anaconda3\\lib\\site-packages\\lightgbm\\basic.py\u001b[0m in \u001b[0;36mupdate\u001b[1;34m(self, train_set, fobj)\u001b[0m\n\u001b[0;32m   1800\u001b[0m             _safe_call(_LIB.LGBM_BoosterUpdateOneIter(\n\u001b[0;32m   1801\u001b[0m                 \u001b[0mself\u001b[0m\u001b[1;33m.\u001b[0m\u001b[0mhandle\u001b[0m\u001b[1;33m,\u001b[0m\u001b[1;33m\u001b[0m\u001b[0m\n\u001b[1;32m-> 1802\u001b[1;33m                 ctypes.byref(is_finished)))\n\u001b[0m\u001b[0;32m   1803\u001b[0m             \u001b[0mself\u001b[0m\u001b[1;33m.\u001b[0m\u001b[0m__is_predicted_cur_iter\u001b[0m \u001b[1;33m=\u001b[0m \u001b[1;33m[\u001b[0m\u001b[1;32mFalse\u001b[0m \u001b[1;32mfor\u001b[0m \u001b[0m_\u001b[0m \u001b[1;32min\u001b[0m \u001b[0mrange_\u001b[0m\u001b[1;33m(\u001b[0m\u001b[0mself\u001b[0m\u001b[1;33m.\u001b[0m\u001b[0m__num_dataset\u001b[0m\u001b[1;33m)\u001b[0m\u001b[1;33m]\u001b[0m\u001b[1;33m\u001b[0m\u001b[0m\n\u001b[0;32m   1804\u001b[0m             \u001b[1;32mreturn\u001b[0m \u001b[0mis_finished\u001b[0m\u001b[1;33m.\u001b[0m\u001b[0mvalue\u001b[0m \u001b[1;33m==\u001b[0m \u001b[1;36m1\u001b[0m\u001b[1;33m\u001b[0m\u001b[0m\n",
      "\u001b[1;31mKeyboardInterrupt\u001b[0m: "
     ]
    }
   ],
   "source": [
    "'''feature selection의 시간이 굉장히 오래걸림'''\n",
    "for i in boost_model:\n",
    "    selector = RFECV(estimator=i, step=3, \n",
    "               cv=3, scoring='roc_auc')\n",
    "    \n",
    "    selector.fit(x_train, y_train)\n",
    "    \n",
    "    plt.figure(figsize=(15,10))\n",
    "    plt.xlabel(\"Number of features selected\")\n",
    "    plt.ylabel(\"Cross validation score (roc auc)\")\n",
    "    plt.plot(range(1, len(selector.grid_scores_) + 1), selector.grid_scores_)\n",
    "    plt.show()\n",
    "\n",
    "    rankings = pd.DataFrame({'feature': list(x_train.columns), 'rank': list(selector.ranking_)}).sort_values('rank')"
   ]
  }
 ],
 "metadata": {
  "kernelspec": {
   "display_name": "Python 3",
   "language": "python",
   "name": "python3"
  },
  "language_info": {
   "codemirror_mode": {
    "name": "ipython",
    "version": 3
   },
   "file_extension": ".py",
   "mimetype": "text/x-python",
   "name": "python",
   "nbconvert_exporter": "python",
   "pygments_lexer": "ipython3",
   "version": "3.6.5"
  }
 },
 "nbformat": 4,
 "nbformat_minor": 2
}
