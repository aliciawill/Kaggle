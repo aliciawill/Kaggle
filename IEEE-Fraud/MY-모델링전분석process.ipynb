{
 "cells": [
  {
   "cell_type": "code",
   "execution_count": null,
   "metadata": {},
   "outputs": [],
   "source": [
    "#### 데이터 변수 간략 설명\n",
    "- Target variable"
   ]
  },
  {
   "cell_type": "code",
   "execution_count": null,
   "metadata": {},
   "outputs": [],
   "source": [
    "---\n",
    "# 데이터 파악(전처리) 및 EDA\n",
    "---"
   ]
  },
  {
   "cell_type": "code",
   "execution_count": null,
   "metadata": {},
   "outputs": [],
   "source": [
    "#### 1. data dtypes\n",
    "- dtype별로 컬럼 리스트 저장"
   ]
  },
  {
   "cell_type": "code",
   "execution_count": null,
   "metadata": {},
   "outputs": [],
   "source": [
    "'''코드작성'''\n",
    "'''integer 데이터'''\n",
    "c = train_df.select_dtypes('int64')\n",
    "integer_var = c.columns.tolist()\n",
    "inte = pd.DataFrame()\n",
    "for i in range(len(c.columns)):\n",
    "    c0 = c.iloc[:,i].unique().tolist()\n",
    "    \n",
    "    inte0 = pd.DataFrame({'col_nm':[c.columns[i]],\n",
    "                        'inte_data':[c0],\n",
    "                        'inte_num':[len(c.iloc[:,i].unique())]})\n",
    "    \n",
    "    inte = inte.append(inte0)\n",
    "    inte.index = range(len(inte))"
   ]
  },
  {
   "cell_type": "code",
   "execution_count": null,
   "metadata": {},
   "outputs": [],
   "source": [
    "'''float데이터'''\n",
    "b = train_df.select_dtypes('float64')\n",
    "numeric_var = b.columns.tolist()"
   ]
  },
  {
   "cell_type": "code",
   "execution_count": null,
   "metadata": {},
   "outputs": [],
   "source": [
    "'''categorical데이터'''\n",
    "a = train_df.select_dtypes('object')\n",
    "cate_var = a.columns.tolist()\n",
    "cate = pd.DataFrame()\n",
    "for i in range(len(a.columns)):\n",
    "    a0 = a.iloc[:,i].unique().tolist()\n",
    "    \n",
    "    cate0 = pd.DataFrame({'col_nm':[a.columns[i]],\n",
    "                        'cate_data':[a0],\n",
    "                        'cate_num':[len(a.iloc[:,i].unique())]})\n",
    "    \n",
    "    cate = cate.append(cate0)\n",
    "    cate.index = range(len(cate))"
   ]
  },
  {
   "cell_type": "code",
   "execution_count": null,
   "metadata": {},
   "outputs": [],
   "source": [
    "#### 2. 결측치 파악 및 처리 방안 구상\n",
    "- 전체 로우 데이터 수를 구하고 NA %로 컬럼 분할 / 성격이 비슷한 변수별 컬럼 분할\n",
    "    - 90% 이상 결측치 : 삭제\n",
    "    - 40-90 : 명목형(missing_value), 연속형(-999)\n",
    "    - 1-40 : 명목형(최빈값), 연속형(평균값)\n",
    "    - 단, boosting 모델로 예측하는 모델링을 진행할 것이므로 결측치는 모두 -999로 치환해도 됨\n",
    "- matshow (결측치 패턴 탐색)\n",
    "- 연속형 : 회귀모델로 결측치 예측"
   ]
  },
  {
   "cell_type": "code",
   "execution_count": null,
   "metadata": {},
   "outputs": [],
   "source": [
    "'''na값이 아닌 것에 대한 탐색 : NAN값으로 되어 있지 않고 문자열처럼 되어 있는 결측치'''"
   ]
  },
  {
   "cell_type": "code",
   "execution_count": null,
   "metadata": {},
   "outputs": [],
   "source": [
    "'''-999치환'''\n",
    "df = df.fillna(-999,inplace=True)"
   ]
  },
  {
   "cell_type": "code",
   "execution_count": null,
   "metadata": {},
   "outputs": [],
   "source": [
    "'''결측치 percentage'''\n",
    "idx = []\n",
    "for i in range(len(df.isna().sum().tolist())):\n",
    "    if df.isna().sum().tolist()[i]>0:\n",
    "        idx.append(i)\n",
    "df_na_per0 = df.iloc[:,idx]\n",
    "per0 = pd.Serise(df_na_per0.isna().sum().tolist())/len(df_na_per0)\n",
    "\n",
    "df_na_per = pd.DataFrame()\n",
    "df_na_per['NA_column'] = df_na_per0.columns.tolist()\n",
    "df_na_per['NA_percentage'] = per0"
   ]
  },
  {
   "cell_type": "code",
   "execution_count": null,
   "metadata": {},
   "outputs": [],
   "source": [
    "'''matshow로 결측치 패턴 탐색'''\n",
    "df = train_transaction[train_transaction.columns[55:].tolist()].isna().astype(int)\n",
    "\n",
    "plt.figure(figsize=(15,5))\n",
    "plt.matshow(df,fignum=1)\n",
    "plt.gca().set_aspect('auto')\n",
    "plt.show()"
   ]
  },
  {
   "cell_type": "code",
   "execution_count": null,
   "metadata": {},
   "outputs": [],
   "source": [
    "#### 3. data summary\n",
    "- 이상치 파악 (평균 / 중앙값 비교) : boxplot\n",
    "- 전체적인 summary값 파악"
   ]
  },
  {
   "cell_type": "code",
   "execution_count": null,
   "metadata": {},
   "outputs": [],
   "source": [
    "---\n",
    "# Feature EDA\n",
    "---"
   ]
  },
  {
   "cell_type": "code",
   "execution_count": null,
   "metadata": {},
   "outputs": [],
   "source": [
    "#### categorical variable\n",
    "- 빈도\n",
    "- category변수별로 인사이트 뽑을만한 numeric변수의 차이\n",
    "- 카테고리별로 타겟변수의 분포차이(boxplot)"
   ]
  },
  {
   "cell_type": "code",
   "execution_count": null,
   "metadata": {},
   "outputs": [],
   "source": [
    "inte_low10 = [inte['col_nm'].iloc[i] if inte['inte_num'].iloc[i]<=10 for i in range(len(inte))]\n",
    "cate_low10 = [cate['col_nm'].iloc[i] if cate['cate_num'].iloc[i]<=10 for i in range(len(cate))]"
   ]
  },
  {
   "cell_type": "code",
   "execution_count": null,
   "metadata": {},
   "outputs": [],
   "source": [
    "'''count : integer,category value <10'''\n",
    "def count_eda(data,column):\n",
    "    idx0 = data[column].value_counts(dropna=False).index\n",
    "    idx = data[column].value_counts().index.tolist()\n",
    "    value = data[column].value_counts(dropna=False).values\n",
    "    \n",
    "    if math.isnan(idx0.tolist()[0]) == True:\n",
    "        idx = ['nan'] + idx\n",
    "        \n",
    "    idx2 = []\n",
    "    for i in idx:\n",
    "        idx2.append(str(i))\n",
    "        \n",
    "    plt.barh(idx2,value)\n",
    "    plt.title(column + '변수 빈도수')\n",
    "    plt.show()"
   ]
  },
  {
   "cell_type": "code",
   "execution_count": null,
   "metadata": {},
   "outputs": [],
   "source": [
    "'''타겟변수별 카테고리 변수값이 빈도 차이'''\n",
    "'''코드작성'''\n"
   ]
  },
  {
   "cell_type": "code",
   "execution_count": null,
   "metadata": {},
   "outputs": [],
   "source": [
    "#### numeric variable\n",
    "- kde\n",
    "- Target변수와의 상관성 및 분포 확인"
   ]
  },
  {
   "cell_type": "code",
   "execution_count": null,
   "metadata": {},
   "outputs": [],
   "source": [
    "'''커널밀도그래프'''\n",
    "def kde_target(variable):\n",
    "    global df\n",
    "    \n",
    "    cor = df['isFraud'].corr(df[variable])\n",
    "    \n",
    "    # 대출을 상환한 사람과 상환하지 않은 사람의 중앙값 계산\n",
    "    \n",
    "    avg_repaid = df.ix[df['target']==0,variable].median()\n",
    "    avg_not_repaid = df.ix[df['target']==1,variable].median()\n",
    "    \n",
    "    plt.figure(figsize=(12,8))\n",
    "    \n",
    "    #커널 밀도 그래프 \n",
    "    sns.kdeplot(df.ix[df['target']==0,variable],label = 'TARGET == 0')\n",
    "    sns.kdeplot(df.ix[df['target']==1,variable],label = 'TARGET == 1')\n",
    "    \n",
    "    plt.xlabel(variable); plt.ylabel('Density'); plt.title('%s Distribution' % variable)\n",
    "    plt.legend();\n",
    "    plt.show()\n",
    "    \n",
    "    # 상관계수 출력\n",
    "    # print out the correlation\n",
    "    print('The correlation between %s and the TARGET is %0.4f' % (variable, cor))\n",
    "    \n",
    "    # 중간값 출력\n",
    "    # Print out average values\n",
    "    print('Median value for loan that was not repaid = %0.4f' % avg_not_repaid)\n",
    "    print('Median value for loan that was repaid =     %0.4f' % avg_repaid)\n"
   ]
  },
  {
   "cell_type": "code",
   "execution_count": null,
   "metadata": {},
   "outputs": [],
   "source": [
    "'''target변수와의 상관성'''\n"
   ]
  },
  {
   "cell_type": "code",
   "execution_count": null,
   "metadata": {},
   "outputs": [],
   "source": [
    "'''카테고리별로 타겟변수의 분포차이'''\n",
    "def float_boxplot(variable,df = train_transaction):\n",
    "    plt.figure(figsize=(12,8))\n",
    "    sns.boxplot(x = 'isFraud',\n",
    "               y = variable,\n",
    "               data= df)\n",
    "    plt.show()"
   ]
  },
  {
   "cell_type": "code",
   "execution_count": null,
   "metadata": {},
   "outputs": [],
   "source": [
    "---\n",
    "# FE\n",
    "---"
   ]
  },
  {
   "cell_type": "code",
   "execution_count": null,
   "metadata": {},
   "outputs": [],
   "source": [
    "#### 필요한 데이터셋 구축"
   ]
  },
  {
   "cell_type": "code",
   "execution_count": null,
   "metadata": {},
   "outputs": [],
   "source": [
    "'''append function'''\n",
    "def feature_append(target_df,made_feature):\n",
    "    virtual_df = pd.concat([target_df,made_feature],axis=1)\n",
    "    \n",
    "    return virtual_df"
   ]
  },
  {
   "cell_type": "code",
   "execution_count": null,
   "metadata": {},
   "outputs": [],
   "source": [
    "'''기존 변수(변형 금지)'''\n",
    "train_df\n",
    "\n",
    "'''파생변수 append하는 변수 - target_df'''\n",
    "target_df\n"
   ]
  },
  {
   "cell_type": "code",
   "execution_count": null,
   "metadata": {},
   "outputs": [],
   "source": [
    "#### 대표값 위주의 다양한 파생변수 생성"
   ]
  },
  {
   "cell_type": "code",
   "execution_count": null,
   "metadata": {},
   "outputs": [],
   "source": [
    "'''transform변수를 사용한 mean / median / scale(직접구하는) / std / log / datetime처리 \n",
    "클러스터변수 / PCA(변수가 너무 많다면) / 변동계수 / 분산 /  ratio / count / split\n",
    "data encoding'''"
   ]
  },
  {
   "cell_type": "code",
   "execution_count": null,
   "metadata": {},
   "outputs": [],
   "source": [
    "'''cluter - 결측치가 일정개수 미만인 컬럼만으로 비지도학습진행'''\n",
    "clus_df0 = train_df.select_dtypes('float64')\n",
    "#clus_df0 = pd.concat([b,train_df.loc[:,['DAYS_BIRTH','DAYS_EMPLOYED','DAYS_ID_PUBLISH']]],axis=1)\n",
    "\n",
    "no_na0 = clus_df0.isnull().sum().tolist()\n",
    "no_na = []\n",
    "for i in range(len(clus_df0.columns)):\n",
    "    if no_na0[i]<=50000:\n",
    "        no_na.append(i)\n",
    "b_df_notnull = clus_df0.iloc[:,no_na]\n",
    "\n",
    "for i in range(len(b_df_notnull.columns)):\n",
    "    mn =b_df_notnull.iloc[:,i].mean()\n",
    "    b_df_notnull.iloc[:,i] = b_df_notnull.iloc[:,i].fillna(mn)"
   ]
  },
  {
   "cell_type": "code",
   "execution_count": null,
   "metadata": {},
   "outputs": [],
   "source": [
    "ks = range(1,10)\n",
    "\n",
    "inertias = []\n",
    "for k in ks:\n",
    "\n",
    "    model = KMeans(n_clusters=k)\n",
    "\n",
    "    model.fit(b_df_notnull)\n",
    "\n",
    "    inertias.append(model.inertia_)"
   ]
  },
  {
   "cell_type": "code",
   "execution_count": null,
   "metadata": {},
   "outputs": [],
   "source": [
    "plt.plot(ks, inertias, '-o')\n",
    "plt.xlabel('number of clusters, k')\n",
    "plt.ylabel('inertia')\n",
    "plt.xticks(ks)\n",
    "plt.show()"
   ]
  },
  {
   "cell_type": "code",
   "execution_count": null,
   "metadata": {},
   "outputs": [],
   "source": [
    "model = KMeans(n_clusters=4,algorithm='auto')\n",
    "model.fit(b_df_notnull)\n",
    "predict = pd.DataFrame(model.predict(b_df_notnull))\n",
    "\n",
    "b_df_notnull['cluster'] = predict.iloc[:,0]\n",
    "\n",
    "target_df = feature_append(target_df,b_df_notnull[['cluster']])"
   ]
  },
  {
   "cell_type": "code",
   "execution_count": null,
   "metadata": {},
   "outputs": [],
   "source": [
    "'''PCA'''\n",
    "pca = PCA(n_components=30, random_state=4)\n",
    "\n",
    "pca_test_df = train_df.iloc[:,41:]\n",
    "pca_test_df2 = (minmax_scale(pca_test_df, feature_range=(0,1)))\n",
    "principalComponents = pca.fit_transform(pca_test_df2)\n",
    "\n",
    "principalDf = pd.DataFrame(principalComponents)\n",
    "\n",
    "principalDf.rename(columns=lambda x: str(prefix)+str(x), inplace=True)\n",
    "\n",
    "df = pd.concat([df, principalDf], axis=1)"
   ]
  },
  {
   "cell_type": "code",
   "execution_count": null,
   "metadata": {},
   "outputs": [],
   "source": [
    "'''각 행별 누적합계 구하기\n",
    "최적의 주성분 개수구하기\n",
    "n_components30으로 확인한 결과 주성분 9개로 데이터를 95% 설명할 수 있음\n",
    "but 아래코드에서는 30개까지 사용'''\n",
    "pca_r = np.cumsum(pca.explained_variance_ratio_)\n",
    "pca_r"
   ]
  },
  {
   "cell_type": "code",
   "execution_count": null,
   "metadata": {},
   "outputs": [],
   "source": [
    "'''label_encoding'''\n",
    "for col in train.columns:\n",
    "    if train[col].dtype == 'object':\n",
    "        le = LabelEncoder()\n",
    "        le.fit(list(train[col].astype(str).values) + list(test[col].astype(str).values))\n",
    "        train[col] = le.transform(list(train[col].astype(str).values))\n",
    "        test[col] = le.transform(list(test[col].astype(str).values))\n",
    "\n",
    "'''frequency_encoding'''\n",
    "value_counts\n",
    "'''onghot / dummy encoding - 사용하지 않은 이유'''"
   ]
  },
  {
   "cell_type": "code",
   "execution_count": null,
   "metadata": {},
   "outputs": [],
   "source": []
  },
  {
   "cell_type": "code",
   "execution_count": null,
   "metadata": {},
   "outputs": [],
   "source": []
  },
  {
   "cell_type": "code",
   "execution_count": null,
   "metadata": {},
   "outputs": [],
   "source": []
  },
  {
   "cell_type": "code",
   "execution_count": null,
   "metadata": {},
   "outputs": [],
   "source": []
  }
 ],
 "metadata": {
  "kernelspec": {
   "display_name": "Python 3",
   "language": "python",
   "name": "python3"
  },
  "language_info": {
   "codemirror_mode": {
    "name": "ipython",
    "version": 3
   },
   "file_extension": ".py",
   "mimetype": "text/x-python",
   "name": "python",
   "nbconvert_exporter": "python",
   "pygments_lexer": "ipython3",
   "version": "3.6.5"
  }
 },
 "nbformat": 4,
 "nbformat_minor": 2
}
