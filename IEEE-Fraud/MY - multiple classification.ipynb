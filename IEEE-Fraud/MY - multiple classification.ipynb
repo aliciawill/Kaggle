{
 "cells": [
  {
   "cell_type": "code",
   "execution_count": 11,
   "metadata": {},
   "outputs": [],
   "source": [
    "import pandas as pd\n",
    "import sklearn as sk\n",
    "from sklearn.linear_model import LogisticRegression\n",
    "from sklearn import svm\n",
    "from sklearn.ensemble import RandomForestClassifier\n",
    "from sklearn.neural_network import MLPClassifier\n",
    "from sklearn.preprocessing import LabelEncoder\n",
    "from sklearn import preprocessing\n",
    "from sklearn.metrics import confusion_matrix\n",
    "import xgboost as xgb\n",
    "from sklearn.model_selection import train_test_split\n",
    "from sklearn.metrics import confusion_matrix,accuracy_score, roc_curve, auc\n",
    "from sklearn.model_selection import KFold,TimeSeriesSplit\n",
    "import numpy as np\n",
    "from sklearn.metrics import roc_auc_score\n",
    "\n",
    "import gc\n",
    "import seaborn as sns\n",
    "import matplotlib.pyplot as plt\n",
    "\n",
    "\n",
    "import lightgbm as lgb"
   ]
  },
  {
   "cell_type": "code",
   "execution_count": null,
   "metadata": {},
   "outputs": [],
   "source": [
    "lgb."
   ]
  },
  {
   "cell_type": "code",
   "execution_count": 106,
   "metadata": {},
   "outputs": [],
   "source": [
    "plt.style.use('ggplot') #ggplot스타일 사용\n",
    "#한글폰트 사용\n",
    "plt.rc('font', family='nanumgothic')\n",
    "plt.rc('axes', unicode_minus=False)"
   ]
  },
  {
   "cell_type": "markdown",
   "metadata": {},
   "source": [
    "---\n",
    "# data parsing\n",
    "---"
   ]
  },
  {
   "cell_type": "code",
   "execution_count": 2,
   "metadata": {},
   "outputs": [],
   "source": [
    "txt_df = pd.read_table('sa_heart_disease.txt',sep=',')"
   ]
  },
  {
   "cell_type": "code",
   "execution_count": 3,
   "metadata": {},
   "outputs": [],
   "source": [
    "txt_df.drop(columns = 'row.names',inplace = True)"
   ]
  },
  {
   "cell_type": "markdown",
   "metadata": {},
   "source": [
    "---\n",
    "# classification modeling\n",
    "---"
   ]
  },
  {
   "cell_type": "code",
   "execution_count": 9,
   "metadata": {},
   "outputs": [
    {
     "data": {
      "text/plain": [
       "0    302\n",
       "1    160\n",
       "Name: chd, dtype: int64"
      ]
     },
     "execution_count": 9,
     "metadata": {},
     "output_type": "execute_result"
    }
   ],
   "source": [
    "txt_df['chd'].value_counts()"
   ]
  },
  {
   "cell_type": "markdown",
   "metadata": {},
   "source": [
    "---\n",
    "### 1. Logistic Regression\n",
    "---\n",
    "- softmax지원 알고리즘을 사용하여 결과갓에 대한 정확도는 73%정도로 꽤 높은 수준"
   ]
  },
  {
   "cell_type": "code",
   "execution_count": 52,
   "metadata": {},
   "outputs": [],
   "source": [
    "'''train_test_split로도 가능'''\n",
    "y = txt_df.iloc[:,9]\n",
    "x = txt_df.iloc[:,:9]"
   ]
  },
  {
   "cell_type": "code",
   "execution_count": 53,
   "metadata": {},
   "outputs": [],
   "source": [
    "le = LabelEncoder()\n",
    "le.fit(list(x['famhist'].values))\n",
    "x['famhist'] = le.transform(list(x['famhist'].values))"
   ]
  },
  {
   "cell_type": "code",
   "execution_count": 58,
   "metadata": {},
   "outputs": [],
   "source": [
    "txt_df['famhist'] = le.transform(list(txt_df['famhist'].values))"
   ]
  },
  {
   "cell_type": "code",
   "execution_count": 16,
   "metadata": {},
   "outputs": [
    {
     "data": {
      "text/plain": [
       "'엘라스틱넷 - 라쏘와 릿지를 혼합\\nr = 0 : 릿지\\nr = 1 : 라쏘'"
      ]
     },
     "execution_count": 16,
     "metadata": {},
     "output_type": "execute_result"
    }
   ],
   "source": [
    "'''로지스틱회귀 데이터 학습\n",
    "solver = 분해용법\n",
    "lbfgs : softmax회귀를 지원하는 알고리즘\n",
    "ovr : 알고리즘이름인데 추후 알아볼 것 '''\n",
    "LR = LogisticRegression(random_state=0,solver='lbfgs',multi_class='ovr')\n",
    "\n",
    "'''선형회귀에서 규제가 추가된 것'''\n",
    "'''릿지 prediction'''\n",
    "#from sklearn.linear_model import Ridge \n",
    "#alpha는 규제도를 조절 -> 0에 가까울수록 선형회귀와 같아짐\n",
    "#ridge_reg = Ridge(alpha=1, solver=\"cholesky\")#쇼레스키 분해 용법 사용 \n",
    "#ridge_reg.fit(X, Y)\n",
    "#ridge_reg.predict([[1.5]])\n",
    "\n",
    "'''라쏘'''\n",
    "'''라쏘회귀는 덜 중요한 특성의 가중치를 완전 제거하려는 점이 특징'''\n",
    "#from sklearn.linear_model import Lasso \n",
    "#lasso_reg = Lasso(alpha=0.1)\n",
    "#lasso_reg.fit(X, Y)\n",
    "#lasso_reg.predict([[1.5]])\n",
    "\n",
    "'''엘라스틱넷 - 라쏘와 릿지를 혼합\n",
    "r = 0 : 릿지\n",
    "r = 1 : 라쏘'''\n",
    "#from sklearn.linear_model import ElasticNet\n",
    "#elastic_net = ElasticNet(alpha=0.1, l1_ratio=0.5)\n",
    "#elastic_net.fit(X,Y)\n",
    "#elastic_net.predict([[1.5]])"
   ]
  },
  {
   "cell_type": "code",
   "execution_count": 26,
   "metadata": {
    "scrolled": true
   },
   "outputs": [
    {
     "name": "stderr",
     "output_type": "stream",
     "text": [
      "C:\\Users\\tlsal\\Anaconda3\\lib\\site-packages\\sklearn\\linear_model\\logistic.py:947: ConvergenceWarning: lbfgs failed to converge. Increase the number of iterations.\n",
      "  \"of iterations.\", ConvergenceWarning)\n"
     ]
    },
    {
     "data": {
      "text/plain": [
       "LogisticRegression(C=1.0, class_weight=None, dual=False, fit_intercept=True,\n",
       "                   intercept_scaling=1, l1_ratio=None, max_iter=100,\n",
       "                   multi_class='ovr', n_jobs=None, penalty='l2', random_state=0,\n",
       "                   solver='lbfgs', tol=0.0001, verbose=0, warm_start=False)"
      ]
     },
     "execution_count": 26,
     "metadata": {},
     "output_type": "execute_result"
    }
   ],
   "source": [
    "LR.fit(x,y)"
   ]
  },
  {
   "cell_type": "code",
   "execution_count": 30,
   "metadata": {
    "scrolled": true
   },
   "outputs": [
    {
     "data": {
      "text/plain": [
       "array([0, 0, 0, 1, 0, 0, 0, 0, 0, 0, 1, 1], dtype=int64)"
      ]
     },
     "execution_count": 30,
     "metadata": {},
     "output_type": "execute_result"
    }
   ],
   "source": [
    "LR.predict(x.iloc[450:,:])"
   ]
  },
  {
   "cell_type": "code",
   "execution_count": 31,
   "metadata": {},
   "outputs": [
    {
     "data": {
      "text/plain": [
       "0.7359307359307359"
      ]
     },
     "execution_count": 31,
     "metadata": {},
     "output_type": "execute_result"
    }
   ],
   "source": [
    "'''로지스틱 정확도 -> score가 정확히 뭐지... 정확도는 아닌듯'''\n",
    "LR.score(x,y)"
   ]
  },
  {
   "cell_type": "code",
   "execution_count": 33,
   "metadata": {},
   "outputs": [
    {
     "data": {
      "text/plain": [
       "array([[0.87854791, 0.12145209],\n",
       "       [0.924622  , 0.075378  ],\n",
       "       [0.54795593, 0.45204407],\n",
       "       [0.47920793, 0.52079207],\n",
       "       [0.83333158, 0.16666842],\n",
       "       [0.82960649, 0.17039351],\n",
       "       [0.61919272, 0.38080728],\n",
       "       [0.73122497, 0.26877503],\n",
       "       [0.75199501, 0.24800499],\n",
       "       [0.70694988, 0.29305012],\n",
       "       [0.41461202, 0.58538798],\n",
       "       [0.10484853, 0.89515147]])"
      ]
     },
     "execution_count": 33,
     "metadata": {},
     "output_type": "execute_result"
    }
   ],
   "source": [
    "'''양성/음성의 시그모이드 예측 확률 값'''\n",
    "LR.predict_proba(x.iloc[450:,:])"
   ]
  },
  {
   "cell_type": "markdown",
   "metadata": {},
   "source": [
    "---\n",
    "### SVM\n",
    "---\n",
    "- 정확도가 상대적으로 떨어지는 것을 확인가능 svm = 0.37"
   ]
  },
  {
   "cell_type": "code",
   "execution_count": 35,
   "metadata": {},
   "outputs": [
    {
     "name": "stderr",
     "output_type": "stream",
     "text": [
      "C:\\Users\\tlsal\\Anaconda3\\lib\\site-packages\\sklearn\\svm\\base.py:929: ConvergenceWarning: Liblinear failed to converge, increase the number of iterations.\n",
      "  \"the number of iterations.\", ConvergenceWarning)\n"
     ]
    },
    {
     "data": {
      "text/plain": [
       "LinearSVC(C=1.0, class_weight=None, dual=True, fit_intercept=True,\n",
       "          intercept_scaling=1, loss='squared_hinge', max_iter=1000,\n",
       "          multi_class='ovr', penalty='l2', random_state=None, tol=0.0001,\n",
       "          verbose=0)"
      ]
     },
     "execution_count": 35,
     "metadata": {},
     "output_type": "execute_result"
    }
   ],
   "source": [
    "'''SVC는 클래스 분류\n",
    "SVR은 수치값 예측하는 regression'''\n",
    "SVM = svm.LinearSVC()\n",
    "SVM.fit(x,y)"
   ]
  },
  {
   "cell_type": "code",
   "execution_count": 36,
   "metadata": {},
   "outputs": [
    {
     "data": {
      "text/plain": [
       "array([1, 1, 1, 1, 1, 1, 1, 1, 1, 1, 1, 1], dtype=int64)"
      ]
     },
     "execution_count": 36,
     "metadata": {},
     "output_type": "execute_result"
    }
   ],
   "source": [
    "SVM.predict(x.iloc[450:,:])"
   ]
  },
  {
   "cell_type": "code",
   "execution_count": 37,
   "metadata": {},
   "outputs": [
    {
     "data": {
      "text/plain": [
       "0.37445887445887444"
      ]
     },
     "execution_count": 37,
     "metadata": {},
     "output_type": "execute_result"
    }
   ],
   "source": [
    "SVM.score(x,y)"
   ]
  },
  {
   "cell_type": "markdown",
   "metadata": {},
   "source": [
    "---\n",
    "### RF\n",
    "---"
   ]
  },
  {
   "cell_type": "code",
   "execution_count": 149,
   "metadata": {},
   "outputs": [],
   "source": [
    "x_train, x_test, y_train, y_test = train_test_split(txt_df.iloc[:,:9], \n",
    "                                                    np.array(txt_df['chd'].tolist()), \n",
    "                                                    test_size=0.2, \n",
    "                                                    stratify=np.array(txt_df['chd'].tolist()), \n",
    "                                                    random_state=123456)\n",
    "\n",
    "NFOLDS = 5\n",
    "folds = KFold(n_splits=NFOLDS)\n",
    "y_train = pd.Series(y_train)\n",
    "\n",
    "columns = x_train.columns\n",
    "splits = folds.split(x_train, y_train)\n",
    "y_preds = np.zeros(x_test.shape[0])\n",
    "y_oof = np.zeros(x_train.shape[0])\n",
    "score = 0\n",
    "\n",
    "feature_importances = pd.DataFrame()\n",
    "feature_importances['feature'] = columns"
   ]
  },
  {
   "cell_type": "code",
   "execution_count": null,
   "metadata": {},
   "outputs": [],
   "source": [
    "for fold_n, (train_index,valid_index) in enumerate(splits):\n",
    "    x_train2, x_valid = x_train.iloc[train_index],x_train.iloc[valid_index]\n",
    "    y_train2, y_valid = y_train.iloc[train_index], y_train.iloc[valid_index]\n",
    "    \n",
    "    RF = RandomForestClassifier(n_estimators=100, max_depth=2,random_state=0)\n",
    "    RF.fit(x_train2,y_train2)\n",
    "    \n",
    "    \n",
    "    \n",
    "    "
   ]
  },
  {
   "cell_type": "code",
   "execution_count": 146,
   "metadata": {},
   "outputs": [
    {
     "data": {
      "text/plain": [
       "0.6774193548387096"
      ]
     },
     "execution_count": 146,
     "metadata": {},
     "output_type": "execute_result"
    }
   ],
   "source": [
    "accuracy_score(RF.predict(x_test),y_test)"
   ]
  },
  {
   "cell_type": "code",
   "execution_count": 147,
   "metadata": {},
   "outputs": [
    {
     "data": {
      "text/plain": [
       "0.6433734939759036"
      ]
     },
     "execution_count": 147,
     "metadata": {},
     "output_type": "execute_result"
    }
   ],
   "source": [
    "roc_auc_score(RF.predict(x_test),y_test)"
   ]
  },
  {
   "cell_type": "code",
   "execution_count": null,
   "metadata": {},
   "outputs": [],
   "source": []
  },
  {
   "cell_type": "markdown",
   "metadata": {},
   "source": [
    "---\n",
    "#### Neural Net\n",
    "---\n",
    "- 다층 신경 퍼셉트론인 MLP이용하여 예측"
   ]
  },
  {
   "cell_type": "code",
   "execution_count": 46,
   "metadata": {},
   "outputs": [],
   "source": [
    "NN =MLPClassifier(solver='lbfgs',hidden_layer_sizes=(5,2),random_state=1)"
   ]
  },
  {
   "cell_type": "code",
   "execution_count": 48,
   "metadata": {},
   "outputs": [
    {
     "data": {
      "text/plain": [
       "MLPClassifier(activation='relu', alpha=0.0001, batch_size='auto', beta_1=0.9,\n",
       "              beta_2=0.999, early_stopping=False, epsilon=1e-08,\n",
       "              hidden_layer_sizes=(5, 2), learning_rate='constant',\n",
       "              learning_rate_init=0.001, max_iter=200, momentum=0.9,\n",
       "              n_iter_no_change=10, nesterovs_momentum=True, power_t=0.5,\n",
       "              random_state=1, shuffle=True, solver='lbfgs', tol=0.0001,\n",
       "              validation_fraction=0.1, verbose=False, warm_start=False)"
      ]
     },
     "execution_count": 48,
     "metadata": {},
     "output_type": "execute_result"
    }
   ],
   "source": [
    "NN.fit(x,y)"
   ]
  },
  {
   "cell_type": "code",
   "execution_count": 49,
   "metadata": {},
   "outputs": [
    {
     "data": {
      "text/plain": [
       "array([0, 0, 0, 0, 0, 0, 0, 0, 0, 0, 0, 0], dtype=int64)"
      ]
     },
     "execution_count": 49,
     "metadata": {},
     "output_type": "execute_result"
    }
   ],
   "source": [
    "NN.predict(x.iloc[450:,:])"
   ]
  },
  {
   "cell_type": "code",
   "execution_count": 50,
   "metadata": {},
   "outputs": [
    {
     "data": {
      "text/plain": [
       "0.6536796536796536"
      ]
     },
     "execution_count": 50,
     "metadata": {},
     "output_type": "execute_result"
    }
   ],
   "source": [
    "NN.score(x,y)"
   ]
  },
  {
   "cell_type": "markdown",
   "metadata": {},
   "source": [
    "---\n",
    "### xgbooting\n",
    "---\n",
    "- 교차검증"
   ]
  },
  {
   "cell_type": "code",
   "execution_count": 151,
   "metadata": {},
   "outputs": [],
   "source": [
    "x_train, x_test, y_train, y_test = train_test_split(txt_df.iloc[:,:9], \n",
    "                                                    np.array(txt_df['chd'].tolist()), \n",
    "                                                    test_size=0.2, \n",
    "                                                    stratify=np.array(txt_df['chd'].tolist()), \n",
    "                                                    random_state=123456)\n",
    "\n",
    "NFOLDS = 5\n",
    "folds = KFold(n_splits=NFOLDS)\n",
    "y_train = pd.Series(y_train)\n",
    "\n",
    "columns = x_train.columns\n",
    "splits = folds.split(x_train, y_train)\n",
    "y_preds = np.zeros(x_test.shape[0])\n",
    "y_oof = np.zeros(x_train.shape[0])\n",
    "score = 0\n",
    "\n",
    "feature_importances = pd.DataFrame()\n",
    "feature_importances['feature'] = columns"
   ]
  },
  {
   "cell_type": "code",
   "execution_count": 152,
   "metadata": {},
   "outputs": [
    {
     "name": "stdout",
     "output_type": "stream",
     "text": [
      "Fold 1 | AUC: 0.6383333333333333\n",
      "Fold 2 | AUC: 0.553030303030303\n",
      "Fold 3 | AUC: 0.7098214285714286\n",
      "Fold 4 | AUC: 0.6109613656783469\n",
      "Fold 5 | AUC: 0.6323260073260074\n",
      "\n",
      "Mean AUC = 0.6288944875878838\n",
      "Out of folds AUC = 0.6267343101659751\n"
     ]
    }
   ],
   "source": [
    "score = 0\n",
    "for fold_n, (train_index, valid_index) in enumerate(splits):\n",
    "    x_train2, x_valid = x_train[columns].iloc[train_index], x_train[columns].iloc[valid_index]\n",
    "    y_train2, y_valid = y_train.iloc[train_index], y_train.iloc[valid_index]\n",
    "    \n",
    "    #dtrain = xgb.DMatrix(data=x_train2,label=y_train2)\n",
    "    #dvalid = xgb.DMatrix(data=x_valid, label=y_valid)\n",
    "    \n",
    "    #모델 생성(classification, regressor)\n",
    "    xgb_class = xgb.XGBClassifier(n_estimators=1000,random_state=0,max_depth=2,eval_metric='auc')\n",
    "    #모델 학습 (train,valid)\n",
    "    xgb_class.fit(x_train2,y_train2)\n",
    "    \n",
    "    feature_importances[f'fold_{fold_n + 1}'] = xgb_class.feature_importances_\n",
    "    y_pred_valid = xgb_class.predict(x_valid)\n",
    "    y_oof[valid_index] = y_pred_valid\n",
    "    \n",
    "    print(f\"Fold {fold_n + 1} | AUC: {roc_auc_score(y_valid, y_pred_valid)}\")\n",
    "    \n",
    "    score += roc_auc_score(y_valid, y_pred_valid) / NFOLDS\n",
    "    y_preds += xgb_class.predict(x_test) / NFOLDS\n",
    "    #y_test와의 성능 비교는 auc를 평가척도로 놓았기 때문에 그대로 y_test와 auc로 성능을 검증하면 됨\n",
    "    #근데 의문은 1/0으로 binary로 결과치가 도출되는데 왜 predict_proba로 예측을 하지 않지?\n",
    "    \n",
    "    #데이터 메모리를 최적화하면서 모델링 진행\n",
    "    del x_train2, x_valid, y_train2, y_valid\n",
    "    gc.collect()\n",
    "    \n",
    "print(f\"\\nMean AUC = {score}\")\n",
    "print(f\"Out of folds AUC = {roc_auc_score(y_train, y_oof)}\")"
   ]
  },
  {
   "cell_type": "code",
   "execution_count": 101,
   "metadata": {},
   "outputs": [],
   "source": [
    "#각 변수의 cross_validation별 평균 변수중요도\n",
    "feature_importances['average'] = feature_importances[[f'fold_{fold_n + 1}' for fold_n in range(folds.n_splits)]].mean(axis=1)"
   ]
  },
  {
   "cell_type": "code",
   "execution_count": 109,
   "metadata": {},
   "outputs": [
    {
     "data": {
      "image/png": "[encoded data removed]",
      "text/plain": [
       "<Figure size 864x432 with 1 Axes>"
      ]
     },
     "metadata": {},
     "output_type": "display_data"
    }
   ],
   "source": [
    "plt.figure(figsize=(12, 6))\n",
    "sns.barplot(data=feature_importances.sort_values(by='average', ascending=False), x='average', y='feature');\n",
    "plt.title('TOP feature importance over {} folds average'.format(folds.n_splits));"
   ]
  },
  {
   "cell_type": "markdown",
   "metadata": {},
   "source": [
    "---\n",
    "### Light GBM Classification\n",
    "---\n",
    "- 교차검증"
   ]
  },
  {
   "cell_type": "code",
   "execution_count": 154,
   "metadata": {},
   "outputs": [],
   "source": [
    "x_train, x_test, y_train, y_test = train_test_split(txt_df.iloc[:,:9], \n",
    "                                                    np.array(txt_df['chd'].tolist()), \n",
    "                                                    test_size=0.2, \n",
    "                                                    stratify=np.array(txt_df['chd'].tolist()), \n",
    "                                                    random_state=123456)\n",
    "\n",
    "NFOLDS = 5\n",
    "folds = KFold(n_splits=NFOLDS)\n",
    "y_train = pd.Series(y_train)\n",
    "\n",
    "columns = x_train.columns\n",
    "splits = folds.split(x_train, y_train)\n",
    "y_preds = np.zeros(x_test.shape[0])\n",
    "y_oof = np.zeros(x_train.shape[0])\n",
    "score = 0\n",
    "\n",
    "feature_importances = pd.DataFrame()\n",
    "feature_importances['feature'] = columns"
   ]
  },
  {
   "cell_type": "code",
   "execution_count": 155,
   "metadata": {},
   "outputs": [
    {
     "name": "stdout",
     "output_type": "stream",
     "text": [
      "Fold 1 | AUC: 0.6075\n",
      "Fold 2 | AUC: 0.6143939393939394\n",
      "Fold 3 | AUC: 0.6979166666666667\n",
      "Fold 4 | AUC: 0.573225516621743\n",
      "Fold 5 | AUC: 0.6227106227106227\n",
      "\n",
      "Mean AUC = 0.6231493490785944\n",
      "Out of folds AUC = 0.6220986773858921\n"
     ]
    }
   ],
   "source": [
    "for fold_n, (train_index, valid_index) in enumerate(splits):\n",
    "    x_train2, x_valid = x_train[columns].iloc[train_index], x_train[columns].iloc[valid_index]\n",
    "    y_train2, y_valid = y_train.iloc[train_index], y_train.iloc[valid_index]\n",
    "    \n",
    "    #dtrain = lgb.Dataset(x_train2, label=y_train2)\n",
    "    #dvalid = lgb.Dataset(x_valid, label=y_valid)\n",
    "    \n",
    "    #clf = lgb.train(params, dtrain, 1000, valid_sets = [dtrain, dvalid], verbose_eval=200,early_stopping_rounds=500)\n",
    "    lgb_class = lgb.LGBMClassifier(eval_metric = 'auc',objective='binary', class_weight='balanced',n_estimators=1000)\n",
    "    lgb_class.fit(x_train2,y_train2)\n",
    "    \n",
    "    feature_importances[f'fold_{fold_n + 1}'] = lgb_class.feature_importances_\n",
    "    \n",
    "    y_pred_valid = lgb_class.predict(x_valid)\n",
    "    y_oof[valid_index] = y_pred_valid\n",
    "    print(f\"Fold {fold_n + 1} | AUC: {roc_auc_score(y_valid, y_pred_valid)}\")\n",
    "    \n",
    "    score += roc_auc_score(y_valid, y_pred_valid) / NFOLDS\n",
    "    y_preds += lgb_class.predict(x_test) / NFOLDS\n",
    "    \n",
    "    del x_train2, x_valid, y_train2, y_valid\n",
    "    gc.collect()\n",
    "    \n",
    "print(f\"\\nMean AUC = {score}\")\n",
    "print(f\"Out of folds AUC = {roc_auc_score(y_train, y_oof)}\")"
   ]
  },
  {
   "cell_type": "code",
   "execution_count": 137,
   "metadata": {},
   "outputs": [],
   "source": [
    "feature_importances['average'] = feature_importances[[f'fold_{fold_n+1}' for fold_n in range(folds.n_splits)]].mean(axis=1)"
   ]
  },
  {
   "cell_type": "code",
   "execution_count": 138,
   "metadata": {},
   "outputs": [
    {
     "data": {
      "image/png": "[encoded data removed]",
      "text/plain": [
       "<Figure size 864x432 with 1 Axes>"
      ]
     },
     "metadata": {},
     "output_type": "display_data"
    }
   ],
   "source": [
    "plt.figure(figsize=(12, 6))\n",
    "sns.barplot(data=feature_importances.sort_values(by='average', ascending=False), x='average', y='feature');\n",
    "plt.title('TOP feature importance over {} folds average'.format(folds.n_splits));"
   ]
  },
  {
   "cell_type": "markdown",
   "metadata": {},
   "source": [
    "---\n",
    "# Multiple classification(class 3개이상)\n",
    "---"
   ]
  },
  {
   "cell_type": "code",
   "execution_count": 4,
   "metadata": {},
   "outputs": [],
   "source": [
    "v_train = pd.read_table('vowel_train.txt',sep=',')\n",
    "v_test = pd.read_table('vowel_test.txt',sep=',')\n",
    "\n",
    "v_train.drop(columns='row.names',inplace=True)\n",
    "v_test.drop(columns='row.names',inplace=True)"
   ]
  },
  {
   "cell_type": "code",
   "execution_count": 5,
   "metadata": {},
   "outputs": [
    {
     "data": {
      "text/html": [
       "<div>\n",
       "<style scoped>\n",
       "    .dataframe tbody tr th:only-of-type {\n",
       "        vertical-align: middle;\n",
       "    }\n",
       "\n",
       "    .dataframe tbody tr th {\n",
       "        vertical-align: top;\n",
       "    }\n",
       "\n",
       "    .dataframe thead th {\n",
       "        text-align: right;\n",
       "    }\n",
       "</style>\n",
       "<table border=\"1\" class=\"dataframe\">\n",
       "  <thead>\n",
       "    <tr style=\"text-align: right;\">\n",
       "      <th></th>\n",
       "      <th>y</th>\n",
       "      <th>x.1</th>\n",
       "      <th>x.2</th>\n",
       "      <th>x.3</th>\n",
       "      <th>x.4</th>\n",
       "      <th>x.5</th>\n",
       "      <th>x.6</th>\n",
       "      <th>x.7</th>\n",
       "      <th>x.8</th>\n",
       "      <th>x.9</th>\n",
       "      <th>x.10</th>\n",
       "    </tr>\n",
       "  </thead>\n",
       "  <tbody>\n",
       "    <tr>\n",
       "      <th>0</th>\n",
       "      <td>1</td>\n",
       "      <td>-3.639</td>\n",
       "      <td>0.418</td>\n",
       "      <td>-0.670</td>\n",
       "      <td>1.779</td>\n",
       "      <td>-0.168</td>\n",
       "      <td>1.627</td>\n",
       "      <td>-0.388</td>\n",
       "      <td>0.529</td>\n",
       "      <td>-0.874</td>\n",
       "      <td>-0.814</td>\n",
       "    </tr>\n",
       "    <tr>\n",
       "      <th>1</th>\n",
       "      <td>2</td>\n",
       "      <td>-3.327</td>\n",
       "      <td>0.496</td>\n",
       "      <td>-0.694</td>\n",
       "      <td>1.365</td>\n",
       "      <td>-0.265</td>\n",
       "      <td>1.933</td>\n",
       "      <td>-0.363</td>\n",
       "      <td>0.510</td>\n",
       "      <td>-0.621</td>\n",
       "      <td>-0.488</td>\n",
       "    </tr>\n",
       "    <tr>\n",
       "      <th>2</th>\n",
       "      <td>3</td>\n",
       "      <td>-2.120</td>\n",
       "      <td>0.894</td>\n",
       "      <td>-1.576</td>\n",
       "      <td>0.147</td>\n",
       "      <td>-0.707</td>\n",
       "      <td>1.559</td>\n",
       "      <td>-0.579</td>\n",
       "      <td>0.676</td>\n",
       "      <td>-0.809</td>\n",
       "      <td>-0.049</td>\n",
       "    </tr>\n",
       "    <tr>\n",
       "      <th>3</th>\n",
       "      <td>4</td>\n",
       "      <td>-2.287</td>\n",
       "      <td>1.809</td>\n",
       "      <td>-1.498</td>\n",
       "      <td>1.012</td>\n",
       "      <td>-1.053</td>\n",
       "      <td>1.060</td>\n",
       "      <td>-0.567</td>\n",
       "      <td>0.235</td>\n",
       "      <td>-0.091</td>\n",
       "      <td>-0.795</td>\n",
       "    </tr>\n",
       "    <tr>\n",
       "      <th>4</th>\n",
       "      <td>5</td>\n",
       "      <td>-2.598</td>\n",
       "      <td>1.938</td>\n",
       "      <td>-0.846</td>\n",
       "      <td>1.062</td>\n",
       "      <td>-1.633</td>\n",
       "      <td>0.764</td>\n",
       "      <td>0.394</td>\n",
       "      <td>-0.150</td>\n",
       "      <td>0.277</td>\n",
       "      <td>-0.396</td>\n",
       "    </tr>\n",
       "  </tbody>\n",
       "</table>\n",
       "</div>"
      ],
      "text/plain": [
       "   y    x.1    x.2    x.3    x.4    x.5    x.6    x.7    x.8    x.9   x.10\n",
       "0  1 -3.639  0.418 -0.670  1.779 -0.168  1.627 -0.388  0.529 -0.874 -0.814\n",
       "1  2 -3.327  0.496 -0.694  1.365 -0.265  1.933 -0.363  0.510 -0.621 -0.488\n",
       "2  3 -2.120  0.894 -1.576  0.147 -0.707  1.559 -0.579  0.676 -0.809 -0.049\n",
       "3  4 -2.287  1.809 -1.498  1.012 -1.053  1.060 -0.567  0.235 -0.091 -0.795\n",
       "4  5 -2.598  1.938 -0.846  1.062 -1.633  0.764  0.394 -0.150  0.277 -0.396"
      ]
     },
     "execution_count": 5,
     "metadata": {},
     "output_type": "execute_result"
    }
   ],
   "source": [
    "v_train.head()"
   ]
  },
  {
   "cell_type": "code",
   "execution_count": 6,
   "metadata": {},
   "outputs": [],
   "source": [
    "x_tr = v_train.iloc[:,1:]\n",
    "y_tr = v_train.iloc[:,0]\n",
    "\n",
    "x_te = v_test.iloc[:,1:]\n",
    "y_te = v_test.iloc[:,0]"
   ]
  },
  {
   "cell_type": "code",
   "execution_count": 59,
   "metadata": {},
   "outputs": [
    {
     "data": {
      "text/plain": [
       "11    48\n",
       "10    48\n",
       "9     48\n",
       "8     48\n",
       "7     48\n",
       "6     48\n",
       "5     48\n",
       "4     48\n",
       "3     48\n",
       "2     48\n",
       "1     48\n",
       "Name: y, dtype: int64"
      ]
     },
     "execution_count": 59,
     "metadata": {},
     "output_type": "execute_result"
    }
   ],
   "source": [
    "'''perfect balance data / 10 class'''\n",
    "y_tr.value_counts()"
   ]
  },
  {
   "cell_type": "markdown",
   "metadata": {},
   "source": [
    "---\n",
    "### Logistic Regression\n",
    "---"
   ]
  },
  {
   "cell_type": "code",
   "execution_count": 60,
   "metadata": {},
   "outputs": [
    {
     "name": "stderr",
     "output_type": "stream",
     "text": [
      "C:\\Users\\tlsal\\Anaconda3\\lib\\site-packages\\sklearn\\linear_model\\logistic.py:947: ConvergenceWarning: lbfgs failed to converge. Increase the number of iterations.\n",
      "  \"of iterations.\", ConvergenceWarning)\n"
     ]
    },
    {
     "data": {
      "text/plain": [
       "LogisticRegression(C=1.0, class_weight=None, dual=False, fit_intercept=True,\n",
       "                   intercept_scaling=1, l1_ratio=None, max_iter=100,\n",
       "                   multi_class='multinomial', n_jobs=None, penalty='l2',\n",
       "                   random_state=0, solver='lbfgs', tol=0.0001, verbose=0,\n",
       "                   warm_start=False)"
      ]
     },
     "execution_count": 60,
     "metadata": {},
     "output_type": "execute_result"
    }
   ],
   "source": [
    "LR = LogisticRegression(random_state=0,solver = 'lbfgs', multi_class='multinomial')\n",
    "LR.fit(x_tr,y_tr)"
   ]
  },
  {
   "cell_type": "code",
   "execution_count": 62,
   "metadata": {
    "scrolled": true
   },
   "outputs": [
    {
     "data": {
      "text/plain": [
       "0.461038961038961"
      ]
     },
     "execution_count": 62,
     "metadata": {},
     "output_type": "execute_result"
    }
   ],
   "source": [
    "LR.score(x_te,y_te)"
   ]
  },
  {
   "cell_type": "code",
   "execution_count": 65,
   "metadata": {},
   "outputs": [
    {
     "data": {
      "text/plain": [
       "array([[34,  8,  0,  0,  0,  0,  0,  0,  0,  0,  0],\n",
       "       [17, 18,  5,  0,  0,  1,  0,  0,  0,  0,  1],\n",
       "       [ 0,  7, 18, 12,  0,  5,  0,  0,  0,  0,  0],\n",
       "       [ 0,  0,  2, 27,  0, 13,  0,  0,  0,  0,  0],\n",
       "       [ 0,  0,  0,  7, 12, 15,  8,  0,  0,  0,  0],\n",
       "       [ 0,  0,  5,  6,  5, 17,  1,  0,  0,  0,  8],\n",
       "       [ 0,  4,  0,  1, 14,  9,  8,  0,  6,  0,  0],\n",
       "       [ 0,  0,  0,  0,  4,  0,  0, 22, 14,  2,  0],\n",
       "       [ 0,  1,  1,  0,  0,  0,  2,  7, 21,  6,  4],\n",
       "       [ 8,  0,  6,  0,  0,  0,  0,  7,  1, 14,  6],\n",
       "       [ 0,  2,  2,  2,  0,  9,  2,  0,  2,  1, 22]], dtype=int64)"
      ]
     },
     "execution_count": 65,
     "metadata": {},
     "output_type": "execute_result"
    }
   ],
   "source": [
    "confusion_matrix(y_te,LR.predict(x_te))"
   ]
  },
  {
   "cell_type": "code",
   "execution_count": 77,
   "metadata": {},
   "outputs": [],
   "source": [
    "'''멀티클래스 분류에서의 auc구하는 함수'''\n",
    "def multiclass_roc_auc_score(y_test, y_pred, average=\"macro\"):\n",
    "    #멀티클래스를 이항 분류?? \n",
    "    lb = preprocessing.LabelBinarizer()\n",
    "    lb.fit(y_test)\n",
    "    \n",
    "    y_test = lb.transform(y_test)\n",
    "    y_pred = lb.transform(y_pred)\n",
    "    \n",
    "    return roc_auc_score(y_test, y_pred, average=average)"
   ]
  },
  {
   "cell_type": "code",
   "execution_count": 80,
   "metadata": {},
   "outputs": [
    {
     "data": {
      "text/plain": [
       "0.7035714285714285"
      ]
     },
     "execution_count": 80,
     "metadata": {},
     "output_type": "execute_result"
    }
   ],
   "source": [
    "multiclass_roc_auc_score(y_te,LR.predict(x_te))"
   ]
  },
  {
   "cell_type": "markdown",
   "metadata": {},
   "source": [
    "---\n",
    "### SVM\n",
    "---"
   ]
  },
  {
   "cell_type": "code",
   "execution_count": 81,
   "metadata": {},
   "outputs": [
    {
     "name": "stderr",
     "output_type": "stream",
     "text": [
      "C:\\Users\\tlsal\\Anaconda3\\lib\\site-packages\\sklearn\\svm\\base.py:193: FutureWarning: The default value of gamma will change from 'auto' to 'scale' in version 0.22 to account better for unscaled features. Set gamma explicitly to 'auto' or 'scale' to avoid this warning.\n",
      "  \"avoid this warning.\", FutureWarning)\n"
     ]
    }
   ],
   "source": [
    "'''svm에서 다중분류를 도와주는 파라미터'''\n",
    "SVM = svm.SVC(decision_function_shape='ovo').fit(x_tr,y_tr)"
   ]
  },
  {
   "cell_type": "code",
   "execution_count": 83,
   "metadata": {},
   "outputs": [
    {
     "data": {
      "text/plain": [
       "0.6406926406926406"
      ]
     },
     "execution_count": 83,
     "metadata": {},
     "output_type": "execute_result"
    }
   ],
   "source": [
    "SVM.score(x_te,y_te)"
   ]
  },
  {
   "cell_type": "code",
   "execution_count": 84,
   "metadata": {},
   "outputs": [
    {
     "data": {
      "text/plain": [
       "0.8023809523809523"
      ]
     },
     "execution_count": 84,
     "metadata": {},
     "output_type": "execute_result"
    }
   ],
   "source": [
    "multiclass_roc_auc_score(y_te,SVM.predict(x_te))"
   ]
  },
  {
   "cell_type": "markdown",
   "metadata": {},
   "source": [
    "---\n",
    "### RF\n",
    "---"
   ]
  },
  {
   "cell_type": "code",
   "execution_count": 85,
   "metadata": {},
   "outputs": [],
   "source": [
    "RF = RandomForestClassifier(n_estimators=1000,max_depth=10,random_state=0).fit(x_tr,y_tr)"
   ]
  },
  {
   "cell_type": "code",
   "execution_count": 86,
   "metadata": {},
   "outputs": [
    {
     "data": {
      "text/plain": [
       "0.5757575757575758"
      ]
     },
     "execution_count": 86,
     "metadata": {},
     "output_type": "execute_result"
    }
   ],
   "source": [
    "RF.score(x_te,y_te)"
   ]
  },
  {
   "cell_type": "code",
   "execution_count": 87,
   "metadata": {},
   "outputs": [
    {
     "data": {
      "text/plain": [
       "0.7666666666666665"
      ]
     },
     "execution_count": 87,
     "metadata": {},
     "output_type": "execute_result"
    }
   ],
   "source": [
    "multiclass_roc_auc_score(y_te,RF.predict(x_te))"
   ]
  },
  {
   "cell_type": "markdown",
   "metadata": {},
   "source": [
    "---\n",
    "### MLP (신경망)\n",
    "---"
   ]
  },
  {
   "cell_type": "code",
   "execution_count": null,
   "metadata": {},
   "outputs": [],
   "source": []
  }
 ],
 "metadata": {
  "kernelspec": {
   "display_name": "Python 3",
   "language": "python",
   "name": "python3"
  },
  "language_info": {
   "codemirror_mode": {
    "name": "ipython",
    "version": 3
   },
   "file_extension": ".py",
   "mimetype": "text/x-python",
   "name": "python",
   "nbconvert_exporter": "python",
   "pygments_lexer": "ipython3",
   "version": "3.7.4"
  }
 },
 "nbformat": 4,
 "nbformat_minor": 2
}
